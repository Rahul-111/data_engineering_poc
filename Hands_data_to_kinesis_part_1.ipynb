{
 "cells": [
  {
   "cell_type": "code",
   "execution_count": 15,
   "id": "2db9048a-9c21-46d8-a6cc-de713f516c22",
   "metadata": {},
   "outputs": [],
   "source": [
    "import os\n",
    "import boto3\n",
    "import json\n",
    "import pandas as pd"
   ]
  },
  {
   "cell_type": "code",
   "execution_count": 16,
   "id": "f78c9127-3411-4582-8fbe-eb63db37bbbb",
   "metadata": {},
   "outputs": [],
   "source": [
    "os.environ[\"AWS_ACCESS_KEY_ID\"] = \"dummy\"\n",
    "os.environ[\"AWS_SECRET_ACCESS_KEY\"] = \"dummy\"\n",
    "os.environ[\"AWS_REGION\"] = \"ap-south-1\""
   ]
  },
  {
   "cell_type": "code",
   "execution_count": 17,
   "id": "8ebdb85d-5e6e-46d0-8225-895b0051e2e9",
   "metadata": {},
   "outputs": [],
   "source": [
    "def create_kinesis_stream(stream_name, shard_count):\n",
    "    try:\n",
    "        # Initialize the Kinesis client\n",
    "        kinesis_client = boto3.client(\n",
    "            'kinesis', \n",
    "            region_name='ap-south-1',\n",
    "            endpoint_url='http://localhost:4566',\n",
    "            aws_access_key_id='dummy',  \n",
    "            aws_secret_access_key='dummy'\n",
    "        )\n",
    "\n",
    "        # Create the Kinesis stream\n",
    "        response = kinesis_client.create_stream(\n",
    "            StreamName=stream_name,\n",
    "            ShardCount=shard_count\n",
    "        )\n",
    "\n",
    "        # Check for successful response\n",
    "        if response['ResponseMetadata']['HTTPStatusCode'] == 200:\n",
    "            print(f\"Kinesis stream '{stream_name}' created with {shard_count} shard(s)\")\n",
    "        else:\n",
    "            print(\"Failed to create Kinesis stream\")\n",
    "\n",
    "    except Exception as e:\n",
    "        print(f\"Error: {str(e)}\")\n",
    "\n",
    "def delete_kinesis_stream(stream_name):\n",
    "    try:\n",
    "        # Initialize the Kinesis client\n",
    "        kinesis_client = boto3.client(\n",
    "            'kinesis', \n",
    "            region_name='ap-south-1',\n",
    "            endpoint_url='http://localhost:4566',\n",
    "            aws_access_key_id='dummy',  \n",
    "            aws_secret_access_key='dummy'\n",
    "        )\n",
    "\n",
    "        # Delete the Kinesis stream\n",
    "        response = kinesis_client.delete_stream(\n",
    "            StreamName=stream_name\n",
    "        )\n",
    "\n",
    "        # Check for successful response\n",
    "        if response['ResponseMetadata']['HTTPStatusCode'] == 200:\n",
    "            print(f\"Kinesis stream '{stream_name}' deleted successfully\")\n",
    "        else:\n",
    "            print(\"Failed to delete Kinesis stream\")\n",
    "\n",
    "    except Exception as e:\n",
    "        print(f\"Error: {str(e)}\")"
   ]
  },
  {
   "cell_type": "code",
   "execution_count": 18,
   "id": "ba3d8938-69ef-4493-a2b6-968ede1803c7",
   "metadata": {},
   "outputs": [
    {
     "name": "stdout",
     "output_type": "stream",
     "text": [
      "Kinesis stream 'input-stream' created with 1 shard(s)\n"
     ]
    }
   ],
   "source": [
    "create_kinesis_stream(\"input-stream\", 1)"
   ]
  },
  {
   "cell_type": "code",
   "execution_count": 23,
   "id": "41da5cac-01ba-4f21-a6bf-8fc0f6cfb502",
   "metadata": {},
   "outputs": [],
   "source": [
    "import datetime\n",
    "import json\n",
    "import random\n",
    "import boto3\n",
    "\n",
    "STREAM_NAME = \"input-stream\"\n",
    "\n",
    "\n",
    "def upload_data(stream_name, kinesis_client, num_samples):\n",
    "\n",
    "    df = pd.read_parquet('../../../rahulsrivastav/Downloads/handsdata_2024-05-20 00-00-38.parquet')\n",
    "    events_array = df.to_dict('records')[:10]\n",
    "    for event in events_array:    \n",
    "        kinesis_client.put_record(\n",
    "            StreamName=stream_name,\n",
    "            Data=json.dumps(event),\n",
    "            PartitionKey=\"partitionkey\"\n",
    "        )\n",
    "    \n",
    "        \n",
    "if __name__ == '__main__':\n",
    "\n",
    "    num_samples = 20\n",
    "    client = boto3.client(\n",
    "            'kinesis', \n",
    "            region_name='ap-south-1',\n",
    "            endpoint_url='http://localhost:4566',\n",
    "            aws_access_key_id='dummy',  \n",
    "            aws_secret_access_key='dummy'\n",
    "        )\n",
    "    \n",
    "    upload_data(STREAM_NAME, client, num_samples)"
   ]
  },
  {
   "cell_type": "code",
   "execution_count": 20,
   "id": "04be4217-d5f7-4618-8664-e320dd69434b",
   "metadata": {},
   "outputs": [],
   "source": [
    "df = pd.read_parquet('../../../rahulsrivastav/Downloads/handsdata_2024-05-20 00-00-38.parquet')"
   ]
  },
  {
   "cell_type": "code",
   "execution_count": 21,
   "id": "ff4722c8-a467-4ab8-adce-7f96ce9ef80a",
   "metadata": {},
   "outputs": [
    {
     "data": {
      "text/html": [
       "<div>\n",
       "<style scoped>\n",
       "    .dataframe tbody tr th:only-of-type {\n",
       "        vertical-align: middle;\n",
       "    }\n",
       "\n",
       "    .dataframe tbody tr th {\n",
       "        vertical-align: top;\n",
       "    }\n",
       "\n",
       "    .dataframe thead th {\n",
       "        text-align: right;\n",
       "    }\n",
       "</style>\n",
       "<table border=\"1\" class=\"dataframe\">\n",
       "  <thead>\n",
       "    <tr style=\"text-align: right;\">\n",
       "      <th></th>\n",
       "      <th>event_uuid</th>\n",
       "      <th>event_name</th>\n",
       "      <th>event_data</th>\n",
       "      <th>event_type</th>\n",
       "      <th>event_timestamp</th>\n",
       "      <th>shard_id</th>\n",
       "      <th>event_source</th>\n",
       "      <th>event_version</th>\n",
       "    </tr>\n",
       "  </thead>\n",
       "  <tbody>\n",
       "    <tr>\n",
       "      <th>0</th>\n",
       "      <td>89b8b6f3-39b8-4e09-8a85-293852285278</td>\n",
       "      <td>GAME_STATS_CASH</td>\n",
       "      <td>{\"hand_id\": 10852530727, \"showdown\": true, \"ri...</td>\n",
       "      <td>HAND_EVENT</td>\n",
       "      <td>1716143303</td>\n",
       "      <td>1085253</td>\n",
       "      <td>NEW</td>\n",
       "      <td>v5.1.6</td>\n",
       "    </tr>\n",
       "    <tr>\n",
       "      <th>1</th>\n",
       "      <td>98530d66-484a-49ef-a3fa-94fd4fcf8478</td>\n",
       "      <td>GAME_STATS_CASH</td>\n",
       "      <td>{\"hand_id\": 10855560362, \"showdown\": true, \"ri...</td>\n",
       "      <td>HAND_EVENT</td>\n",
       "      <td>1716143329</td>\n",
       "      <td>1085556</td>\n",
       "      <td>NEW</td>\n",
       "      <td>v5.1.6</td>\n",
       "    </tr>\n",
       "    <tr>\n",
       "      <th>2</th>\n",
       "      <td>9c86e44c-b499-4b7f-b501-69916c708f18</td>\n",
       "      <td>GAME_STATS_CASH</td>\n",
       "      <td>{\"hand_id\": 10859340121, \"showdown\": false, \"r...</td>\n",
       "      <td>HAND_EVENT</td>\n",
       "      <td>1716143317</td>\n",
       "      <td>1085934</td>\n",
       "      <td>NEW</td>\n",
       "      <td>v5.1.6</td>\n",
       "    </tr>\n",
       "    <tr>\n",
       "      <th>3</th>\n",
       "      <td>bbaee93f-f006-4c8a-8e31-90aa17663baf</td>\n",
       "      <td>GAME_STATS_CASH</td>\n",
       "      <td>{\"hand_id\": 10861380086, \"showdown\": false, \"r...</td>\n",
       "      <td>HAND_EVENT</td>\n",
       "      <td>1716143343</td>\n",
       "      <td>1086138</td>\n",
       "      <td>NEW</td>\n",
       "      <td>v5.1.6</td>\n",
       "    </tr>\n",
       "    <tr>\n",
       "      <th>4</th>\n",
       "      <td>31d2a1c2-65f4-464f-8022-2776bb27892a</td>\n",
       "      <td>GAME_STATS_CASH</td>\n",
       "      <td>{\"hand_id\": 10863000100, \"showdown\": false, \"r...</td>\n",
       "      <td>HAND_EVENT</td>\n",
       "      <td>1716143355</td>\n",
       "      <td>1086300</td>\n",
       "      <td>NEW</td>\n",
       "      <td>v5.1.6</td>\n",
       "    </tr>\n",
       "  </tbody>\n",
       "</table>\n",
       "</div>"
      ],
      "text/plain": [
       "                             event_uuid       event_name  \\\n",
       "0  89b8b6f3-39b8-4e09-8a85-293852285278  GAME_STATS_CASH   \n",
       "1  98530d66-484a-49ef-a3fa-94fd4fcf8478  GAME_STATS_CASH   \n",
       "2  9c86e44c-b499-4b7f-b501-69916c708f18  GAME_STATS_CASH   \n",
       "3  bbaee93f-f006-4c8a-8e31-90aa17663baf  GAME_STATS_CASH   \n",
       "4  31d2a1c2-65f4-464f-8022-2776bb27892a  GAME_STATS_CASH   \n",
       "\n",
       "                                          event_data  event_type  \\\n",
       "0  {\"hand_id\": 10852530727, \"showdown\": true, \"ri...  HAND_EVENT   \n",
       "1  {\"hand_id\": 10855560362, \"showdown\": true, \"ri...  HAND_EVENT   \n",
       "2  {\"hand_id\": 10859340121, \"showdown\": false, \"r...  HAND_EVENT   \n",
       "3  {\"hand_id\": 10861380086, \"showdown\": false, \"r...  HAND_EVENT   \n",
       "4  {\"hand_id\": 10863000100, \"showdown\": false, \"r...  HAND_EVENT   \n",
       "\n",
       "   event_timestamp shard_id event_source event_version  \n",
       "0       1716143303  1085253          NEW        v5.1.6  \n",
       "1       1716143329  1085556          NEW        v5.1.6  \n",
       "2       1716143317  1085934          NEW        v5.1.6  \n",
       "3       1716143343  1086138          NEW        v5.1.6  \n",
       "4       1716143355  1086300          NEW        v5.1.6  "
      ]
     },
     "execution_count": 21,
     "metadata": {},
     "output_type": "execute_result"
    }
   ],
   "source": [
    "df.head()"
   ]
  },
  {
   "cell_type": "code",
   "execution_count": 22,
   "id": "0a2f6e34-007d-4e4f-b2c8-64945a8ff310",
   "metadata": {},
   "outputs": [],
   "source": [
    "# delete_kinesis_stream(stream_name=\"input-stream\")"
   ]
  },
  {
   "cell_type": "code",
   "execution_count": 22,
   "id": "3bebba95-cf63-4ae6-92ff-135d3d8d8496",
   "metadata": {},
   "outputs": [],
   "source": []
  },
  {
   "cell_type": "code",
   "execution_count": null,
   "id": "d53527f6-c67c-46e6-a78d-e3b166add555",
   "metadata": {},
   "outputs": [],
   "source": []
  },
  {
   "cell_type": "code",
   "execution_count": null,
   "id": "6f09fa96-7db8-460c-8f23-2598b49c4747",
   "metadata": {},
   "outputs": [],
   "source": []
  },
  {
   "cell_type": "code",
   "execution_count": null,
   "id": "56a89a73-1c3d-438b-8ec4-7cd16d448f56",
   "metadata": {
    "scrolled": true
   },
   "outputs": [],
   "source": []
  },
  {
   "cell_type": "code",
   "execution_count": null,
   "id": "7ede865b-11e9-4705-9c71-77efd29637ce",
   "metadata": {},
   "outputs": [],
   "source": []
  },
  {
   "cell_type": "code",
   "execution_count": null,
   "id": "4592dbba-b806-4721-a478-db8eebc8c1a6",
   "metadata": {},
   "outputs": [],
   "source": []
  }
 ],
 "metadata": {
  "kernelspec": {
   "display_name": "Python 3 (ipykernel)",
   "language": "python",
   "name": "python3"
  },
  "language_info": {
   "codemirror_mode": {
    "name": "ipython",
    "version": 3
   },
   "file_extension": ".py",
   "mimetype": "text/x-python",
   "name": "python",
   "nbconvert_exporter": "python",
   "pygments_lexer": "ipython3",
   "version": "3.9.6"
  }
 },
 "nbformat": 4,
 "nbformat_minor": 5
}
