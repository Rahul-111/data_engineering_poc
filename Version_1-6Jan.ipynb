{
	"metadata": {
		"kernelspec": {
			"name": "glue_pyspark",
			"display_name": "Glue PySpark",
			"language": "python"
		},
		"language_info": {
			"name": "Python_Glue_Session",
			"mimetype": "text/x-python",
			"codemirror_mode": {
				"name": "python",
				"version": 3
			},
			"pygments_lexer": "python3",
			"file_extension": ".py"
		}
	},
	"nbformat_minor": 4,
	"nbformat": 4,
	"cells": [
		{
			"cell_type": "markdown",
			"source": "# AWS Glue Studio Notebook\n##### You are now running a AWS Glue Studio notebook; To start using your notebook you need to start an AWS Glue Interactive Session.\n",
			"metadata": {
				"editable": true,
				"trusted": true
			}
		},
		{
			"cell_type": "markdown",
			"source": "#### Optional: Run this cell to see available notebook commands (\"magics\").\n",
			"metadata": {
				"editable": true,
				"trusted": true
			}
		},
		{
			"cell_type": "code",
			"source": "# %help",
			"metadata": {
				"trusted": true,
				"editable": true
			},
			"execution_count": 1,
			"outputs": [
				{
					"name": "stdout",
					"text": "Welcome to the Glue Interactive Sessions Kernel\nFor more information on available magic commands, please type %help in any new cell.\n\nPlease view our Getting Started page to access the most up-to-date information on the Interactive Sessions kernel: https://docs.aws.amazon.com/glue/latest/dg/interactive-sessions.html\nInstalled kernel version: 1.0.2 \n",
					"output_type": "stream"
				}
			]
		},
		{
			"cell_type": "markdown",
			"source": "####  Run this cell to set up and start your interactive session.\n",
			"metadata": {
				"editable": true,
				"trusted": true
			}
		},
		{
			"cell_type": "code",
			"source": "# %idle_timeout 2880\n# %glue_version 4.0\n# %worker_type G.1X\n# %number_of_workers 5\n\n# import sys\n# from awsglue.transforms import *\n# from awsglue.utils import getResolvedOptions\n# from pyspark.context import SparkContext\n# from awsglue.context import GlueContext\n# from awsglue.job import Job\n  \n# sc = SparkContext.getOrCreate()\n# glueContext = GlueContext(sc)\n# spark = glueContext.spark_session\n# job = Job(glueContext)",
			"metadata": {
				"trusted": true,
				"editable": true
			},
			"execution_count": 1,
			"outputs": [
				{
					"name": "stdout",
					"text": "Trying to create a Glue session for the kernel.\nSession Type: glueetl\nWorker Type: G.1X\nNumber of Workers: 5\nSession ID: aa10b0a8-14e5-407d-bacc-a0fbcaa1c20d\nApplying the following default arguments:\n--glue_kernel_version 1.0.2\n--enable-glue-datacatalog true\nWaiting for session aa10b0a8-14e5-407d-bacc-a0fbcaa1c20d to get into ready status...\nSession aa10b0a8-14e5-407d-bacc-a0fbcaa1c20d has been created.\n\n",
					"output_type": "stream"
				}
			]
		},
		{
			"cell_type": "markdown",
			"source": "#### Example: Create a DynamicFrame from a table in the AWS Glue Data Catalog and display its schema\n",
			"metadata": {
				"editable": true,
				"trusted": true
			}
		},
		{
			"cell_type": "code",
			"source": "# dyf = glueContext.create_dynamic_frame.from_catalog(database='database_name', table_name='table_name')\n# dyf.printSchema()",
			"metadata": {
				"trusted": true,
				"editable": true
			},
			"execution_count": null,
			"outputs": []
		},
		{
			"cell_type": "markdown",
			"source": "#### Example: Convert the DynamicFrame to a Spark DataFrame and display a sample of the data\n",
			"metadata": {
				"editable": true,
				"trusted": true
			}
		},
		{
			"cell_type": "code",
			"source": "# df = dyf.toDF()\n# df.show()",
			"metadata": {
				"trusted": true,
				"editable": true
			},
			"execution_count": null,
			"outputs": []
		},
		{
			"cell_type": "markdown",
			"source": "#### Example: Visualize data with matplotlib\n",
			"metadata": {
				"editable": true,
				"trusted": true
			}
		},
		{
			"cell_type": "code",
			"source": "# import matplotlib.pyplot as plt\n\n# # Set X-axis and Y-axis values\n# x = [5, 2, 8, 4, 9]\n# y = [10, 4, 8, 5, 2]\n  \n# # Create a bar chart \n# plt.bar(x, y)\n  \n# # Show the plot\n# %matplot plt",
			"metadata": {
				"trusted": true,
				"editable": true
			},
			"execution_count": null,
			"outputs": []
		},
		{
			"cell_type": "markdown",
			"source": "#### Example: Write the data in the DynamicFrame to a location in Amazon S3 and a table for it in the AWS Glue Data Catalog\n",
			"metadata": {
				"editable": true,
				"trusted": true
			}
		},
		{
			"cell_type": "code",
			"source": "# s3output = glueContext.getSink(\n#   path=\"s3://bucket_name/folder_name\",\n#   connection_type=\"s3\",\n#   updateBehavior=\"UPDATE_IN_DATABASE\",\n#   partitionKeys=[],\n#   compression=\"snappy\",\n#   enableUpdateCatalog=True,\n#   transformation_ctx=\"s3output\",\n# )\n# s3output.setCatalogInfo(\n#   catalogDatabase=\"demo\", catalogTableName=\"populations\"\n# )\n# s3output.setFormat(\"glueparquet\")\n# s3output.writeFrame(DyF)",
			"metadata": {
				"trusted": true,
				"editable": true
			},
			"execution_count": null,
			"outputs": []
		},
		{
			"cell_type": "code",
			"source": "%idle_timeout 15\n%glue_version 4.0\n%worker_type G.1X\n%number_of_workers 2\n%additional_python_modules PyAthena,pyarrow==7,awswrangler\n%extra_jars [s3://robin-poc-bucket/rahul/dependency_jar/iceberg-latest/iceberg-aws-bundle-1.4.3.jar,s3://robin-poc-bucket/rahul/dependency_jar/iceberg-latest/iceberg-spark-runtime-3.3_2.12-1.4.3.jar]\n%%configure\n{\n    \"--conf\": \"spark.sql.extensions=org.apache.iceberg.spark.extensions.IcebergSparkSessionExtensions --conf spark.sql.catalog.glue_catalog=org.apache.iceberg.spark.SparkCatalog --conf spark.sql.catalog.glue_catalog.catalog-impl=org.apache.iceberg.aws.glue.GlueCatalog --conf spark.sql.catalog.glue_catalog.io-impl=org.apache.iceberg.aws.s3.S3FileIO --conf spark.sql.catalog.glue_catalog.warehouse=s3://robin-poc-bucket/rahul/warehouse/\"\n}",
			"metadata": {
				"trusted": true,
				"tags": []
			},
			"execution_count": 8,
			"outputs": [
				{
					"name": "stdout",
					"text": "Welcome to the Glue Interactive Sessions Kernel\nFor more information on available magic commands, please type %help in any new cell.\n\nPlease view our Getting Started page to access the most up-to-date information on the Interactive Sessions kernel: https://docs.aws.amazon.com/glue/latest/dg/interactive-sessions.html\nInstalled kernel version: 1.0.2 \nCurrent idle_timeout is None minutes.\nidle_timeout has been set to 15 minutes.\nSetting Glue version to: 4.0\nPrevious worker type: None\nSetting new worker type to: G.1X\nPrevious number of workers: None\nSetting new number of workers to: 2\nAdditional python modules to be included:\nPyAthena\npyarrow==7\nawswrangler\nExtra jars to be included:\ns3://robin-poc-bucket/rahul/dependency_jar/iceberg-latest/iceberg-aws-bundle-1.4.3.jar\ns3://robin-poc-bucket/rahul/dependency_jar/iceberg-latest/iceberg-spark-runtime-3.3_2.12-1.4.3.jar\nThe following configurations have been updated: {'--conf': 'spark.sql.extensions=org.apache.iceberg.spark.extensions.IcebergSparkSessionExtensions --conf spark.sql.catalog.glue_catalog=org.apache.iceberg.spark.SparkCatalog --conf spark.sql.catalog.glue_catalog.catalog-impl=org.apache.iceberg.aws.glue.GlueCatalog --conf spark.sql.catalog.glue_catalog.io-impl=org.apache.iceberg.aws.s3.S3FileIO --conf spark.sql.catalog.glue_catalog.warehouse=s3://robin-poc-bucket/rahul/warehouse/'}\ns3://robin-poc-bucket/rahul/dependency_jar/iceberg-latest/iceberg-aws-bundle-1.4.3.jar,s3://robin-poc-bucket/rahul/dependency_jar/iceberg-latest/iceberg-spark-runtime-3.3_2.12-1.4.3.jar\n",
					"output_type": "stream"
				}
			]
		},
		{
			"cell_type": "code",
			"source": "# %idle_timeout 15\n# %glue_version 4.0\n# %worker_type G.1X\n# %number_of_workers 2\n# # %additional_python_modules PyAthena,pyarrow==7,awswrangler\n# # %extra_jars [s3://pb-4-0-datalake-transformed-layer/rfm_demo/iceberg-spark-runtime-3.3_2.12-1.4.3.jar,s3://pb-4-0-datalake-transformed-layer/rfm_demo/iceberg-aws-bundle-1.4.3.jar]\n\n# # %extra_jars [s3://robin-poc-bucket/rahul/dependency_jar/elasticsearch-hadoop-5.6.4.jar]\n\n\n\n# # %%configure\n# # {\n# #     \"--conf\": \"spark.sql.extensions=org.apache.iceberg.spark.extensions.IcebergSparkSessionExtensions --conf spark.sql.catalog.glue_catalog=org.apache.iceberg.spark.SparkCatalog --conf spark.sql.catalog.glue_catalog.catalog-impl=org.apache.iceberg.aws.glue.GlueCatalog --conf spark.sql.catalog.glue_catalog.io-impl=org.apache.iceberg.aws.s3.S3FileIO --conf spark.sql.catalog.glue_catalog.warehouse=s3://robin-poc-bucket/rahul/warehouse/ --conf es.index.auto.create=true\",\n# #     \"--datalake-formats\": \"iceberg\" \n# # }\n\n\n# %%configure\n# {\n#     \"--conf\": \"spark.sql.defaultCatalog=my_catalog --conf spark.sql.catalog.my_catalog=org.apache.iceberg.spark.SparkCatalog --conf spark.sql.catalog.my_catalog.warehouse=s3://robin-poc-bucket/rahul/warehouse/ --conf spark.sql.catalog.my_catalog.catalog-impl=org.apache.iceberg.aws.glue.GlueCatalog --conf spark.sql.catalog.my_catalog.io-impl=org.apache.iceberg.aws.s3.S3FileIO\",\n#     \"--packages\": \"org.apache.iceberg:iceberg-spark-runtime-3.3_2.12:1.3.0\" \n# }\n\n",
			"metadata": {
				"trusted": true,
				"tags": []
			},
			"execution_count": 13,
			"outputs": [
				{
					"name": "stderr",
					"text": "You are already connected to a glueetl session 02865035-2028-43be-b34f-eff5d0a5cc39.\n\nNo change will be made to the current session that is set as glueetl. The session configuration change will apply to newly created sessions.\n",
					"output_type": "stream"
				},
				{
					"name": "stdout",
					"text": "Current idle_timeout is 15 minutes.\nidle_timeout has been set to 15 minutes.\n",
					"output_type": "stream"
				},
				{
					"name": "stderr",
					"text": "You are already connected to a glueetl session 02865035-2028-43be-b34f-eff5d0a5cc39.\n\nNo change will be made to the current session that is set as glueetl. The session configuration change will apply to newly created sessions.\n",
					"output_type": "stream"
				},
				{
					"name": "stdout",
					"text": "Setting Glue version to: 4.0\n",
					"output_type": "stream"
				},
				{
					"name": "stderr",
					"text": "You are already connected to a glueetl session 02865035-2028-43be-b34f-eff5d0a5cc39.\n\nNo change will be made to the current session that is set as glueetl. The session configuration change will apply to newly created sessions.\n",
					"output_type": "stream"
				},
				{
					"name": "stdout",
					"text": "Previous worker type: G.1X\nSetting new worker type to: G.1X\n",
					"output_type": "stream"
				},
				{
					"name": "stderr",
					"text": "You are already connected to a glueetl session 02865035-2028-43be-b34f-eff5d0a5cc39.\n\nNo change will be made to the current session that is set as glueetl. The session configuration change will apply to newly created sessions.\n",
					"output_type": "stream"
				},
				{
					"name": "stdout",
					"text": "Previous number of workers: 2\nSetting new number of workers to: 2\n",
					"output_type": "stream"
				},
				{
					"name": "stderr",
					"text": "You are already connected to a glueetl session 02865035-2028-43be-b34f-eff5d0a5cc39.\n\nNo change will be made to the current session that is set as glueetl. The session configuration change will apply to newly created sessions.\n",
					"output_type": "stream"
				},
				{
					"name": "stdout",
					"text": "Extra jars to be included:\ns3://robin-poc-bucket/rahul/dependency_jar/elasticsearch-hadoop-5.6.4.jar\n",
					"output_type": "stream"
				},
				{
					"name": "stderr",
					"text": "You are already connected to a glueetl session 02865035-2028-43be-b34f-eff5d0a5cc39.\n\nNo change will be made to the current session that is set as glueetl. The session configuration change will apply to newly created sessions.\n",
					"output_type": "stream"
				},
				{
					"name": "stdout",
					"text": "The following configurations have been updated: {'--conf': 'spark.sql.defaultCatalog=my_catalog --conf spark.sql.catalog.my_catalog=org.apache.iceberg.spark.SparkCatalog --conf spark.sql.catalog.my_catalog.warehouse=s3://robin-poc-bucket/rahul/warehouse/ --conf spark.sql.catalog.my_catalog.catalog-impl=org.apache.iceberg.aws.glue.GlueCatalog --conf spark.sql.catalog.my_catalog.io-impl=org.apache.iceberg.aws.s3.S3FileIO', '--packages': 'org.apache.iceberg:iceberg-spark-runtime-3.3_2.12:1.3.0'}\ns3://robin-poc-bucket/rahul/dependency_jar/elasticsearch-hadoop-5.6.4.jar\n",
					"output_type": "stream"
				}
			]
		},
		{
			"cell_type": "code",
			"source": "from pyspark.sql.types import StructType, StructField, StringType, LongType, DoubleType, BooleanType, ArrayType, DateType\nfrom pyspark.sql.types import StructType, StructField, ArrayType, StringType, IntegerType, LongType, DoubleType, BooleanType\nfrom pyspark.sql.functions import col, count, when, sum, min, max, expr\nfrom pyspark.sql import functions as F\nimport boto3",
			"metadata": {
				"trusted": true,
				"tags": []
			},
			"execution_count": 1,
			"outputs": [
				{
					"name": "stdout",
					"text": "Trying to create a Glue session for the kernel.\nSession Type: glueetl\nWorker Type: G.1X\nNumber of Workers: 2\nSession ID: 24e8f4a5-9a58-4962-8b3f-1b3bb7d40cc6\nApplying the following default arguments:\n--glue_kernel_version 1.0.2\n--enable-glue-datacatalog true\n--conf spark.sql.extensions=org.apache.iceberg.spark.extensions.IcebergSparkSessionExtensions --conf spark.sql.catalog.glue_catalog=org.apache.iceberg.spark.SparkCatalog --conf spark.sql.catalog.glue_catalog.catalog-impl=org.apache.iceberg.aws.glue.GlueCatalog --conf spark.sql.catalog.glue_catalog.io-impl=org.apache.iceberg.aws.s3.S3FileIO --conf spark.sql.catalog.glue_catalog.warehouse=s3://robin-poc-bucket/rahul/warehouse/\n--extra-jars s3://robin-poc-bucket/rahul/dependency_jar/iceberg-latest/iceberg-aws-bundle-1.4.3.jar,s3://robin-poc-bucket/rahul/dependency_jar/iceberg-latest/iceberg-spark-runtime-3.3_2.12-1.4.3.jar\n--additional-python-modules PyAthena,pyarrow==7,awswrangler\nWaiting for session 24e8f4a5-9a58-4962-8b3f-1b3bb7d40cc6 to get into ready status...\nSession 24e8f4a5-9a58-4962-8b3f-1b3bb7d40cc6 has been created.\n\n",
					"output_type": "stream"
				}
			]
		},
		{
			"cell_type": "code",
			"source": "df = spark.read.format(\"iceberg\").load(\"glue_catalog.iceberg_sample_db.hands\")",
			"metadata": {
				"trusted": true,
				"tags": []
			},
			"execution_count": 1,
			"outputs": [
				{
					"name": "stdout",
					"text": "Trying to create a Glue session for the kernel.\nSession Type: glueetl\nWorker Type: G.1X\nNumber of Workers: 2\nSession ID: 1c5a4fbd-0605-4399-a7a5-0f709a6bc4e3\nApplying the following default arguments:\n--glue_kernel_version 1.0.2\n--enable-glue-datacatalog true\n--conf spark.sql.extensions=org.apache.iceberg.spark.extensions.IcebergSparkSessionExtensions --conf spark.sql.catalog.glue_catalog=org.apache.iceberg.spark.SparkCatalog --conf spark.sql.catalog.glue_catalog.catalog-impl=org.apache.iceberg.aws.glue.GlueCatalog --conf spark.sql.catalog.glue_catalog.io-impl=org.apache.iceberg.aws.s3.S3FileIO --conf spark.sql.catalog.glue_catalog.warehouse=s3://robin-poc-bucket/rahul/warehouse/\n--datalake-formats iceberg\nWaiting for session 1c5a4fbd-0605-4399-a7a5-0f709a6bc4e3 to get into ready status...\nSession 1c5a4fbd-0605-4399-a7a5-0f709a6bc4e3 has been created.\n\n",
					"output_type": "stream"
				}
			]
		},
		{
			"cell_type": "code",
			"source": "df.show()",
			"metadata": {
				"trusted": true,
				"tags": []
			},
			"execution_count": 2,
			"outputs": [
				{
					"name": "stdout",
					"text": "+--------------------+--------------------+--------------------+----------+---------------+--------+------------+-------------+\n|          event_uuid|          event_name|          event_data|event_type|event_timestamp|shard_id|event_source|event_version|\n+--------------------+--------------------+--------------------+----------+---------------+--------+------------+-------------+\n|fe620371-b13e-487...|     GAME_STATS_CASH|{null, [{SPADE, 3...|HAND_EVENT|     1703097322|  519279|         NEW|       v5.1.5|\n|d756b9cb-956e-4a0...|     GAME_STATS_CASH|{null, [], [], 17...|HAND_EVENT|     1703097390|  519008|         NEW|       v5.1.5|\n|10088931-a145-4e7...|     GAME_STATS_CASH|{null, [{SPADE, 7...|HAND_EVENT|     1703097354|  518424|         NEW|       v5.1.5|\n|9d8ae792-a2d4-4d1...|GAME_STATS_ALLINFOLD|{null, [{DIAMOND,...|HAND_EVENT|     1703097373|  258917|         NEW|       v5.1.5|\n|273d113e-be6a-457...|     GAME_STATS_CASH|{null, [{SPADE, 3...|HAND_EVENT|     1703097361|  519457|         NEW|       v5.1.5|\n|1f13db7f-5628-486...|     GAME_STATS_CASH|{null, [{DIAMOND,...|HAND_EVENT|     1703097298|  519367|         NEW|       v5.1.5|\n|a352ee55-a42c-4dc...|     GAME_STATS_CASH|{null, [{DIAMOND,...|HAND_EVENT|     1703097370|  518825|         NEW|       v5.1.5|\n|48b3f44a-89db-42d...|     GAME_STATS_CASH|{null, [{HEART, 2...|HAND_EVENT|     1703097333|  519042|         NEW|       v5.1.5|\n|105b832f-648c-498...|     GAME_STATS_CASH|{null, [{SPADE, 1...|HAND_EVENT|     1703097307|  518265|         NEW|       v5.1.5|\n|6f83a775-44a7-4c3...|     GAME_STATS_CASH|{null, [{DIAMOND,...|HAND_EVENT|     1703097338|  518964|         NEW|       v5.1.5|\n|e654aee4-4a21-4f4...|     GAME_STATS_CASH|{null, [{DIAMOND,...|HAND_EVENT|     1703097360|  518557|         NEW|       v5.1.5|\n|0631662c-d824-44d...|     GAME_STATS_CASH|{null, [{CLUB, 13...|HAND_EVENT|     1703097366|  518728|         NEW|       v5.1.5|\n|4f91ca54-d528-4f0...|GAME_STATS_ALLINFOLD|{null, [], [], 17...|HAND_EVENT|     1703097395|  258873|         NEW|       v5.1.5|\n|db62e8b9-c5ba-4d4...|     GAME_STATS_CASH|{null, [{HEART, 5...|HAND_EVENT|     1703097333|  519372|         NEW|       v5.1.5|\n|aa6b65d1-6ae6-4bd...|     GAME_STATS_CASH|{null, [{DIAMOND,...|HAND_EVENT|     1703097372|  519136|         NEW|       v5.1.5|\n|824c86d1-13d8-45e...|     GAME_STATS_ZOOM|{null, [], [], 17...|HAND_EVENT|     1703097400|  196854|         NEW|       v5.1.5|\n|fc7e3bda-6241-460...|GAME_STATS_ALLINFOLD|{null, [{CLUB, 11...|HAND_EVENT|     1703097387|  258795|         NEW|       v5.1.5|\n|6b86ae2e-86e9-443...|     GAME_STATS_CASH|{null, [], [], 17...|HAND_EVENT|     1703097397|  519522|         NEW|       v5.1.5|\n|772beb5f-fa9c-452...|     GAME_STATS_CASH|{null, [{DIAMOND,...|HAND_EVENT|     1703097373|  519459|         NEW|       v5.1.5|\n|40b5a3cb-5c13-4ce...|     GAME_STATS_ZOOM|{null, [{CLUB, 12...|HAND_EVENT|     1703097391|  196856|         NEW|       v5.1.5|\n+--------------------+--------------------+--------------------+----------+---------------+--------+------------+-------------+\nonly showing top 20 rows\n",
					"output_type": "stream"
				}
			]
		},
		{
			"cell_type": "code",
			"source": "df_1 = spark.read.parquet(\"s3://robin-poc-bucket/rahul/test_1/raw/\")",
			"metadata": {
				"trusted": true,
				"tags": []
			},
			"execution_count": 5,
			"outputs": [
				{
					"name": "stdout",
					"text": "\n",
					"output_type": "stream"
				}
			]
		},
		{
			"cell_type": "code",
			"source": "df_1.show()",
			"metadata": {
				"trusted": true,
				"tags": []
			},
			"execution_count": 7,
			"outputs": [
				{
					"name": "stdout",
					"text": "+--------------------+---------------+--------------------+----------+---------------+--------+------------+-------------+\n|          event_uuid|     event_name|          event_data|event_type|event_timestamp|shard_id|event_source|event_version|\n+--------------------+---------------+--------------------+----------+---------------+--------+------------+-------------+\n|ee2437bd-096c-43c...|GAME_STATS_ZOOM|{null, [{CLUB, 11...|HAND_EVENT|     1690370310|  149541|         NEW|       v5.1.2|\n|2b38b30b-ab8e-4ca...|GAME_STATS_ZOOM|{null, [{HEART, 6...|HAND_EVENT|     1690370342|  149538|         NEW|       v5.1.2|\n|27a4e1a2-057e-414...|GAME_STATS_ZOOM|{null, [], [], 16...|HAND_EVENT|     1690370351|  149536|         NEW|       v5.1.2|\n|16da9520-383a-4a4...|GAME_STATS_ZOOM|{null, [], [], 16...|HAND_EVENT|     1690370369|  149541|         NEW|       v5.1.2|\n+--------------------+---------------+--------------------+----------+---------------+--------+------------+-------------+\n",
					"output_type": "stream"
				}
			]
		},
		{
			"cell_type": "code",
			"source": "df_1.createOrReplaceTempView(\"tmp_hands_data\")\n\n\nquery = f\"\"\"\nCREATE TABLE glue_catalog.iceberg_sample_db.hands_2\nUSING iceberg\nTBLPROPERTIES (\"format-version\"=\"2\")\nAS SELECT * FROM tmp_hands_data\n\"\"\"\nspark.sql(query)",
			"metadata": {
				"trusted": true,
				"tags": []
			},
			"execution_count": 8,
			"outputs": [
				{
					"name": "stdout",
					"text": "DataFrame[]\n",
					"output_type": "stream"
				}
			]
		},
		{
			"cell_type": "code",
			"source": "# try with stream\n\n# df_s = spark.readStream.format(\"parquet\").load(\"s3://robin-poc-bucket/rahul/test_1/raw/\")",
			"metadata": {
				"trusted": true,
				"tags": []
			},
			"execution_count": 3,
			"outputs": [
				{
					"name": "stdout",
					"text": "IllegalArgumentException: \nSchema must be specified when creating a streaming source DataFrame. If some\nfiles already exist in the directory, then depending on the file format you\nmay be able to create a static DataFrame on that directory with\n'spark.read.load(directory)' and infer schema from it.\n       \n",
					"output_type": "stream"
				}
			]
		},
		{
			"cell_type": "code",
			"source": "",
			"metadata": {
				"trusted": true,
				"tags": []
			},
			"execution_count": 8,
			"outputs": [
				{
					"name": "stdout",
					"text": "\n",
					"output_type": "stream"
				}
			]
		},
		{
			"cell_type": "code",
			"source": "def get_schema():\n    SCHEMA = StructType([\n        StructField(\"event_data\", StructType([\n            StructField(\"community_cards\", ArrayType(StructType([\n                StructField(\"card_suit\", StringType()),\n                StructField(\"card_value\", IntegerType())\n            ]))),\n            StructField(\"community_cards_rit\", ArrayType(StructType([\n                StructField(\"card_suit\", StringType()),\n                StructField(\"card_value\", IntegerType())\n            ]))),\n            StructField(\"game_end_timestamp\", IntegerType()),\n            StructField(\"game_start_timestamp\", IntegerType()),\n            StructField(\"hand_id\", LongType()),\n            StructField(\"player_details\", ArrayType(StructType([\n                StructField(\"cards\", ArrayType(StructType([\n                    StructField(\"card_suit\", StringType()),\n                    StructField(\"card_value\", IntegerType())\n                ]))),\n                StructField(\"chip_stack_end\", DoubleType()),\n                StructField(\"chip_stack_start\", DoubleType()),\n                StructField(\"position\", StringType()),\n                StructField(\"profit_loss\", DoubleType()),\n                StructField(\"reference_number\", StringType()),\n                StructField(\"seat_index\", IntegerType()),\n                StructField(\"session_id\", StringType()),\n                StructField(\"total_bets\", DoubleType()),\n                StructField(\"total_win\", DoubleType()),\n                StructField(\"user_id\", LongType()),\n                StructField(\"username\", StringType()),\n                StructField(\"rake\", StructType([\n                    StructField(\"bonus_rake\", DoubleType()),\n                    StructField(\"net_rake\", DoubleType()),\n                    StructField(\"service_tax\", DoubleType()),\n                    StructField(\"total_rake\", DoubleType())\n                ]))\n            ]))),\n            StructField(\"players_in_hand\", IntegerType()),\n            StructField(\"rit_game\", IntegerType()),\n            StructField(\"round_details\", StructType([\n                StructField(\"flop\", StructType([\n                    StructField(\"player_action\", ArrayType(StructType([\n                        StructField(\"action\", StringType()),\n                        StructField(\"amount\", DoubleType()),\n                        StructField(\"chip_stack_end\", DoubleType()),\n                        StructField(\"chip_stack_start\", DoubleType()),\n                        StructField(\"position\", StringType()),\n                        StructField(\"timestamp\", IntegerType()),\n                        StructField(\"total_pot\", DoubleType()),\n                        StructField(\"user_id\", IntegerType()),\n                        StructField(\"username\", StringType())\n                    ]))),\n                    StructField(\"pot_details\", ArrayType(DoubleType()))\n                ])),\n                StructField(\"preflop\", StructType([\n                    StructField(\"player_action\", ArrayType(StructType([\n                        StructField(\"action\", StringType()),\n                        StructField(\"amount\", DoubleType()),\n                        StructField(\"chip_stack_end\", DoubleType()),\n                        StructField(\"chip_stack_start\", DoubleType()),\n                        StructField(\"position\", StringType()),\n                        StructField(\"timestamp\", IntegerType()),\n                        StructField(\"total_pot\", DoubleType()),\n                        StructField(\"user_id\", IntegerType()),\n                        StructField(\"username\", StringType())\n                    ]))),\n                    StructField(\"pot_details\", ArrayType(DoubleType()))\n                ])),\n                StructField(\"river\", StructType([\n                    StructField(\"player_action\", ArrayType(StructType([\n                        StructField(\"action\", StringType()),\n                        StructField(\"amount\", DoubleType()),\n                        StructField(\"chip_stack_end\", DoubleType()),\n                        StructField(\"chip_stack_start\", DoubleType()),\n                        StructField(\"position\", StringType()),\n                        StructField(\"timestamp\", IntegerType()),\n                        StructField(\"total_pot\", DoubleType()),\n                        StructField(\"user_id\", IntegerType()),\n                        StructField(\"username\", StringType())\n                    ]))),\n                    StructField(\"pot_details\", ArrayType(DoubleType()))\n                ])),\n                StructField(\"showdown\", StructType([\n                    StructField(\"pot_details\", ArrayType(DoubleType())),\n                    StructField(\"pot_details_rit\", ArrayType(DoubleType())),\n                    StructField(\"pot_winners\", ArrayType(StructType([\n                        StructField(\"pot_amount\", DoubleType()),\n                        StructField(\"pot_contestants\", ArrayType(IntegerType())),\n                        StructField(\"winner_details\", ArrayType(StructType([\n                            StructField(\"amount\", DoubleType()),\n                            StructField(\"timestamp\", IntegerType()),\n                            StructField(\"user_id\", IntegerType()),\n                            StructField(\"win_type\", StringType())\n                        ])))\n                    ]))),\n                    StructField(\"pot_winners_rit\", ArrayType(StructType([\n                        StructField(\"pot_amount\", DoubleType()),\n                        StructField(\"pot_contestants\", ArrayType(IntegerType())),\n                        StructField(\"winner_details\", ArrayType(StructType([\n                            StructField(\"amount\", DoubleType()),\n                            StructField(\"timestamp\", IntegerType()),\n                            StructField(\"user_id\", IntegerType()),\n                            StructField(\"win_type\", StringType())\n                        ])))\n                    ])))\n                ])),\n                StructField(\"turn\", StructType([\n                    StructField(\"player_action\", ArrayType(StructType([\n                        StructField(\"action\", StringType()),\n                        StructField(\"amount\", DoubleType()),\n                        StructField(\"chip_stack_end\", DoubleType()),\n                        StructField(\"chip_stack_start\", DoubleType()),\n                        StructField(\"position\", StringType()),\n                        StructField(\"timestamp\", IntegerType()),\n                        StructField(\"total_pot\", DoubleType()),\n                        StructField(\"user_id\", IntegerType()),\n                        StructField(\"username\", StringType())\n                    ]))),\n                    StructField(\"pot_details\", ArrayType(DoubleType()))\n                ]))\n            ])),\n            StructField(\"showdown\", BooleanType()),\n            StructField(\"table_info\", StructType([\n                StructField(\"big_blind\", DoubleType()),\n                StructField(\"is_anonymous\", BooleanType()),\n                StructField(\"max_buyin\", DoubleType()),\n                StructField(\"min_buyin\", DoubleType()),\n                StructField(\"mini_game_type_id\", StringType()),\n                StructField(\"players_per_table\", IntegerType()),\n                StructField(\"small_blind\", DoubleType()),\n                StructField(\"table_child_id\", IntegerType()),\n                StructField(\"table_id\", IntegerType()),\n                StructField(\"table_type\", StringType())\n            ])),\n            StructField(\"total_pot\", DoubleType()),\n            StructField(\"user_stats\", ArrayType(StructType([\n                StructField(\"3bet\", BooleanType()),\n                StructField(\"3bet_opportunity\", BooleanType()),\n                StructField(\"all_in\", BooleanType()),\n                StructField(\"allin_opportunity\", BooleanType()),\n                StructField(\"flop_seen\", BooleanType()),\n                StructField(\"fold_opportunity\", BooleanType()),\n                StructField(\"hp\", BooleanType()),\n                StructField(\"pfr_count\", BooleanType()),\n                StructField(\"pfr_opportunity\", BooleanType()),\n                StructField(\"pr\", BooleanType()),\n                StructField(\"time_played\", IntegerType()),\n                StructField(\"user_id\", IntegerType()),\n                StructField(\"user_won\", BooleanType()),\n                StructField(\"vpip\", BooleanType()),\n                StructField(\"vpip_opportunity\", BooleanType()),\n                StructField(\"won_at_showdown\", BooleanType()),\n                StructField(\"wtsd\", BooleanType()),\n                StructField(\"fold_on_allin_opportunity\", BooleanType()),\n                StructField(\"fold\", BooleanType()),\n                StructField(\"3bet_fold_opportunity\", BooleanType()),\n                StructField(\"steal_opportunity\", BooleanType()),\n                StructField(\"steal_attempt\", BooleanType()),\n                StructField(\"fold_on_allin\", BooleanType()),\n                StructField(\"check_n_raise_opportunity\", BooleanType()),\n                StructField(\"cbet_opportunity\", BooleanType()),\n                StructField(\"cbet_success\", BooleanType()),\n                StructField(\"fold_to_cbet_opportunity\", BooleanType()),\n                StructField(\"folded_to_cbet\", BooleanType()),\n                StructField(\"folded_to_3bet\", BooleanType()),\n                StructField(\"check_n_raise\", BooleanType())\n            ]))),\n            StructField(\"game_rake\", StructType([\n                StructField(\"bonus_rake\", DoubleType()),\n                StructField(\"net_rake\", DoubleType()),\n                StructField(\"service_tax\", DoubleType()),\n                StructField(\"total_rake\", DoubleType())\n            ]))\n        ])),\n        StructField(\"event_name\", StringType()),\n        StructField(\"event_source\", StringType()),\n        StructField(\"event_timestamp\", IntegerType()),\n        StructField(\"event_uuid\", StringType()),\n        StructField(\"event_version\", StringType())\n    ])\n\n    return SCHEMA",
			"metadata": {
				"trusted": true,
				"tags": []
			},
			"execution_count": 2,
			"outputs": [
				{
					"name": "stdout",
					"text": "\n",
					"output_type": "stream"
				}
			]
		},
		{
			"cell_type": "code",
			"source": "schema = get_schema()",
			"metadata": {
				"trusted": true,
				"tags": []
			},
			"execution_count": 3,
			"outputs": [
				{
					"name": "stdout",
					"text": "\n",
					"output_type": "stream"
				}
			]
		},
		{
			"cell_type": "code",
			"source": "df_s = spark.readStream.format(\"json\").schema(schema).load(\"s3://robin-poc-bucket/rahul/test_1/hands_json_data/\")",
			"metadata": {
				"trusted": true,
				"tags": []
			},
			"execution_count": 5,
			"outputs": [
				{
					"name": "stdout",
					"text": "\n",
					"output_type": "stream"
				}
			]
		},
		{
			"cell_type": "code",
			"source": "check_point_location = \"s3://robin-poc-bucket/rahul/test_1/checkpoint_1/\"\nhands_data_table = \"glue_catalog.iceberg_sample_db.hands_data_v3\"\ncheck_point_location_gold = \"s3://robin-poc-bucket/rahul/test_1/checkpoint_2/\"\nhands_aggregates = \"glue_catalog.iceberg_sample_db.aggregates\"\ncheck_point_location_opensearch = \"s3://robin-poc-bucket/rahul/test_1/checkpoint_3/\"\nes_index = \"test_index_1\"\nes_nodes = \"\"",
			"metadata": {
				"trusted": true,
				"tags": []
			},
			"execution_count": 15,
			"outputs": [
				{
					"name": "stdout",
					"text": "\n",
					"output_type": "stream"
				}
			]
		},
		{
			"cell_type": "code",
			"source": "sbwrite = df_s.writeStream.queryName(\"bronze-ingestion\").format(\"iceberg\").option(\"checkpointLocation\", check_point_location).outputMode(\"append\").toTable(f\"{hands_data_table}\")",
			"metadata": {
				"trusted": true,
				"tags": []
			},
			"execution_count": 7,
			"outputs": [
				{
					"name": "stdout",
					"text": "\n",
					"output_type": "stream"
				}
			]
		},
		{
			"cell_type": "code",
			"source": "# sbwrite.awaitTermination()",
			"metadata": {
				"trusted": true,
				"tags": []
			},
			"execution_count": null,
			"outputs": []
		},
		{
			"cell_type": "code",
			"source": "hands_data_df = spark.readStream.format(\"iceberg\").load(f\"{hands_data_table}\")",
			"metadata": {
				"trusted": true,
				"tags": []
			},
			"execution_count": 8,
			"outputs": [
				{
					"name": "stdout",
					"text": "\n",
					"output_type": "stream"
				}
			]
		},
		{
			"cell_type": "code",
			"source": "hands_data_df = hands_data_df.withColumn(\"player_details\", expr(\"event_data.player_details\"))",
			"metadata": {
				"trusted": true,
				"tags": []
			},
			"execution_count": 9,
			"outputs": [
				{
					"name": "stdout",
					"text": "\n",
					"output_type": "stream"
				}
			]
		},
		{
			"cell_type": "code",
			"source": "flattern_hands_data_df  = hands_data_df.selectExpr(\n            \"event_data.hand_id as hand_id\", \n            \"event_data.game_end_timestamp as game_end_timestamp\",\n            \"event_data.game_start_timestamp as game_start_timestamp\",\n            \"event_data.table_info.big_blind as big_blind\",\n            \"case when event_data.table_info.big_blind = 0 then 0 when event_data.table_info.big_blind = 5 then 2 when event_data.table_info.big_blind = 25 then 10 else event_data.table_info.big_blind/2 end as small_blind\",\n            \"event_name\", \n            \"event_source\", \n            \"event_timestamp\", \n            \"event_uuid\", \n            \"event_version\",\n            \"explode(player_details) as player_detail\", \n            \"date(cast(event_timestamp as timestamp)) as record_date\",\n            \"player_detail.user_id as user_id\",\n            \"player_detail.profit_loss as profit_loss\",\n            \"player_detail.position as position\",\n            \"player_detail.total_bets as stake\",\n            \"player_detail.rake.total_rake as total_rake\",\n            \"player_detail.chip_stack_start as chip_stack_start\",\n            \"player_detail.chip_stack_end as chip_stack_end\",\n            \"player_detail.reference_number as session_id\",\n            \"case when player_detail.total_bets + player_detail.profit_loss = 0 then 0 else  player_detail.total_bets + player_detail.profit_loss + player_detail.rake.total_rake end as win\",\n            \"\"\"case when (replace(cast(event_data.table_info.mini_game_type_id as string), '\"',\"\")) in (\"Holdem\") then 1  when (replace(cast(event_data.table_info.mini_game_type_id as string), '\"',\"\")) in ('Omaha') then 2  when (replace(cast(event_data.table_info.mini_game_type_id as string), '\"',\"\")) in (\"FiveCardPLO\") then 17  when (replace(cast(event_data.table_info.mini_game_type_id as string), '\"',\"\")) in ('SixCardPLO') then 20  when (replace(cast(event_data.table_info.mini_game_type_id as string), '\"',\"\")) in (\"SuperHoldem\") then 21  else 25 end as minigames_type_id\"\"\"\n        ).drop(\"player_detail\")",
			"metadata": {
				"trusted": true,
				"tags": []
			},
			"execution_count": 10,
			"outputs": [
				{
					"name": "stdout",
					"text": "\n",
					"output_type": "stream"
				}
			]
		},
		{
			"cell_type": "code",
			"source": "\nspark.sql(\"\"\"\nCREATE TABLE iceberg_sample_db.aggregates (\n  user_id bigint,\n  record_date date,\n  session_id string,\n  minigames_type_id int,\n  big_blind double,\n  small_blind double,\n  number_of_hands bigint,\n  session_duration string,\n  session_start_time int,\n  session_end_time int,\n  winning_hands bigint,\n  losing_hands bigint,\n  win_amount double)\nLOCATION 's3://robin-poc-bucket/rahul/iceberg/aggregates'\nTBLPROPERTIES (\n  'table_type'='iceberg'\n);\n\n\"\"\")",
			"metadata": {
				"trusted": true,
				"tags": []
			},
			"execution_count": 12,
			"outputs": [
				{
					"name": "stdout",
					"text": "DataFrame[]\n",
					"output_type": "stream"
				}
			]
		},
		{
			"cell_type": "code",
			"source": "flattern_hands_data_df.createOrReplaceTempView(\"hands_data\")\ndf_performance_by_stake = spark.sql(\"\"\"\n    select \n        user_id,\n        record_date,\n        session_id,\n        minigames_type_id,\n        big_blind,\n        small_blind,\n        count(*) as number_of_hands,\n        cast((max(game_end_timestamp) - min(game_start_timestamp)) as string) as session_duration, \n        min(game_start_timestamp) as session_start_time, \n        max(game_start_timestamp) as session_end_time,\n        count(case when (win - stake) > 0 then 1 end) as winning_hands,\n        count(case when (win - stake) < 0 then 1 end) as losing_hands, \n        sum(profit_loss) as win_amount \n    from hands_data\n        group by user_id, record_date, session_id,minigames_type_id, big_blind, small_blind\n\"\"\")",
			"metadata": {
				"trusted": true,
				"tags": []
			},
			"execution_count": 11,
			"outputs": [
				{
					"name": "stdout",
					"text": "\n",
					"output_type": "stream"
				}
			]
		},
		{
			"cell_type": "code",
			"source": "def upsert(results_df, batch_id):\n    results_df.createOrReplaceTempView(\"tmp_hands_agg\")\n    merge_statement = f\"\"\"MERGE INTO {hands_aggregates} t\n            USING tmp_hands_agg s\n            ON s.user_id == t.user_id and s.record_date = t.record_date\n            WHEN MATCHED THEN\n            UPDATE SET *\n            WHEN NOT MATCHED THEN\n            INSERT *\n        \"\"\"\n    results_df._jdf.sparkSession().sql(merge_statement) ",
			"metadata": {
				"trusted": true,
				"tags": []
			},
			"execution_count": 13,
			"outputs": [
				{
					"name": "stdout",
					"text": "\n",
					"output_type": "stream"
				}
			]
		},
		{
			"cell_type": "code",
			"source": "sGold = df_performance_by_stake.writeStream.queryName(\"gold-update_3\").format(\"iceberg\").option(\"checkpointLocation\", f\"{check_point_location_gold}\").outputMode(\"complete\").toTable(f\"{hands_aggregates}\")\n# aggregate_df.writeStream\n#                         .queryName(\"gold-update\")\n#                         .option(\"checkpointLocation\", f\"{self.base_data_dir}/chekpoint/customer_rewards\")\n#                         .outputMode(\"update\")\n#                         .foreachBatch(self.upsert)\n#                         .start()\n\n# sGold = df_performance_by_stake.writeStream.queryName(\"gold-update_2\").option(\"checkpointLocation\", f\"{check_point_location_gold}\").outputMode(\"update\").foreachBatch(upsert).start()",
			"metadata": {
				"trusted": true,
				"tags": []
			},
			"execution_count": 14,
			"outputs": [
				{
					"name": "stdout",
					"text": "\n",
					"output_type": "stream"
				}
			]
		},
		{
			"cell_type": "code",
			"source": "# sGold.awaitTermination()",
			"metadata": {
				"trusted": true,
				"tags": []
			},
			"execution_count": 31,
			"outputs": [
				{
					"name": "stdout",
					"text": "StreamingQueryException: Query gold-update_2 [id = 7dca12ce-680f-4a0d-b596-f6a29fa9deba, runId = b6d594c1-9491-4fe4-9573-5a134e5e87b1] terminated with exception: An exception was raised by the Python Proxy. Return Message: Traceback (most recent call last):\n  File \"/opt/amazon/spark/python/lib/py4j-0.10.9.5-src.zip/py4j/java_gateway.py\", line 2463, in _call_proxy\n    return_value = getattr(self.pool[obj_id], method)(*params)\n  File \"/opt/amazon/spark/python/lib/pyspark.zip/pyspark/sql/utils.py\", line 272, in call\n    raise e\n  File \"/opt/amazon/spark/python/lib/pyspark.zip/pyspark/sql/utils.py\", line 269, in call\n    self.func(DataFrame(jdf, self.session), batch_id)\n  File \"<stdin>\", line 11, in upsert\n  File \"/opt/amazon/spark/python/lib/py4j-0.10.9.5-src.zip/py4j/java_gateway.py\", line 1321, in __call__\n    return_value = get_return_value(\n  File \"/opt/amazon/spark/python/lib/pyspark.zip/pyspark/sql/utils.py\", line 196, in deco\n    raise converted from None\npyspark.sql.utils.AnalysisException: Table or view not found: glue_catalog.iceberg_sample_db.aggregates; line 1 pos 11;\n'MergeIntoTable (('s.user_id = 't.user_id) AND ('s.record_date = 't.record_date)), [updatestaraction(None)], [insertstaraction(None)]\n:- 'SubqueryAlias t\n:  +- 'UnresolvedRelation [glue_catalog, iceberg_sample_db, aggregates], [], false\n+- SubqueryAlias s\n   +- SubqueryAlias tmp_hands_agg\n      +- View (`tmp_hands_agg`, [user_id#729L,record_date#730,session_id#731,minigames_type_id#732,big_blind#733,small_blind#734,number_of_hands#735L,session_duration#736,session_start_time#737,session_end_time#738,winning_hands#739L,losing_hands#740L,win_amount#741])\n         +- LogicalRDD [user_id#729L, record_date#730, session_id#731, minigames_type_id#732, big_blind#733, small_blind#734, number_of_hands#735L, session_duration#736, session_start_time#737, session_end_time#738, winning_hands#739L, losing_hands#740L, win_amount#741], false\n\n\n",
					"output_type": "stream"
				}
			]
		},
		{
			"cell_type": "code",
			"source": "# check_point_location_opensearch = \"\"",
			"metadata": {
				"trusted": true,
				"tags": []
			},
			"execution_count": 7,
			"outputs": []
		},
		{
			"cell_type": "code",
			"source": "aggregate_df.writeStream.outputMode('append') \n    .format(\"org.elasticsearch.spark.sql\") \n    .option(\"path\",self.es_index) \n    .option(\"es.nodes\", self.es_nodes) \n    .option(\"es.port\", 443) \n    .option(\"checkpointLocation\", check_point_location_opensearch) \n    .option(\"es.spark.sql.streaming.sink.log.enabled\", False) \n    .start()\n    .awaitTermination()",
			"metadata": {},
			"execution_count": null,
			"outputs": []
		},
		{
			"cell_type": "code",
			"source": "df = spark.read.format(\"iceberg\").load(\"glue_catalog.iceberg_sample_db.hands\")",
			"metadata": {
				"trusted": true,
				"tags": []
			},
			"execution_count": 9,
			"outputs": [
				{
					"name": "stdout",
					"text": "\n",
					"output_type": "stream"
				}
			]
		},
		{
			"cell_type": "code",
			"source": "df.show()",
			"metadata": {
				"trusted": true,
				"tags": []
			},
			"execution_count": 10,
			"outputs": [
				{
					"name": "stdout",
					"text": "+--------------------+--------------------+--------------------+----------+---------------+--------+------------+-------------+\n|          event_uuid|          event_name|          event_data|event_type|event_timestamp|shard_id|event_source|event_version|\n+--------------------+--------------------+--------------------+----------+---------------+--------+------------+-------------+\n|fe620371-b13e-487...|     GAME_STATS_CASH|{null, [{SPADE, 3...|HAND_EVENT|     1703097322|  519279|         NEW|       v5.1.5|\n|d756b9cb-956e-4a0...|     GAME_STATS_CASH|{null, [], [], 17...|HAND_EVENT|     1703097390|  519008|         NEW|       v5.1.5|\n|10088931-a145-4e7...|     GAME_STATS_CASH|{null, [{SPADE, 7...|HAND_EVENT|     1703097354|  518424|         NEW|       v5.1.5|\n|9d8ae792-a2d4-4d1...|GAME_STATS_ALLINFOLD|{null, [{DIAMOND,...|HAND_EVENT|     1703097373|  258917|         NEW|       v5.1.5|\n|273d113e-be6a-457...|     GAME_STATS_CASH|{null, [{SPADE, 3...|HAND_EVENT|     1703097361|  519457|         NEW|       v5.1.5|\n|1f13db7f-5628-486...|     GAME_STATS_CASH|{null, [{DIAMOND,...|HAND_EVENT|     1703097298|  519367|         NEW|       v5.1.5|\n|a352ee55-a42c-4dc...|     GAME_STATS_CASH|{null, [{DIAMOND,...|HAND_EVENT|     1703097370|  518825|         NEW|       v5.1.5|\n|48b3f44a-89db-42d...|     GAME_STATS_CASH|{null, [{HEART, 2...|HAND_EVENT|     1703097333|  519042|         NEW|       v5.1.5|\n|105b832f-648c-498...|     GAME_STATS_CASH|{null, [{SPADE, 1...|HAND_EVENT|     1703097307|  518265|         NEW|       v5.1.5|\n|6f83a775-44a7-4c3...|     GAME_STATS_CASH|{null, [{DIAMOND,...|HAND_EVENT|     1703097338|  518964|         NEW|       v5.1.5|\n|e654aee4-4a21-4f4...|     GAME_STATS_CASH|{null, [{DIAMOND,...|HAND_EVENT|     1703097360|  518557|         NEW|       v5.1.5|\n|0631662c-d824-44d...|     GAME_STATS_CASH|{null, [{CLUB, 13...|HAND_EVENT|     1703097366|  518728|         NEW|       v5.1.5|\n|4f91ca54-d528-4f0...|GAME_STATS_ALLINFOLD|{null, [], [], 17...|HAND_EVENT|     1703097395|  258873|         NEW|       v5.1.5|\n|db62e8b9-c5ba-4d4...|     GAME_STATS_CASH|{null, [{HEART, 5...|HAND_EVENT|     1703097333|  519372|         NEW|       v5.1.5|\n|aa6b65d1-6ae6-4bd...|     GAME_STATS_CASH|{null, [{DIAMOND,...|HAND_EVENT|     1703097372|  519136|         NEW|       v5.1.5|\n|824c86d1-13d8-45e...|     GAME_STATS_ZOOM|{null, [], [], 17...|HAND_EVENT|     1703097400|  196854|         NEW|       v5.1.5|\n|fc7e3bda-6241-460...|GAME_STATS_ALLINFOLD|{null, [{CLUB, 11...|HAND_EVENT|     1703097387|  258795|         NEW|       v5.1.5|\n|6b86ae2e-86e9-443...|     GAME_STATS_CASH|{null, [], [], 17...|HAND_EVENT|     1703097397|  519522|         NEW|       v5.1.5|\n|772beb5f-fa9c-452...|     GAME_STATS_CASH|{null, [{DIAMOND,...|HAND_EVENT|     1703097373|  519459|         NEW|       v5.1.5|\n|40b5a3cb-5c13-4ce...|     GAME_STATS_ZOOM|{null, [{CLUB, 12...|HAND_EVENT|     1703097391|  196856|         NEW|       v5.1.5|\n+--------------------+--------------------+--------------------+----------+---------------+--------+------------+-------------+\nonly showing top 20 rows\n",
					"output_type": "stream"
				}
			]
		},
		{
			"cell_type": "code",
			"source": "df = df.select(\"shard_id\").withColumnRenamed(\"shard_id\", \"age\")",
			"metadata": {
				"trusted": true,
				"tags": []
			},
			"execution_count": 11,
			"outputs": [
				{
					"name": "stdout",
					"text": "\n",
					"output_type": "stream"
				}
			]
		},
		{
			"cell_type": "code",
			"source": "df.printSchema()",
			"metadata": {
				"trusted": true,
				"tags": []
			},
			"execution_count": 12,
			"outputs": [
				{
					"name": "stdout",
					"text": "root\n |-- age: string (nullable = true)\n",
					"output_type": "stream"
				}
			]
		},
		{
			"cell_type": "code",
			"source": "df.createOrReplaceTempView(\"sample\")",
			"metadata": {
				"trusted": true,
				"tags": []
			},
			"execution_count": 13,
			"outputs": [
				{
					"name": "stdout",
					"text": "\n",
					"output_type": "stream"
				}
			]
		},
		{
			"cell_type": "code",
			"source": "df = spark.sql(\"\"\"\n    select cast(age as int) as age\n    from sample limit 10\n\"\"\")",
			"metadata": {
				"trusted": true,
				"tags": []
			},
			"execution_count": 14,
			"outputs": [
				{
					"name": "stdout",
					"text": "\n",
					"output_type": "stream"
				}
			]
		},
		{
			"cell_type": "code",
			"source": "df.printSchema()",
			"metadata": {
				"trusted": true,
				"tags": []
			},
			"execution_count": 7,
			"outputs": [
				{
					"name": "stdout",
					"text": "root\n |-- age: integer (nullable = true)\n",
					"output_type": "stream"
				}
			]
		},
		{
			"cell_type": "code",
			"source": "",
			"metadata": {},
			"execution_count": null,
			"outputs": []
		},
		{
			"cell_type": "code",
			"source": "df.write.format('org.elasticsearch.spark.sql').option(\"path\",\"sample-index1\").option('es.nodes', 'vpc-testpspvt-2xjjsrwejwnaxv7l3zoavngysy.ap-south-1.es.amazonaws.com').option('es.port', 443).mode(\"append\").option('es.nodes.wan.only', True).option('es.mapping.id', 'age').save()",
			"metadata": {
				"trusted": true,
				"tags": []
			},
			"execution_count": 15,
			"outputs": [
				{
					"name": "stdout",
					"text": "Py4JJavaError: An error occurred while calling o120.save.\n: java.lang.NoClassDefFoundError: scala/Product$class\n\tat org.elasticsearch.spark.sql.ElasticsearchRelation.<init>(DefaultSource.scala:228)\n\tat org.elasticsearch.spark.sql.DefaultSource.createRelation(DefaultSource.scala:105)\n\tat org.apache.spark.sql.execution.datasources.SaveIntoDataSourceCommand.run(SaveIntoDataSourceCommand.scala:45)\n\tat org.apache.spark.sql.execution.command.ExecutedCommandExec.sideEffectResult$lzycompute(commands.scala:75)\n\tat org.apache.spark.sql.execution.command.ExecutedCommandExec.sideEffectResult(commands.scala:73)\n\tat org.apache.spark.sql.execution.command.ExecutedCommandExec.executeCollect(commands.scala:84)\n\tat org.apache.spark.sql.execution.QueryExecution$$anonfun$eagerlyExecuteCommands$1.$anonfun$applyOrElse$1(QueryExecution.scala:103)\n\tat org.apache.spark.sql.catalyst.QueryPlanningTracker$.withTracker(QueryPlanningTracker.scala:107)\n\tat org.apache.spark.sql.execution.SQLExecution$.withTracker(SQLExecution.scala:224)\n\tat org.apache.spark.sql.execution.SQLExecution$.executeQuery$1(SQLExecution.scala:114)\n\tat org.apache.spark.sql.execution.SQLExecution$.$anonfun$withNewExecutionId$7(SQLExecution.scala:139)\n\tat org.apache.spark.sql.catalyst.QueryPlanningTracker$.withTracker(QueryPlanningTracker.scala:107)\n\tat org.apache.spark.sql.execution.SQLExecution$.withTracker(SQLExecution.scala:224)\n\tat org.apache.spark.sql.execution.SQLExecution$.$anonfun$withNewExecutionId$6(SQLExecution.scala:139)\n\tat org.apache.spark.sql.execution.SQLExecution$.withSQLConfPropagated(SQLExecution.scala:245)\n\tat org.apache.spark.sql.execution.SQLExecution$.$anonfun$withNewExecutionId$1(SQLExecution.scala:138)\n\tat org.apache.spark.sql.SparkSession.withActive(SparkSession.scala:779)\n\tat org.apache.spark.sql.execution.SQLExecution$.withNewExecutionId(SQLExecution.scala:68)\n\tat org.apache.spark.sql.execution.QueryExecution$$anonfun$eagerlyExecuteCommands$1.applyOrElse(QueryExecution.scala:100)\n\tat org.apache.spark.sql.execution.QueryExecution$$anonfun$eagerlyExecuteCommands$1.applyOrElse(QueryExecution.scala:96)\n\tat org.apache.spark.sql.catalyst.trees.TreeNode.$anonfun$transformDownWithPruning$1(TreeNode.scala:615)\n\tat org.apache.spark.sql.catalyst.trees.CurrentOrigin$.withOrigin(TreeNode.scala:177)\n\tat org.apache.spark.sql.catalyst.trees.TreeNode.transformDownWithPruning(TreeNode.scala:615)\n\tat org.apache.spark.sql.catalyst.plans.logical.LogicalPlan.org$apache$spark$sql$catalyst$plans$logical$AnalysisHelper$$super$transformDownWithPruning(LogicalPlan.scala:30)\n\tat org.apache.spark.sql.catalyst.plans.logical.AnalysisHelper.transformDownWithPruning(AnalysisHelper.scala:267)\n\tat org.apache.spark.sql.catalyst.plans.logical.AnalysisHelper.transformDownWithPruning$(AnalysisHelper.scala:263)\n\tat org.apache.spark.sql.catalyst.plans.logical.LogicalPlan.transformDownWithPruning(LogicalPlan.scala:30)\n\tat org.apache.spark.sql.catalyst.plans.logical.LogicalPlan.transformDownWithPruning(LogicalPlan.scala:30)\n\tat org.apache.spark.sql.catalyst.trees.TreeNode.transformDown(TreeNode.scala:591)\n\tat org.apache.spark.sql.execution.QueryExecution.eagerlyExecuteCommands(QueryExecution.scala:96)\n\tat org.apache.spark.sql.execution.QueryExecution.commandExecuted$lzycompute(QueryExecution.scala:83)\n\tat org.apache.spark.sql.execution.QueryExecution.commandExecuted(QueryExecution.scala:81)\n\tat org.apache.spark.sql.execution.QueryExecution.assertCommandExecuted(QueryExecution.scala:124)\n\tat org.apache.spark.sql.DataFrameWriter.runCommand(DataFrameWriter.scala:860)\n\tat org.apache.spark.sql.DataFrameWriter.saveToV1Source(DataFrameWriter.scala:390)\n\tat org.apache.spark.sql.DataFrameWriter.saveInternal(DataFrameWriter.scala:363)\n\tat org.apache.spark.sql.DataFrameWriter.save(DataFrameWriter.scala:247)\n\tat sun.reflect.NativeMethodAccessorImpl.invoke0(Native Method)\n\tat sun.reflect.NativeMethodAccessorImpl.invoke(NativeMethodAccessorImpl.java:62)\n\tat sun.reflect.DelegatingMethodAccessorImpl.invoke(DelegatingMethodAccessorImpl.java:43)\n\tat java.lang.reflect.Method.invoke(Method.java:498)\n\tat py4j.reflection.MethodInvoker.invoke(MethodInvoker.java:244)\n\tat py4j.reflection.ReflectionEngine.invoke(ReflectionEngine.java:357)\n\tat py4j.Gateway.invoke(Gateway.java:282)\n\tat py4j.commands.AbstractCommand.invokeMethod(AbstractCommand.java:132)\n\tat py4j.commands.CallCommand.execute(CallCommand.java:79)\n\tat py4j.GatewayConnection.run(GatewayConnection.java:238)\n\tat java.lang.Thread.run(Thread.java:750)\nCaused by: java.lang.ClassNotFoundException: scala.Product$class\n\tat java.net.URLClassLoader.findClass(URLClassLoader.java:387)\n\tat java.lang.ClassLoader.loadClass(ClassLoader.java:418)\n\tat sun.misc.Launcher$AppClassLoader.loadClass(Launcher.java:352)\n\tat java.lang.ClassLoader.loadClass(ClassLoader.java:351)\n\t... 48 more\n\n",
					"output_type": "stream"
				}
			]
		},
		{
			"cell_type": "code",
			"source": "def get_schema():\n    SCHEMA = StructType([\n        StructField(\"event_data\", StructType([\n            StructField(\"community_cards\", ArrayType(StructType([\n                StructField(\"card_suit\", StringType()),\n                StructField(\"card_value\", IntegerType())\n            ]))),\n            StructField(\"community_cards_rit\", ArrayType(StructType([\n                StructField(\"card_suit\", StringType()),\n                StructField(\"card_value\", IntegerType())\n            ]))),\n            StructField(\"game_end_timestamp\", IntegerType()),\n            StructField(\"game_start_timestamp\", IntegerType()),\n            StructField(\"hand_id\", LongType()),\n            StructField(\"player_details\", ArrayType(StructType([\n                StructField(\"cards\", ArrayType(StructType([\n                    StructField(\"card_suit\", StringType()),\n                    StructField(\"card_value\", IntegerType())\n                ]))),\n                StructField(\"chip_stack_end\", DoubleType()),\n                StructField(\"chip_stack_start\", DoubleType()),\n                StructField(\"position\", StringType()),\n                StructField(\"profit_loss\", DoubleType()),\n                StructField(\"reference_number\", StringType()),\n                StructField(\"seat_index\", IntegerType()),\n                StructField(\"session_id\", StringType()),\n                StructField(\"total_bets\", DoubleType()),\n                StructField(\"total_win\", DoubleType()),\n                StructField(\"user_id\", LongType()),\n                StructField(\"username\", StringType()),\n                StructField(\"rake\", StructType([\n                    StructField(\"bonus_rake\", DoubleType()),\n                    StructField(\"net_rake\", DoubleType()),\n                    StructField(\"service_tax\", DoubleType()),\n                    StructField(\"total_rake\", DoubleType())\n                ]))\n            ]))),\n            StructField(\"players_in_hand\", IntegerType()),\n            StructField(\"rit_game\", IntegerType()),\n            StructField(\"round_details\", StructType([\n                StructField(\"flop\", StructType([\n                    StructField(\"player_action\", ArrayType(StructType([\n                        StructField(\"action\", StringType()),\n                        StructField(\"amount\", DoubleType()),\n                        StructField(\"chip_stack_end\", DoubleType()),\n                        StructField(\"chip_stack_start\", DoubleType()),\n                        StructField(\"position\", StringType()),\n                        StructField(\"timestamp\", IntegerType()),\n                        StructField(\"total_pot\", DoubleType()),\n                        StructField(\"user_id\", IntegerType()),\n                        StructField(\"username\", StringType())\n                    ]))),\n                    StructField(\"pot_details\", ArrayType(DoubleType()))\n                ])),\n                StructField(\"preflop\", StructType([\n                    StructField(\"player_action\", ArrayType(StructType([\n                        StructField(\"action\", StringType()),\n                        StructField(\"amount\", DoubleType()),\n                        StructField(\"chip_stack_end\", DoubleType()),\n                        StructField(\"chip_stack_start\", DoubleType()),\n                        StructField(\"position\", StringType()),\n                        StructField(\"timestamp\", IntegerType()),\n                        StructField(\"total_pot\", DoubleType()),\n                        StructField(\"user_id\", IntegerType()),\n                        StructField(\"username\", StringType())\n                    ]))),\n                    StructField(\"pot_details\", ArrayType(DoubleType()))\n                ])),\n                StructField(\"river\", StructType([\n                    StructField(\"player_action\", ArrayType(StructType([\n                        StructField(\"action\", StringType()),\n                        StructField(\"amount\", DoubleType()),\n                        StructField(\"chip_stack_end\", DoubleType()),\n                        StructField(\"chip_stack_start\", DoubleType()),\n                        StructField(\"position\", StringType()),\n                        StructField(\"timestamp\", IntegerType()),\n                        StructField(\"total_pot\", DoubleType()),\n                        StructField(\"user_id\", IntegerType()),\n                        StructField(\"username\", StringType())\n                    ]))),\n                    StructField(\"pot_details\", ArrayType(DoubleType()))\n                ])),\n                StructField(\"showdown\", StructType([\n                    StructField(\"pot_details\", ArrayType(DoubleType())),\n                    StructField(\"pot_details_rit\", ArrayType(DoubleType())),\n                    StructField(\"pot_winners\", ArrayType(StructType([\n                        StructField(\"pot_amount\", DoubleType()),\n                        StructField(\"pot_contestants\", ArrayType(IntegerType())),\n                        StructField(\"winner_details\", ArrayType(StructType([\n                            StructField(\"amount\", DoubleType()),\n                            StructField(\"timestamp\", IntegerType()),\n                            StructField(\"user_id\", IntegerType()),\n                            StructField(\"win_type\", StringType())\n                        ])))\n                    ]))),\n                    StructField(\"pot_winners_rit\", ArrayType(StructType([\n                        StructField(\"pot_amount\", DoubleType()),\n                        StructField(\"pot_contestants\", ArrayType(IntegerType())),\n                        StructField(\"winner_details\", ArrayType(StructType([\n                            StructField(\"amount\", DoubleType()),\n                            StructField(\"timestamp\", IntegerType()),\n                            StructField(\"user_id\", IntegerType()),\n                            StructField(\"win_type\", StringType())\n                        ])))\n                    ])))\n                ])),\n                StructField(\"turn\", StructType([\n                    StructField(\"player_action\", ArrayType(StructType([\n                        StructField(\"action\", StringType()),\n                        StructField(\"amount\", DoubleType()),\n                        StructField(\"chip_stack_end\", DoubleType()),\n                        StructField(\"chip_stack_start\", DoubleType()),\n                        StructField(\"position\", StringType()),\n                        StructField(\"timestamp\", IntegerType()),\n                        StructField(\"total_pot\", DoubleType()),\n                        StructField(\"user_id\", IntegerType()),\n                        StructField(\"username\", StringType())\n                    ]))),\n                    StructField(\"pot_details\", ArrayType(DoubleType()))\n                ]))\n            ])),\n            StructField(\"showdown\", BooleanType()),\n            StructField(\"table_info\", StructType([\n                StructField(\"big_blind\", DoubleType()),\n                StructField(\"is_anonymous\", BooleanType()),\n                StructField(\"max_buyin\", DoubleType()),\n                StructField(\"min_buyin\", DoubleType()),\n                StructField(\"mini_game_type_id\", StringType()),\n                StructField(\"players_per_table\", IntegerType()),\n                StructField(\"small_blind\", DoubleType()),\n                StructField(\"table_child_id\", IntegerType()),\n                StructField(\"table_id\", IntegerType()),\n                StructField(\"table_type\", StringType())\n            ])),\n            StructField(\"total_pot\", DoubleType()),\n            StructField(\"user_stats\", ArrayType(StructType([\n                StructField(\"3bet\", BooleanType()),\n                StructField(\"3bet_opportunity\", BooleanType()),\n                StructField(\"all_in\", BooleanType()),\n                StructField(\"allin_opportunity\", BooleanType()),\n                StructField(\"flop_seen\", BooleanType()),\n                StructField(\"fold_opportunity\", BooleanType()),\n                StructField(\"hp\", BooleanType()),\n                StructField(\"pfr_count\", BooleanType()),\n                StructField(\"pfr_opportunity\", BooleanType()),\n                StructField(\"pr\", BooleanType()),\n                StructField(\"time_played\", IntegerType()),\n                StructField(\"user_id\", IntegerType()),\n                StructField(\"user_won\", BooleanType()),\n                StructField(\"vpip\", BooleanType()),\n                StructField(\"vpip_opportunity\", BooleanType()),\n                StructField(\"won_at_showdown\", BooleanType()),\n                StructField(\"wtsd\", BooleanType()),\n                StructField(\"fold_on_allin_opportunity\", BooleanType()),\n                StructField(\"fold\", BooleanType()),\n                StructField(\"3bet_fold_opportunity\", BooleanType()),\n                StructField(\"steal_opportunity\", BooleanType()),\n                StructField(\"steal_attempt\", BooleanType()),\n                StructField(\"fold_on_allin\", BooleanType()),\n                StructField(\"check_n_raise_opportunity\", BooleanType()),\n                StructField(\"cbet_opportunity\", BooleanType()),\n                StructField(\"cbet_success\", BooleanType()),\n                StructField(\"fold_to_cbet_opportunity\", BooleanType()),\n                StructField(\"folded_to_cbet\", BooleanType()),\n                StructField(\"folded_to_3bet\", BooleanType()),\n                StructField(\"check_n_raise\", BooleanType())\n            ]))),\n            StructField(\"game_rake\", StructType([\n                StructField(\"bonus_rake\", DoubleType()),\n                StructField(\"net_rake\", DoubleType()),\n                StructField(\"service_tax\", DoubleType()),\n                StructField(\"total_rake\", DoubleType())\n            ]))\n        ])),\n        StructField(\"event_name\", StringType()),\n        StructField(\"event_source\", StringType()),\n        StructField(\"event_timestamp\", IntegerType()),\n        StructField(\"event_uuid\", StringType()),\n        StructField(\"event_version\", StringType())\n    ])\n    \n    return SCHEMA",
			"metadata": {
				"trusted": true,
				"tags": []
			},
			"execution_count": 2,
			"outputs": [
				{
					"name": "stdout",
					"text": "\n",
					"output_type": "stream"
				}
			]
		},
		{
			"cell_type": "code",
			"source": "# source \ns3_path = \"s3://robin-poc-bucket/rahul/test_1/hands_json_data/\"\n\n# tables \nhands_bronze_data = \"glue_catalog.iceberg_sample_db.hands_bronze_data\"\nhands_gold_data = \"glue_catalog.iceberg_sample_db.hands_gold_data\"\nexternal_checkpoint_table = \"glue_catalog.iceberg_sample_db.external_checkpoints\"\n\n# s3 location for database \nhands_gold_data_s3_location = \"s3://robin-poc-bucket/rahul/iceberg/hands_gold_data\"\niceberg_database = \"iceberg_sample_db\"\n\n# check_point_locations \nbronze_checkpointlocation = \"s3://robin-poc-bucket/rahul/test_1/bronze_checkpointlocation/\"\ngold_checkpointlocation = \"s3://robin-poc-bucket/rahul/test_1/gold_checkpointlocation/\"\nopensearch_checkpointlocation = \"s3://robin-poc-bucket/rahul/test_1/opensearch_checkpointlocation/\"\nexplicit_checkpoint_path = \"s3://robin-poc-bucket/rahul/test_1/external_checkpointlocation/\"\n\n# open search index\nes_index = \"performance_by_stake_v2\"\nes_nodes = \"https://vpc-testpspvt-2xjjsrwejwnaxv7l3zoavngysy.ap-south-1.es.amazonaws.com\"",
			"metadata": {
				"trusted": true,
				"tags": []
			},
			"execution_count": 2,
			"outputs": [
				{
					"name": "stdout",
					"text": "\n",
					"output_type": "stream"
				}
			]
		},
		{
			"cell_type": "code",
			"source": "",
			"metadata": {},
			"execution_count": null,
			"outputs": []
		},
		{
			"cell_type": "code",
			"source": "class Bronze():\n    \n    def __init__(self):\n        self.s3_path = s3_path\n        self.iceberg_database = iceberg_database\n        self.check_point_location = bronze_checkpointlocation\n\n    def readHandsEvents(self):\n        schema = get_schema()\n        return spark.readStream.format(\"json\").schema(schema).load(s3_path)\n                \n    def writeToIcebergTable(self, hands_df):\n        sbronzeQuery = ( \n            hands_df.writeStream\n                    .queryName(\"bronze-ingestion\")\n                    .format(\"iceberg\")\n                    .option(\"checkpointLocation\", self.check_point_location)\n                    .outputMode(\"append\")\n                    .toTable(f\"{hands_bronze_data}\")\n        ) \n        return sbronzeQuery\n\n    def process(self):\n        raw_data_df = self.readHandsEvents()\n        sQuery = self.writeToIcebergTable(raw_data_df)\n        return sQuery, raw_data_df",
			"metadata": {
				"trusted": true,
				"tags": []
			},
			"execution_count": 4,
			"outputs": [
				{
					"name": "stdout",
					"text": "\n",
					"output_type": "stream"
				}
			]
		},
		{
			"cell_type": "code",
			"source": "class Gold():\n    def __init__(self):\n        self.gold_checkpointlocation = gold_checkpointlocation\n        self.opensearch_checkpointlocation = opensearch_checkpointlocation\n        self.explicit_checkpoint_path = explicit_checkpoint_path\n        self.os_index = es_index\n        self.os_nodes = es_nodes\n\n    def readBronzedata(self, replay=False, streamStartTimestamp = \"\"):\n        if replay:\n            # specify your read time stamp from here\n            streamStartTimestamp = \"\"\n            hands_data_df = spark.readStream.format(\"iceberg\").option(\"stream-from-timestamp\", Long.toString(streamStartTimestamp)).load(f\"{hands_bronze_data}\")  \n        else:\n            hands_data_df = spark.readStream.format(\"iceberg\").load(f\"{hands_bronze_data}\")  \n        return hands_data_df\n\n        \n    def flatternBronzedata(self, bronze_df):\n        bronze_df = bronze_df.withColumn(\"player_details\", expr(\"event_data.player_details\"))\n        flattern_hands_data_df  = bronze_df.selectExpr(\n            \"event_data.hand_id as hand_id\", \n            \"event_data.game_end_timestamp as game_end_timestamp\",\n            \"event_data.game_start_timestamp as game_start_timestamp\",\n            \"event_data.table_info.big_blind as big_blind\",\n            \"case when event_data.table_info.big_blind = 0 then 0 when event_data.table_info.big_blind = 5 then 2 when event_data.table_info.big_blind = 25 then 10 else event_data.table_info.big_blind/2 end as small_blind\",\n            \"event_name\", \n            \"event_source\", \n            \"cast(event_timestamp as timestamp) as event_timestamp\", \n            \"event_uuid\", \n            \"event_version\",\n            \"explode(player_details) as player_detail\", \n            \"date(cast(event_timestamp as timestamp)) as record_date\",\n            \"player_detail.user_id as user_id\",\n            \"player_detail.profit_loss as profit_loss\",\n            \"player_detail.position as position\",\n            \"player_detail.total_bets as stake\",\n            \"player_detail.rake.total_rake as total_rake\",\n            \"player_detail.chip_stack_start as chip_stack_start\",\n            \"player_detail.chip_stack_end as chip_stack_end\",\n            \"player_detail.reference_number as session_id\",\n            \"case when player_detail.total_bets + player_detail.profit_loss = 0 then 0 else  player_detail.total_bets + player_detail.profit_loss + player_detail.rake.total_rake end as win\",\n            \"\"\"case when (replace(cast(event_data.table_info.mini_game_type_id as string), '\"',\"\")) in (\"Holdem\") then 1  when (replace(cast(event_data.table_info.mini_game_type_id as string), '\"',\"\")) in ('Omaha') then 2  when (replace(cast(event_data.table_info.mini_game_type_id as string), '\"',\"\")) in (\"FiveCardPLO\") then 17  when (replace(cast(event_data.table_info.mini_game_type_id as string), '\"',\"\")) in ('SixCardPLO') then 20  when (replace(cast(event_data.table_info.mini_game_type_id as string), '\"',\"\")) in (\"SuperHoldem\") then 21  else 25 end as minigames_type_id\"\"\"\n        ).drop(\"player_detail\")\n\n        return flattern_hands_data_df\n\n    def getAggregates(self, flattern_hands_data_df):\n        df_performance_by_stake = flattern_hands_data_df.withWatermark(\"event_timestamp\", \"1440 minutes\") \\\n            .groupBy(\n                    \"user_id\", \"record_date\", \"session_id\", \"minigames_type_id\", \"big_blind\", \"small_blind\"\n            ).agg(\n                count(\"*\").alias(\"number_of_hands\"),\n                expr(\"cast((max(game_end_timestamp) - min(game_start_timestamp)) as string)\").alias(\"session_duration\"),\n                min(\"game_start_timestamp\").alias(\"session_start_time\"),\n                max(\"game_start_timestamp\").alias(\"session_end_time\"),\n                sum(when((col(\"win\") - col(\"stake\")) > 0, 1).otherwise(0)).alias(\"winning_hands\"),\n                sum(when((col(\"win\") - col(\"stake\")) < 0, 1).otherwise(0)).alias(\"losing_hands\"),\n                sum(\"profit_loss\").alias(\"win_amount\")\n            )\n\n        return df_performance_by_stake\n        \n    def upsert(self, gold_aggregate_df, batch_id):\n        \n        # user_id, record_date, session_id,minigames_type_id, big_blind, small_blind\n        \n        # create table in iceberg\n        spark.sql(f\"\"\"\n            CREATE OR REPLACE TABLE {hands_gold_data} (\n                  user_id bigint,\n                  record_date date,\n                  session_id string,\n                  minigames_type_id int,\n                  big_blind double,\n                  small_blind double,\n                  number_of_hands bigint,\n                  session_duration string,\n                  session_start_time int,\n                  session_end_time int,\n                  winning_hands bigint,\n                  losing_hands bigint,\n                  win_amount double)\n                LOCATION '{hands_gold_data_s3_location}'\n                TBLPROPERTIES (\n                  'table_type'='iceberg'\n            );\n        \n        \"\"\")\n        \n    \n        gold_aggregate_df.createOrReplaceTempView(\"tmp_hands_agg\")\n        merge_statement = f\"\"\"MERGE INTO {hands_gold_data} t\n                USING tmp_hands_agg s\n                ON  ( \n                    s.user_id == t.user_id and \n                    s.record_date = t.record_date and \n                    s.session_id = t.session_id and \n                    s.minigames_type_id = t.minigames_type_id and \n                    s.big_blind = t.big_blind and \n                    s.small_blind = t.small_blind\n                )\n                WHEN MATCHED THEN\n                UPDATE SET *\n                WHEN NOT MATCHED THEN\n                INSERT *\n            \"\"\"\n        gold_aggregate_df._jdf.sparkSession().sql(merge_statement) \n\n\n    def saveToTable(self, gold_aggregate_df):\n        sGoldUpdateQuery = (   gold_aggregate_df.writeStream\n                .queryName(\"gold-update\")\n                .option(\"checkpointLocation\", f\"{self.gold_checkpointlocation}\")\n                .outputMode(\"update\")\n                .foreachBatch(self.upsert)\n                .start()\n        )\n        return sGoldUpdateQuery\n\n    # def saveToOpenSearch(self, aggregate_df):\n    #     sGoldUpdateQuery = (\n    #         aggregate_df.writeStream.outputMode('append') \n    #             .format(\"org.elasticsearch.spark.sql\") \n    #             .option(\"path\",self.es_index) \n    #             .option(\"es.nodes\", self.es_nodes) \n    #             .option(\"es.port\", 443) \n    #             .option(\"es.mapping.id\", \"session_id\")\n    #             .option(\"es.write.operation\", \"upsert\")\n    #             .option(\"checkpointLocation\", self.opensearch_checkpointlocation) \n    #             .start()\n    #             .awaitTermination()\n    #     )\n    \n#     def process_batch_query_b(self, gold_aggregate_df, epoch_id):\n#         # print('Query B: {}'.format(datetime.fromtimestamp(time.time())))\n#         #df = df.withColumn('QUERY', F.lit('b'))\n\n#         schema = hands_gold_data_schema = StructType([\n#                     StructField(\"user_id\", LongType(), True),\n#                     StructField(\"record_date\", DateType(), True),\n#                     StructField(\"session_id\", StringType(), True),\n#                     StructField(\"minigames_type_id\", IntegerType(), True),\n#                     StructField(\"big_blind\", DoubleType(), True),\n#                     StructField(\"small_blind\", DoubleType(), True),\n#                     StructField(\"number_of_hands\", LongType(), True),\n#                     StructField(\"session_duration\", StringType(), True),\n#                     StructField(\"session_start_time\", IntegerType(), True),\n#                     StructField(\"session_end_time\", IntegerType(), True),\n#                     StructField(\"winning_hands\", LongType(), True),\n#                     StructField(\"losing_hands\", LongType(), True),\n#                     StructField(\"win_amount\", DoubleType(), True)\n#                 ])\n\n#         df = gold_aggregate_df.collect()\n#         #new_df = df.select(\"event_data.hand_id\").alias(\"hand_id\")\n#         new_df = spark.createDataFrame(df, schema)\n#         new_df.write.format('org.elasticsearch.spark.sql').option(\"path\",self.os_index).option('es.nodes', self.os_nodes).option('es.port', 443).mode(\"append\").option('es.nodes.wan.only', True).save()\n        \n    # def saveToOpenSearch(self, df):\n    #     df_query = ( df.writeStream\n    #                     .outputMode('update')\n    #                     .option(\"checkpointLocation\", opensearch_checkpointlocation)\n    #                     .foreachBatch(self.process_batch_query_b) \n    #                     .start()\n    #             )\n    #     return df_query\n\n    def updateCheckPoint(self, bronze_df):\n        df_meta = ( bronze_df.selectExpr('date(cast(event_timestamp as timestamp)) as record_date', '_metadata.file_modification_time', '_metadata.file_path', '_metadata.file_name', '_metadata.file_size' ).distinct() )\n\n        sQueryStats = ( \n            df_meta.writeStream\n                .queryName(\"external-checkpoint\")\n                .format(\"iceberg\")\n                .outputMode(\"append\")\n                .option(\"checkpointLocation\", self.explicit_checkpoint_path)\n                .partitionBy(\"record_date\")\n                .toTable(f'{external_checkpoint_table}') \n        )\n\n        return sQueryStats\n\n\n    def process(self):\n        \n        bronze_df = self.readBronzedata()\n        flattern_bronze_df = self.flatternBronzedata(bronze_df)\n        gold_aggregate_df = self.getAggregates(flattern_bronze_df)\n        \n        print(\"Upload to iceberg started\")\n        sGoldUpdateQuery = self.saveToTable(gold_aggregate_df)\n        # sGoldUpdateQuery.awaitTermination()\n        print(\"Upload to ES started\")\n        # sGoldUpdateQueryOS = self.saveToOpenSearch(gold_aggregate_df) \n        # sGoldUpdateQueryOS.awaitTermination()",
			"metadata": {
				"trusted": true,
				"tags": []
			},
			"execution_count": 6,
			"outputs": [
				{
					"name": "stdout",
					"text": "\n",
					"output_type": "stream"
				}
			]
		},
		{
			"cell_type": "code",
			"source": "print(\"Started Bronze processing \")\nbr = Bronze()\nsQuery, raw_data_df = br.process()\n# b.awaitTermination()\nprint(\"Stopped bronze processing \")",
			"metadata": {
				"trusted": true,
				"tags": []
			},
			"execution_count": 5,
			"outputs": [
				{
					"name": "stdout",
					"text": "Started Bronze processing \nStopped bronze processing\n",
					"output_type": "stream"
				}
			]
		},
		{
			"cell_type": "code",
			"source": "print(\"Started Gold processing \")\ngl = Gold()\ngl.process()",
			"metadata": {
				"trusted": true,
				"tags": []
			},
			"execution_count": 8,
			"outputs": [
				{
					"name": "stdout",
					"text": "Started Gold processing \nUpload to iceberg started\nUpload to ES started\n",
					"output_type": "stream"
				}
			]
		},
		{
			"cell_type": "code",
			"source": "print(\"Update external checkpoint\")\nsUpdateCheckPoint = gl.updateCheckPoint(raw_data_df)\nsUpdateCheckPoint.awaitTermination()\nprint(\"Stopped Gold processing \")",
			"metadata": {
				"trusted": true,
				"tags": []
			},
			"execution_count": null,
			"outputs": []
		},
		{
			"cell_type": "code",
			"source": "# b.awaitTermination()\n# print(\"Stopped bronze processing \")",
			"metadata": {
				"trusted": true,
				"tags": []
			},
			"execution_count": 8,
			"outputs": []
		},
		{
			"cell_type": "code",
			"source": "# print(\"Started Gold processing \")\n# gl = Gold()\n# gl = gl.process()\n# print(\"Stopped Gold processing \")",
			"metadata": {
				"trusted": true,
				"tags": []
			},
			"execution_count": 7,
			"outputs": []
		},
		{
			"cell_type": "code",
			"source": "# hands_data_df = spark.readStream.format(\"iceberg\").load(f\"{hands_bronze_data}\")  ",
			"metadata": {
				"trusted": true,
				"tags": []
			},
			"execution_count": 9,
			"outputs": [
				{
					"name": "stdout",
					"text": "\n",
					"output_type": "stream"
				}
			]
		},
		{
			"cell_type": "code",
			"source": "print(raw_data_df.printSchema())",
			"metadata": {
				"trusted": true,
				"tags": []
			},
			"execution_count": 6,
			"outputs": [
				{
					"name": "stdout",
					"text": "root\n |-- event_data: struct (nullable = true)\n |    |-- community_cards: array (nullable = true)\n |    |    |-- element: struct (containsNull = true)\n |    |    |    |-- card_suit: string (nullable = true)\n |    |    |    |-- card_value: integer (nullable = true)\n |    |-- community_cards_rit: array (nullable = true)\n |    |    |-- element: struct (containsNull = true)\n |    |    |    |-- card_suit: string (nullable = true)\n |    |    |    |-- card_value: integer (nullable = true)\n |    |-- game_end_timestamp: integer (nullable = true)\n |    |-- game_start_timestamp: integer (nullable = true)\n |    |-- hand_id: long (nullable = true)\n |    |-- player_details: array (nullable = true)\n |    |    |-- element: struct (containsNull = true)\n |    |    |    |-- cards: array (nullable = true)\n |    |    |    |    |-- element: struct (containsNull = true)\n |    |    |    |    |    |-- card_suit: string (nullable = true)\n |    |    |    |    |    |-- card_value: integer (nullable = true)\n |    |    |    |-- chip_stack_end: double (nullable = true)\n |    |    |    |-- chip_stack_start: double (nullable = true)\n |    |    |    |-- position: string (nullable = true)\n |    |    |    |-- profit_loss: double (nullable = true)\n |    |    |    |-- reference_number: string (nullable = true)\n |    |    |    |-- seat_index: integer (nullable = true)\n |    |    |    |-- session_id: string (nullable = true)\n |    |    |    |-- total_bets: double (nullable = true)\n |    |    |    |-- total_win: double (nullable = true)\n |    |    |    |-- user_id: long (nullable = true)\n |    |    |    |-- username: string (nullable = true)\n |    |    |    |-- rake: struct (nullable = true)\n |    |    |    |    |-- bonus_rake: double (nullable = true)\n |    |    |    |    |-- net_rake: double (nullable = true)\n |    |    |    |    |-- service_tax: double (nullable = true)\n |    |    |    |    |-- total_rake: double (nullable = true)\n |    |-- players_in_hand: integer (nullable = true)\n |    |-- rit_game: integer (nullable = true)\n |    |-- round_details: struct (nullable = true)\n |    |    |-- flop: struct (nullable = true)\n |    |    |    |-- player_action: array (nullable = true)\n |    |    |    |    |-- element: struct (containsNull = true)\n |    |    |    |    |    |-- action: string (nullable = true)\n |    |    |    |    |    |-- amount: double (nullable = true)\n |    |    |    |    |    |-- chip_stack_end: double (nullable = true)\n |    |    |    |    |    |-- chip_stack_start: double (nullable = true)\n |    |    |    |    |    |-- position: string (nullable = true)\n |    |    |    |    |    |-- timestamp: integer (nullable = true)\n |    |    |    |    |    |-- total_pot: double (nullable = true)\n |    |    |    |    |    |-- user_id: integer (nullable = true)\n |    |    |    |    |    |-- username: string (nullable = true)\n |    |    |    |-- pot_details: array (nullable = true)\n |    |    |    |    |-- element: double (containsNull = true)\n |    |    |-- preflop: struct (nullable = true)\n |    |    |    |-- player_action: array (nullable = true)\n |    |    |    |    |-- element: struct (containsNull = true)\n |    |    |    |    |    |-- action: string (nullable = true)\n |    |    |    |    |    |-- amount: double (nullable = true)\n |    |    |    |    |    |-- chip_stack_end: double (nullable = true)\n |    |    |    |    |    |-- chip_stack_start: double (nullable = true)\n |    |    |    |    |    |-- position: string (nullable = true)\n |    |    |    |    |    |-- timestamp: integer (nullable = true)\n |    |    |    |    |    |-- total_pot: double (nullable = true)\n |    |    |    |    |    |-- user_id: integer (nullable = true)\n |    |    |    |    |    |-- username: string (nullable = true)\n |    |    |    |-- pot_details: array (nullable = true)\n |    |    |    |    |-- element: double (containsNull = true)\n |    |    |-- river: struct (nullable = true)\n |    |    |    |-- player_action: array (nullable = true)\n |    |    |    |    |-- element: struct (containsNull = true)\n |    |    |    |    |    |-- action: string (nullable = true)\n |    |    |    |    |    |-- amount: double (nullable = true)\n |    |    |    |    |    |-- chip_stack_end: double (nullable = true)\n |    |    |    |    |    |-- chip_stack_start: double (nullable = true)\n |    |    |    |    |    |-- position: string (nullable = true)\n |    |    |    |    |    |-- timestamp: integer (nullable = true)\n |    |    |    |    |    |-- total_pot: double (nullable = true)\n |    |    |    |    |    |-- user_id: integer (nullable = true)\n |    |    |    |    |    |-- username: string (nullable = true)\n |    |    |    |-- pot_details: array (nullable = true)\n |    |    |    |    |-- element: double (containsNull = true)\n |    |    |-- showdown: struct (nullable = true)\n |    |    |    |-- pot_details: array (nullable = true)\n |    |    |    |    |-- element: double (containsNull = true)\n |    |    |    |-- pot_details_rit: array (nullable = true)\n |    |    |    |    |-- element: double (containsNull = true)\n |    |    |    |-- pot_winners: array (nullable = true)\n |    |    |    |    |-- element: struct (containsNull = true)\n |    |    |    |    |    |-- pot_amount: double (nullable = true)\n |    |    |    |    |    |-- pot_contestants: array (nullable = true)\n |    |    |    |    |    |    |-- element: integer (containsNull = true)\n |    |    |    |    |    |-- winner_details: array (nullable = true)\n |    |    |    |    |    |    |-- element: struct (containsNull = true)\n |    |    |    |    |    |    |    |-- amount: double (nullable = true)\n |    |    |    |    |    |    |    |-- timestamp: integer (nullable = true)\n |    |    |    |    |    |    |    |-- user_id: integer (nullable = true)\n |    |    |    |    |    |    |    |-- win_type: string (nullable = true)\n |    |    |    |-- pot_winners_rit: array (nullable = true)\n |    |    |    |    |-- element: struct (containsNull = true)\n |    |    |    |    |    |-- pot_amount: double (nullable = true)\n |    |    |    |    |    |-- pot_contestants: array (nullable = true)\n |    |    |    |    |    |    |-- element: integer (containsNull = true)\n |    |    |    |    |    |-- winner_details: array (nullable = true)\n |    |    |    |    |    |    |-- element: struct (containsNull = true)\n |    |    |    |    |    |    |    |-- amount: double (nullable = true)\n |    |    |    |    |    |    |    |-- timestamp: integer (nullable = true)\n |    |    |    |    |    |    |    |-- user_id: integer (nullable = true)\n |    |    |    |    |    |    |    |-- win_type: string (nullable = true)\n |    |    |-- turn: struct (nullable = true)\n |    |    |    |-- player_action: array (nullable = true)\n |    |    |    |    |-- element: struct (containsNull = true)\n |    |    |    |    |    |-- action: string (nullable = true)\n |    |    |    |    |    |-- amount: double (nullable = true)\n |    |    |    |    |    |-- chip_stack_end: double (nullable = true)\n |    |    |    |    |    |-- chip_stack_start: double (nullable = true)\n |    |    |    |    |    |-- position: string (nullable = true)\n |    |    |    |    |    |-- timestamp: integer (nullable = true)\n |    |    |    |    |    |-- total_pot: double (nullable = true)\n |    |    |    |    |    |-- user_id: integer (nullable = true)\n |    |    |    |    |    |-- username: string (nullable = true)\n |    |    |    |-- pot_details: array (nullable = true)\n |    |    |    |    |-- element: double (containsNull = true)\n |    |-- showdown: boolean (nullable = true)\n |    |-- table_info: struct (nullable = true)\n |    |    |-- big_blind: double (nullable = true)\n |    |    |-- is_anonymous: boolean (nullable = true)\n |    |    |-- max_buyin: double (nullable = true)\n |    |    |-- min_buyin: double (nullable = true)\n |    |    |-- mini_game_type_id: string (nullable = true)\n |    |    |-- players_per_table: integer (nullable = true)\n |    |    |-- small_blind: double (nullable = true)\n |    |    |-- table_child_id: integer (nullable = true)\n |    |    |-- table_id: integer (nullable = true)\n |    |    |-- table_type: string (nullable = true)\n |    |-- total_pot: double (nullable = true)\n |    |-- user_stats: array (nullable = true)\n |    |    |-- element: struct (containsNull = true)\n |    |    |    |-- 3bet: boolean (nullable = true)\n |    |    |    |-- 3bet_opportunity: boolean (nullable = true)\n |    |    |    |-- all_in: boolean (nullable = true)\n |    |    |    |-- allin_opportunity: boolean (nullable = true)\n |    |    |    |-- flop_seen: boolean (nullable = true)\n |    |    |    |-- fold_opportunity: boolean (nullable = true)\n |    |    |    |-- hp: boolean (nullable = true)\n |    |    |    |-- pfr_count: boolean (nullable = true)\n |    |    |    |-- pfr_opportunity: boolean (nullable = true)\n |    |    |    |-- pr: boolean (nullable = true)\n |    |    |    |-- time_played: integer (nullable = true)\n |    |    |    |-- user_id: integer (nullable = true)\n |    |    |    |-- user_won: boolean (nullable = true)\n |    |    |    |-- vpip: boolean (nullable = true)\n |    |    |    |-- vpip_opportunity: boolean (nullable = true)\n |    |    |    |-- won_at_showdown: boolean (nullable = true)\n |    |    |    |-- wtsd: boolean (nullable = true)\n |    |    |    |-- fold_on_allin_opportunity: boolean (nullable = true)\n |    |    |    |-- fold: boolean (nullable = true)\n |    |    |    |-- 3bet_fold_opportunity: boolean (nullable = true)\n |    |    |    |-- steal_opportunity: boolean (nullable = true)\n |    |    |    |-- steal_attempt: boolean (nullable = true)\n |    |    |    |-- fold_on_allin: boolean (nullable = true)\n |    |    |    |-- check_n_raise_opportunity: boolean (nullable = true)\n |    |    |    |-- cbet_opportunity: boolean (nullable = true)\n |    |    |    |-- cbet_success: boolean (nullable = true)\n |    |    |    |-- fold_to_cbet_opportunity: boolean (nullable = true)\n |    |    |    |-- folded_to_cbet: boolean (nullable = true)\n |    |    |    |-- folded_to_3bet: boolean (nullable = true)\n |    |    |    |-- check_n_raise: boolean (nullable = true)\n |    |-- game_rake: struct (nullable = true)\n |    |    |-- bonus_rake: double (nullable = true)\n |    |    |-- net_rake: double (nullable = true)\n |    |    |-- service_tax: double (nullable = true)\n |    |    |-- total_rake: double (nullable = true)\n |-- event_name: string (nullable = true)\n |-- event_source: string (nullable = true)\n |-- event_timestamp: integer (nullable = true)\n |-- event_uuid: string (nullable = true)\n |-- event_version: string (nullable = true)\n\nNone\n",
					"output_type": "stream"
				}
			]
		},
		{
			"cell_type": "code",
			"source": "raw_data_df_2 = raw_data_df.select(col(\"_metadata.file_modification_time\").alias(\"file_modification_time\"))",
			"metadata": {
				"trusted": true,
				"tags": []
			},
			"execution_count": 7,
			"outputs": [
				{
					"name": "stdout",
					"text": "\n",
					"output_type": "stream"
				}
			]
		},
		{
			"cell_type": "code",
			"source": "raw_data_df_2.printSchema()",
			"metadata": {
				"trusted": true,
				"tags": []
			},
			"execution_count": 8,
			"outputs": [
				{
					"name": "stdout",
					"text": "root\n |-- file_modification_time: timestamp (nullable = true)\n",
					"output_type": "stream"
				}
			]
		},
		{
			"cell_type": "code",
			"source": "# df_meta = raw_data_df.select(\n#     col(\"event_timestamp\").cast(\"timestamp\").alias(\"record_date\"),\n#     col(\"_metadata.file_modification_time\").alias(\"file_modification_time\"),\n#     col(\"_metadata.file_path\").alias(\"file_path\"),\n#     col(\"_metadata.file_name\").alias(\"file_name\"),\n#     col(\"_metadata.file_size\").alias(\"file_size\")\n# ).distinct()\n\ndf_meta = raw_data_df.select(\n    col(\"event_timestamp\").cast(\"timestamp\").alias(\"record_date\"),\n    col(\"_metadata.file_modification_time\").alias(\"file_modification_time\"),\n    col(\"_metadata.file_path\").alias(\"file_path\"),\n    col(\"_metadata.file_name\").alias(\"file_name\"),\n    col(\"_metadata.file_size\").alias(\"file_size\")\n).distinct()",
			"metadata": {
				"trusted": true,
				"tags": []
			},
			"execution_count": 14,
			"outputs": [
				{
					"name": "stdout",
					"text": "\n",
					"output_type": "stream"
				}
			]
		},
		{
			"cell_type": "code",
			"source": "df_meta.printSchema()",
			"metadata": {
				"trusted": true,
				"tags": []
			},
			"execution_count": 15,
			"outputs": [
				{
					"name": "stdout",
					"text": "root\n |-- record_date: timestamp (nullable = true)\n |-- file_modification_time: timestamp (nullable = true)\n |-- file_path: string (nullable = true)\n |-- file_name: string (nullable = true)\n |-- file_size: long (nullable = true)\n",
					"output_type": "stream"
				}
			]
		},
		{
			"cell_type": "code",
			"source": "s3_path = \"s3://robin-poc-bucket/rahul/test_1/hands_json_data/\"\n\n# tables \nhands_bronze_data = \"glue_catalog.iceberg_sample_db.hands_bronze_data\"\nhands_gold_data = \"glue_catalog.iceberg_sample_db.hands_gold_data\"\nexternal_checkpoint_table = \"glue_catalog.iceberg_sample_db.external_checkpoints\"\n\n# s3 location for database \nhands_gold_data_s3_location = \"s3://robin-poc-bucket/rahul/iceberg/hands_gold_data\"\niceberg_database = \"iceberg_sample_db\"\n\n# check_point_locations \nbronze_checkpointlocation = \"s3://robin-poc-bucket/rahul/test_1/bronze_checkpointlocation/\"\ngold_checkpointlocation = \"s3://robin-poc-bucket/rahul/test_1/gold_checkpointlocation/\"\nopensearch_checkpointlocation = \"s3://robin-poc-bucket/rahul/test_1/opensearch_checkpointlocation/\"\nexplicit_checkpoint_path = \"s3://robin-poc-bucket/rahul/test_1/external_checkpointlocation/\"\n\n# open search index\nes_index = \"performance_by_stake_v2\"\nes_nodes = \"https://vpc-testpspvt-2xjjsrwejwnaxv7l3zoavngysy.ap-south-1.es.amazonaws.com\"",
			"metadata": {
				"trusted": true,
				"tags": []
			},
			"execution_count": 11,
			"outputs": [
				{
					"name": "stdout",
					"text": "\n",
					"output_type": "stream"
				}
			]
		},
		{
			"cell_type": "code",
			"source": "# sQueryStats = ( \n#             df_meta.writeStream\n#                 .queryName(\"external-checkpoint\")\n#                 .format(\"iceberg\")\n#                 .outputMode(\"append\")\n#                 .option(\"checkpointLocation\", explicit_checkpoint_path)\n#                 .partitionBy(\"record_date\")\n#                 .toTable(f'{external_checkpoint_table}') \n#         )",
			"metadata": {
				"trusted": true,
				"tags": []
			},
			"execution_count": 7,
			"outputs": []
		},
		{
			"cell_type": "code",
			"source": "def get_schema():\n    SCHEMA = StructType([\n        StructField(\"event_data\", StructType([\n            StructField(\"community_cards\", ArrayType(StructType([\n                StructField(\"card_suit\", StringType()),\n                StructField(\"card_value\", IntegerType())\n            ]))),\n            StructField(\"community_cards_rit\", ArrayType(StructType([\n                StructField(\"card_suit\", StringType()),\n                StructField(\"card_value\", IntegerType())\n            ]))),\n            StructField(\"game_end_timestamp\", IntegerType()),\n            StructField(\"game_start_timestamp\", IntegerType()),\n            StructField(\"hand_id\", LongType()),\n            StructField(\"player_details\", ArrayType(StructType([\n                StructField(\"cards\", ArrayType(StructType([\n                    StructField(\"card_suit\", StringType()),\n                    StructField(\"card_value\", IntegerType())\n                ]))),\n                StructField(\"chip_stack_end\", DoubleType()),\n                StructField(\"chip_stack_start\", DoubleType()),\n                StructField(\"position\", StringType()),\n                StructField(\"profit_loss\", DoubleType()),\n                StructField(\"reference_number\", StringType()),\n                StructField(\"seat_index\", IntegerType()),\n                StructField(\"session_id\", StringType()),\n                StructField(\"total_bets\", DoubleType()),\n                StructField(\"total_win\", DoubleType()),\n                StructField(\"user_id\", LongType()),\n                StructField(\"username\", StringType()),\n                StructField(\"rake\", StructType([\n                    StructField(\"bonus_rake\", DoubleType()),\n                    StructField(\"net_rake\", DoubleType()),\n                    StructField(\"service_tax\", DoubleType()),\n                    StructField(\"total_rake\", DoubleType())\n                ]))\n            ]))),\n            StructField(\"players_in_hand\", IntegerType()),\n            StructField(\"rit_game\", IntegerType()),\n            StructField(\"round_details\", StructType([\n                StructField(\"flop\", StructType([\n                    StructField(\"player_action\", ArrayType(StructType([\n                        StructField(\"action\", StringType()),\n                        StructField(\"amount\", DoubleType()),\n                        StructField(\"chip_stack_end\", DoubleType()),\n                        StructField(\"chip_stack_start\", DoubleType()),\n                        StructField(\"position\", StringType()),\n                        StructField(\"timestamp\", IntegerType()),\n                        StructField(\"total_pot\", DoubleType()),\n                        StructField(\"user_id\", IntegerType()),\n                        StructField(\"username\", StringType())\n                    ]))),\n                    StructField(\"pot_details\", ArrayType(DoubleType()))\n                ])),\n                StructField(\"preflop\", StructType([\n                    StructField(\"player_action\", ArrayType(StructType([\n                        StructField(\"action\", StringType()),\n                        StructField(\"amount\", DoubleType()),\n                        StructField(\"chip_stack_end\", DoubleType()),\n                        StructField(\"chip_stack_start\", DoubleType()),\n                        StructField(\"position\", StringType()),\n                        StructField(\"timestamp\", IntegerType()),\n                        StructField(\"total_pot\", DoubleType()),\n                        StructField(\"user_id\", IntegerType()),\n                        StructField(\"username\", StringType())\n                    ]))),\n                    StructField(\"pot_details\", ArrayType(DoubleType()))\n                ])),\n                StructField(\"river\", StructType([\n                    StructField(\"player_action\", ArrayType(StructType([\n                        StructField(\"action\", StringType()),\n                        StructField(\"amount\", DoubleType()),\n                        StructField(\"chip_stack_end\", DoubleType()),\n                        StructField(\"chip_stack_start\", DoubleType()),\n                        StructField(\"position\", StringType()),\n                        StructField(\"timestamp\", IntegerType()),\n                        StructField(\"total_pot\", DoubleType()),\n                        StructField(\"user_id\", IntegerType()),\n                        StructField(\"username\", StringType())\n                    ]))),\n                    StructField(\"pot_details\", ArrayType(DoubleType()))\n                ])),\n                StructField(\"showdown\", StructType([\n                    StructField(\"pot_details\", ArrayType(DoubleType())),\n                    StructField(\"pot_details_rit\", ArrayType(DoubleType())),\n                    StructField(\"pot_winners\", ArrayType(StructType([\n                        StructField(\"pot_amount\", DoubleType()),\n                        StructField(\"pot_contestants\", ArrayType(IntegerType())),\n                        StructField(\"winner_details\", ArrayType(StructType([\n                            StructField(\"amount\", DoubleType()),\n                            StructField(\"timestamp\", IntegerType()),\n                            StructField(\"user_id\", IntegerType()),\n                            StructField(\"win_type\", StringType())\n                        ])))\n                    ]))),\n                    StructField(\"pot_winners_rit\", ArrayType(StructType([\n                        StructField(\"pot_amount\", DoubleType()),\n                        StructField(\"pot_contestants\", ArrayType(IntegerType())),\n                        StructField(\"winner_details\", ArrayType(StructType([\n                            StructField(\"amount\", DoubleType()),\n                            StructField(\"timestamp\", IntegerType()),\n                            StructField(\"user_id\", IntegerType()),\n                            StructField(\"win_type\", StringType())\n                        ])))\n                    ])))\n                ])),\n                StructField(\"turn\", StructType([\n                    StructField(\"player_action\", ArrayType(StructType([\n                        StructField(\"action\", StringType()),\n                        StructField(\"amount\", DoubleType()),\n                        StructField(\"chip_stack_end\", DoubleType()),\n                        StructField(\"chip_stack_start\", DoubleType()),\n                        StructField(\"position\", StringType()),\n                        StructField(\"timestamp\", IntegerType()),\n                        StructField(\"total_pot\", DoubleType()),\n                        StructField(\"user_id\", IntegerType()),\n                        StructField(\"username\", StringType())\n                    ]))),\n                    StructField(\"pot_details\", ArrayType(DoubleType()))\n                ]))\n            ])),\n            StructField(\"showdown\", BooleanType()),\n            StructField(\"table_info\", StructType([\n                StructField(\"big_blind\", DoubleType()),\n                StructField(\"is_anonymous\", BooleanType()),\n                StructField(\"max_buyin\", DoubleType()),\n                StructField(\"min_buyin\", DoubleType()),\n                StructField(\"mini_game_type_id\", StringType()),\n                StructField(\"players_per_table\", IntegerType()),\n                StructField(\"small_blind\", DoubleType()),\n                StructField(\"table_child_id\", IntegerType()),\n                StructField(\"table_id\", IntegerType()),\n                StructField(\"table_type\", StringType())\n            ])),\n            StructField(\"total_pot\", DoubleType()),\n            StructField(\"user_stats\", ArrayType(StructType([\n                StructField(\"3bet\", BooleanType()),\n                StructField(\"3bet_opportunity\", BooleanType()),\n                StructField(\"all_in\", BooleanType()),\n                StructField(\"allin_opportunity\", BooleanType()),\n                StructField(\"flop_seen\", BooleanType()),\n                StructField(\"fold_opportunity\", BooleanType()),\n                StructField(\"hp\", BooleanType()),\n                StructField(\"pfr_count\", BooleanType()),\n                StructField(\"pfr_opportunity\", BooleanType()),\n                StructField(\"pr\", BooleanType()),\n                StructField(\"time_played\", IntegerType()),\n                StructField(\"user_id\", IntegerType()),\n                StructField(\"user_won\", BooleanType()),\n                StructField(\"vpip\", BooleanType()),\n                StructField(\"vpip_opportunity\", BooleanType()),\n                StructField(\"won_at_showdown\", BooleanType()),\n                StructField(\"wtsd\", BooleanType()),\n                StructField(\"fold_on_allin_opportunity\", BooleanType()),\n                StructField(\"fold\", BooleanType()),\n                StructField(\"3bet_fold_opportunity\", BooleanType()),\n                StructField(\"steal_opportunity\", BooleanType()),\n                StructField(\"steal_attempt\", BooleanType()),\n                StructField(\"fold_on_allin\", BooleanType()),\n                StructField(\"check_n_raise_opportunity\", BooleanType()),\n                StructField(\"cbet_opportunity\", BooleanType()),\n                StructField(\"cbet_success\", BooleanType()),\n                StructField(\"fold_to_cbet_opportunity\", BooleanType()),\n                StructField(\"folded_to_cbet\", BooleanType()),\n                StructField(\"folded_to_3bet\", BooleanType()),\n                StructField(\"check_n_raise\", BooleanType())\n            ]))),\n            StructField(\"game_rake\", StructType([\n                StructField(\"bonus_rake\", DoubleType()),\n                StructField(\"net_rake\", DoubleType()),\n                StructField(\"service_tax\", DoubleType()),\n                StructField(\"total_rake\", DoubleType())\n            ]))\n        ])),\n        StructField(\"event_name\", StringType()),\n        StructField(\"event_source\", StringType()),\n        StructField(\"event_timestamp\", IntegerType()),\n        StructField(\"event_uuid\", StringType()),\n        StructField(\"event_version\", StringType())\n    ])\n    \n    return SCHEMA",
			"metadata": {
				"trusted": true,
				"tags": []
			},
			"execution_count": 2,
			"outputs": [
				{
					"name": "stdout",
					"text": "\n",
					"output_type": "stream"
				}
			]
		},
		{
			"cell_type": "code",
			"source": "schema = get_schema()",
			"metadata": {
				"trusted": true,
				"tags": []
			},
			"execution_count": 3,
			"outputs": [
				{
					"name": "stdout",
					"text": "\n",
					"output_type": "stream"
				}
			]
		},
		{
			"cell_type": "code",
			"source": "dfs = spark.readStream.format(\"parquet\").schema(schema).load(\"s3://robin-poc-bucket/rahul/test_1/user_stats/\")",
			"metadata": {
				"trusted": true,
				"tags": []
			},
			"execution_count": 4,
			"outputs": [
				{
					"name": "stdout",
					"text": "\n",
					"output_type": "stream"
				}
			]
		},
		{
			"cell_type": "code",
			"source": "dfs.printSchema()",
			"metadata": {
				"trusted": true,
				"tags": []
			},
			"execution_count": 5,
			"outputs": [
				{
					"name": "stdout",
					"text": "root\n |-- event_data: struct (nullable = true)\n |    |-- community_cards: array (nullable = true)\n |    |    |-- element: struct (containsNull = true)\n |    |    |    |-- card_suit: string (nullable = true)\n |    |    |    |-- card_value: integer (nullable = true)\n |    |-- community_cards_rit: array (nullable = true)\n |    |    |-- element: struct (containsNull = true)\n |    |    |    |-- card_suit: string (nullable = true)\n |    |    |    |-- card_value: integer (nullable = true)\n |    |-- game_end_timestamp: integer (nullable = true)\n |    |-- game_start_timestamp: integer (nullable = true)\n |    |-- hand_id: long (nullable = true)\n |    |-- player_details: array (nullable = true)\n |    |    |-- element: struct (containsNull = true)\n |    |    |    |-- cards: array (nullable = true)\n |    |    |    |    |-- element: struct (containsNull = true)\n |    |    |    |    |    |-- card_suit: string (nullable = true)\n |    |    |    |    |    |-- card_value: integer (nullable = true)\n |    |    |    |-- chip_stack_end: double (nullable = true)\n |    |    |    |-- chip_stack_start: double (nullable = true)\n |    |    |    |-- position: string (nullable = true)\n |    |    |    |-- profit_loss: double (nullable = true)\n |    |    |    |-- reference_number: string (nullable = true)\n |    |    |    |-- seat_index: integer (nullable = true)\n |    |    |    |-- session_id: string (nullable = true)\n |    |    |    |-- total_bets: double (nullable = true)\n |    |    |    |-- total_win: double (nullable = true)\n |    |    |    |-- user_id: long (nullable = true)\n |    |    |    |-- username: string (nullable = true)\n |    |    |    |-- rake: struct (nullable = true)\n |    |    |    |    |-- bonus_rake: double (nullable = true)\n |    |    |    |    |-- net_rake: double (nullable = true)\n |    |    |    |    |-- service_tax: double (nullable = true)\n |    |    |    |    |-- total_rake: double (nullable = true)\n |    |-- players_in_hand: integer (nullable = true)\n |    |-- rit_game: integer (nullable = true)\n |    |-- round_details: struct (nullable = true)\n |    |    |-- flop: struct (nullable = true)\n |    |    |    |-- player_action: array (nullable = true)\n |    |    |    |    |-- element: struct (containsNull = true)\n |    |    |    |    |    |-- action: string (nullable = true)\n |    |    |    |    |    |-- amount: double (nullable = true)\n |    |    |    |    |    |-- chip_stack_end: double (nullable = true)\n |    |    |    |    |    |-- chip_stack_start: double (nullable = true)\n |    |    |    |    |    |-- position: string (nullable = true)\n |    |    |    |    |    |-- timestamp: integer (nullable = true)\n |    |    |    |    |    |-- total_pot: double (nullable = true)\n |    |    |    |    |    |-- user_id: integer (nullable = true)\n |    |    |    |    |    |-- username: string (nullable = true)\n |    |    |    |-- pot_details: array (nullable = true)\n |    |    |    |    |-- element: double (containsNull = true)\n |    |    |-- preflop: struct (nullable = true)\n |    |    |    |-- player_action: array (nullable = true)\n |    |    |    |    |-- element: struct (containsNull = true)\n |    |    |    |    |    |-- action: string (nullable = true)\n |    |    |    |    |    |-- amount: double (nullable = true)\n |    |    |    |    |    |-- chip_stack_end: double (nullable = true)\n |    |    |    |    |    |-- chip_stack_start: double (nullable = true)\n |    |    |    |    |    |-- position: string (nullable = true)\n |    |    |    |    |    |-- timestamp: integer (nullable = true)\n |    |    |    |    |    |-- total_pot: double (nullable = true)\n |    |    |    |    |    |-- user_id: integer (nullable = true)\n |    |    |    |    |    |-- username: string (nullable = true)\n |    |    |    |-- pot_details: array (nullable = true)\n |    |    |    |    |-- element: double (containsNull = true)\n |    |    |-- river: struct (nullable = true)\n |    |    |    |-- player_action: array (nullable = true)\n |    |    |    |    |-- element: struct (containsNull = true)\n |    |    |    |    |    |-- action: string (nullable = true)\n |    |    |    |    |    |-- amount: double (nullable = true)\n |    |    |    |    |    |-- chip_stack_end: double (nullable = true)\n |    |    |    |    |    |-- chip_stack_start: double (nullable = true)\n |    |    |    |    |    |-- position: string (nullable = true)\n |    |    |    |    |    |-- timestamp: integer (nullable = true)\n |    |    |    |    |    |-- total_pot: double (nullable = true)\n |    |    |    |    |    |-- user_id: integer (nullable = true)\n |    |    |    |    |    |-- username: string (nullable = true)\n |    |    |    |-- pot_details: array (nullable = true)\n |    |    |    |    |-- element: double (containsNull = true)\n |    |    |-- showdown: struct (nullable = true)\n |    |    |    |-- pot_details: array (nullable = true)\n |    |    |    |    |-- element: double (containsNull = true)\n |    |    |    |-- pot_details_rit: array (nullable = true)\n |    |    |    |    |-- element: double (containsNull = true)\n |    |    |    |-- pot_winners: array (nullable = true)\n |    |    |    |    |-- element: struct (containsNull = true)\n |    |    |    |    |    |-- pot_amount: double (nullable = true)\n |    |    |    |    |    |-- pot_contestants: array (nullable = true)\n |    |    |    |    |    |    |-- element: integer (containsNull = true)\n |    |    |    |    |    |-- winner_details: array (nullable = true)\n |    |    |    |    |    |    |-- element: struct (containsNull = true)\n |    |    |    |    |    |    |    |-- amount: double (nullable = true)\n |    |    |    |    |    |    |    |-- timestamp: integer (nullable = true)\n |    |    |    |    |    |    |    |-- user_id: integer (nullable = true)\n |    |    |    |    |    |    |    |-- win_type: string (nullable = true)\n |    |    |    |-- pot_winners_rit: array (nullable = true)\n |    |    |    |    |-- element: struct (containsNull = true)\n |    |    |    |    |    |-- pot_amount: double (nullable = true)\n |    |    |    |    |    |-- pot_contestants: array (nullable = true)\n |    |    |    |    |    |    |-- element: integer (containsNull = true)\n |    |    |    |    |    |-- winner_details: array (nullable = true)\n |    |    |    |    |    |    |-- element: struct (containsNull = true)\n |    |    |    |    |    |    |    |-- amount: double (nullable = true)\n |    |    |    |    |    |    |    |-- timestamp: integer (nullable = true)\n |    |    |    |    |    |    |    |-- user_id: integer (nullable = true)\n |    |    |    |    |    |    |    |-- win_type: string (nullable = true)\n |    |    |-- turn: struct (nullable = true)\n |    |    |    |-- player_action: array (nullable = true)\n |    |    |    |    |-- element: struct (containsNull = true)\n |    |    |    |    |    |-- action: string (nullable = true)\n |    |    |    |    |    |-- amount: double (nullable = true)\n |    |    |    |    |    |-- chip_stack_end: double (nullable = true)\n |    |    |    |    |    |-- chip_stack_start: double (nullable = true)\n |    |    |    |    |    |-- position: string (nullable = true)\n |    |    |    |    |    |-- timestamp: integer (nullable = true)\n |    |    |    |    |    |-- total_pot: double (nullable = true)\n |    |    |    |    |    |-- user_id: integer (nullable = true)\n |    |    |    |    |    |-- username: string (nullable = true)\n |    |    |    |-- pot_details: array (nullable = true)\n |    |    |    |    |-- element: double (containsNull = true)\n |    |-- showdown: boolean (nullable = true)\n |    |-- table_info: struct (nullable = true)\n |    |    |-- big_blind: double (nullable = true)\n |    |    |-- is_anonymous: boolean (nullable = true)\n |    |    |-- max_buyin: double (nullable = true)\n |    |    |-- min_buyin: double (nullable = true)\n |    |    |-- mini_game_type_id: string (nullable = true)\n |    |    |-- players_per_table: integer (nullable = true)\n |    |    |-- small_blind: double (nullable = true)\n |    |    |-- table_child_id: integer (nullable = true)\n |    |    |-- table_id: integer (nullable = true)\n |    |    |-- table_type: string (nullable = true)\n |    |-- total_pot: double (nullable = true)\n |    |-- user_stats: array (nullable = true)\n |    |    |-- element: struct (containsNull = true)\n |    |    |    |-- 3bet: boolean (nullable = true)\n |    |    |    |-- 3bet_opportunity: boolean (nullable = true)\n |    |    |    |-- all_in: boolean (nullable = true)\n |    |    |    |-- allin_opportunity: boolean (nullable = true)\n |    |    |    |-- flop_seen: boolean (nullable = true)\n |    |    |    |-- fold_opportunity: boolean (nullable = true)\n |    |    |    |-- hp: boolean (nullable = true)\n |    |    |    |-- pfr_count: boolean (nullable = true)\n |    |    |    |-- pfr_opportunity: boolean (nullable = true)\n |    |    |    |-- pr: boolean (nullable = true)\n |    |    |    |-- time_played: integer (nullable = true)\n |    |    |    |-- user_id: integer (nullable = true)\n |    |    |    |-- user_won: boolean (nullable = true)\n |    |    |    |-- vpip: boolean (nullable = true)\n |    |    |    |-- vpip_opportunity: boolean (nullable = true)\n |    |    |    |-- won_at_showdown: boolean (nullable = true)\n |    |    |    |-- wtsd: boolean (nullable = true)\n |    |    |    |-- fold_on_allin_opportunity: boolean (nullable = true)\n |    |    |    |-- fold: boolean (nullable = true)\n |    |    |    |-- 3bet_fold_opportunity: boolean (nullable = true)\n |    |    |    |-- steal_opportunity: boolean (nullable = true)\n |    |    |    |-- steal_attempt: boolean (nullable = true)\n |    |    |    |-- fold_on_allin: boolean (nullable = true)\n |    |    |    |-- check_n_raise_opportunity: boolean (nullable = true)\n |    |    |    |-- cbet_opportunity: boolean (nullable = true)\n |    |    |    |-- cbet_success: boolean (nullable = true)\n |    |    |    |-- fold_to_cbet_opportunity: boolean (nullable = true)\n |    |    |    |-- folded_to_cbet: boolean (nullable = true)\n |    |    |    |-- folded_to_3bet: boolean (nullable = true)\n |    |    |    |-- check_n_raise: boolean (nullable = true)\n |    |-- game_rake: struct (nullable = true)\n |    |    |-- bonus_rake: double (nullable = true)\n |    |    |-- net_rake: double (nullable = true)\n |    |    |-- service_tax: double (nullable = true)\n |    |    |-- total_rake: double (nullable = true)\n |-- event_name: string (nullable = true)\n |-- event_source: string (nullable = true)\n |-- event_timestamp: integer (nullable = true)\n |-- event_uuid: string (nullable = true)\n |-- event_version: string (nullable = true)\n",
					"output_type": "stream"
				}
			]
		},
		{
			"cell_type": "code",
			"source": "hands_bronze_data = \"glue_catalog.iceberg_sample_db.new_paruet\"",
			"metadata": {
				"trusted": true,
				"tags": []
			},
			"execution_count": 6,
			"outputs": [
				{
					"name": "stdout",
					"text": "\n",
					"output_type": "stream"
				}
			]
		},
		{
			"cell_type": "code",
			"source": "sbronzeQuery = ( \n            dfs.writeStream\n                    .queryName(\"bronze-ingestion\")\n                    .format(\"iceberg\")\n                    .option(\"checkpointLocation\", \"s3://robin-poc-bucket/rahul/test_1/test_checkpoint/\")\n                    .outputMode(\"append\")\n                    .option(\"mergeSchema\",\"true\")\n                    .toTable(f\"{hands_bronze_data}\")\n        ) \n\n",
			"metadata": {
				"trusted": true,
				"tags": []
			},
			"execution_count": null,
			"outputs": []
		},
		{
			"cell_type": "code",
			"source": "# sbronzeQuery = ( \n#             dfs.writeStream\n#                     .queryName(\"bronze-ingestion\")\n#                     .format(\"iceberg\")\n#                     .option(\"checkpointLocation\", \"s3://robin-poc-bucket/rahul/test_1/test_checkpoint/\")\n#                     .outputMode(\"append\")\n#                     .option(\"mergeSchema\",\"true\")\n#                     .toTable(\"hands_bronze_data\")\n#         ) ",
			"metadata": {},
			"execution_count": null,
			"outputs": []
		},
		{
			"cell_type": "code",
			"source": "# source \ns3_path = \"s3://robin-poc-bucket/rahul/test_1/hands_json_data/\"\nsource_archive = \"s3://robin-poc-bucket/rahul/test_1/archive/\"\n\n# tables \nhands_bronze_data = \"glue_catalog.iceberg_sample_db.hands_bronze_data\"\nhands_gold_data = \"glue_catalog.iceberg_sample_db.hands_gold_data\"\nexternal_checkpoint_table = \"glue_catalog.iceberg_sample_db.external_checkpoints\"\n\n# s3 location for database \nhands_gold_data_s3_location = \"s3://robin-poc-bucket/rahul/iceberg/\"\niceberg_database = \"iceberg_sample_db\"\n\n# check_point_locations \nbronze_checkpointlocation = \"s3://robin-poc-bucket/rahul/test_1/bronze_checkpointlocation/\"\ngold_checkpointlocation = \"s3://robin-poc-bucket/rahul/test_1/gold_checkpointlocation/\"\nopensearch_checkpointlocation = \"s3://robin-poc-bucket/rahul/test_1/opensearch_checkpointlocation/\"\nexplicit_checkpoint_path = \"s3://robin-poc-bucket/rahul/test_1/external_checkpointlocation/\"\n\n# open search index\nes_index = \"performance_by_stake_v2\"\nes_nodes = \"https://vpc-testpspvt-2xjjsrwejwnaxv7l3zoavngysy.ap-south-1.es.amazonaws.com\"",
			"metadata": {
				"trusted": true,
				"tags": []
			},
			"execution_count": 2,
			"outputs": [
				{
					"name": "stdout",
					"text": "\n",
					"output_type": "stream"
				}
			]
		},
		{
			"cell_type": "code",
			"source": "# create database\nspark.sql(f\"Create database if not exists {iceberg_database} location '{hands_gold_data_s3_location}' \").show()",
			"metadata": {
				"trusted": true,
				"tags": []
			},
			"execution_count": 3,
			"outputs": [
				{
					"name": "stdout",
					"text": "++\n||\n++\n++\n",
					"output_type": "stream"
				}
			]
		},
		{
			"cell_type": "code",
			"source": "def get_schema():\n    SCHEMA = StructType([\n        StructField(\"event_data\", StructType([\n            StructField(\"community_cards\", ArrayType(StructType([\n                StructField(\"card_suit\", StringType()),\n                StructField(\"card_value\", IntegerType())\n            ]))),\n            StructField(\"community_cards_rit\", ArrayType(StructType([\n                StructField(\"card_suit\", StringType()),\n                StructField(\"card_value\", IntegerType())\n            ]))),\n            StructField(\"game_end_timestamp\", IntegerType()),\n            StructField(\"game_start_timestamp\", IntegerType()),\n            StructField(\"hand_id\", LongType()),\n            StructField(\"player_details\", ArrayType(StructType([\n                StructField(\"cards\", ArrayType(StructType([\n                    StructField(\"card_suit\", StringType()),\n                    StructField(\"card_value\", IntegerType())\n                ]))),\n                StructField(\"chip_stack_end\", DoubleType()),\n                StructField(\"chip_stack_start\", DoubleType()),\n                StructField(\"position\", StringType()),\n                StructField(\"profit_loss\", DoubleType()),\n                StructField(\"reference_number\", StringType()),\n                StructField(\"seat_index\", IntegerType()),\n                StructField(\"session_id\", StringType()),\n                StructField(\"total_bets\", DoubleType()),\n                StructField(\"total_win\", DoubleType()),\n                StructField(\"user_id\", LongType()),\n                StructField(\"username\", StringType()),\n                StructField(\"rake\", StructType([\n                    StructField(\"bonus_rake\", DoubleType()),\n                    StructField(\"net_rake\", DoubleType()),\n                    StructField(\"service_tax\", DoubleType()),\n                    StructField(\"total_rake\", DoubleType())\n                ]))\n            ]))),\n            StructField(\"players_in_hand\", IntegerType()),\n            StructField(\"rit_game\", IntegerType()),\n            StructField(\"round_details\", StructType([\n                StructField(\"flop\", StructType([\n                    StructField(\"player_action\", ArrayType(StructType([\n                        StructField(\"action\", StringType()),\n                        StructField(\"amount\", DoubleType()),\n                        StructField(\"chip_stack_end\", DoubleType()),\n                        StructField(\"chip_stack_start\", DoubleType()),\n                        StructField(\"position\", StringType()),\n                        StructField(\"timestamp\", IntegerType()),\n                        StructField(\"total_pot\", DoubleType()),\n                        StructField(\"user_id\", IntegerType()),\n                        StructField(\"username\", StringType())\n                    ]))),\n                    StructField(\"pot_details\", ArrayType(DoubleType()))\n                ])),\n                StructField(\"preflop\", StructType([\n                    StructField(\"player_action\", ArrayType(StructType([\n                        StructField(\"action\", StringType()),\n                        StructField(\"amount\", DoubleType()),\n                        StructField(\"chip_stack_end\", DoubleType()),\n                        StructField(\"chip_stack_start\", DoubleType()),\n                        StructField(\"position\", StringType()),\n                        StructField(\"timestamp\", IntegerType()),\n                        StructField(\"total_pot\", DoubleType()),\n                        StructField(\"user_id\", IntegerType()),\n                        StructField(\"username\", StringType())\n                    ]))),\n                    StructField(\"pot_details\", ArrayType(DoubleType()))\n                ])),\n                StructField(\"river\", StructType([\n                    StructField(\"player_action\", ArrayType(StructType([\n                        StructField(\"action\", StringType()),\n                        StructField(\"amount\", DoubleType()),\n                        StructField(\"chip_stack_end\", DoubleType()),\n                        StructField(\"chip_stack_start\", DoubleType()),\n                        StructField(\"position\", StringType()),\n                        StructField(\"timestamp\", IntegerType()),\n                        StructField(\"total_pot\", DoubleType()),\n                        StructField(\"user_id\", IntegerType()),\n                        StructField(\"username\", StringType())\n                    ]))),\n                    StructField(\"pot_details\", ArrayType(DoubleType()))\n                ])),\n                StructField(\"showdown\", StructType([\n                    StructField(\"pot_details\", ArrayType(DoubleType())),\n                    StructField(\"pot_details_rit\", ArrayType(DoubleType())),\n                    StructField(\"pot_winners\", ArrayType(StructType([\n                        StructField(\"pot_amount\", DoubleType()),\n                        StructField(\"pot_contestants\", ArrayType(IntegerType())),\n                        StructField(\"winner_details\", ArrayType(StructType([\n                            StructField(\"amount\", DoubleType()),\n                            StructField(\"timestamp\", IntegerType()),\n                            StructField(\"user_id\", IntegerType()),\n                            StructField(\"win_type\", StringType())\n                        ])))\n                    ]))),\n                    StructField(\"pot_winners_rit\", ArrayType(StructType([\n                        StructField(\"pot_amount\", DoubleType()),\n                        StructField(\"pot_contestants\", ArrayType(IntegerType())),\n                        StructField(\"winner_details\", ArrayType(StructType([\n                            StructField(\"amount\", DoubleType()),\n                            StructField(\"timestamp\", IntegerType()),\n                            StructField(\"user_id\", IntegerType()),\n                            StructField(\"win_type\", StringType())\n                        ])))\n                    ])))\n                ])),\n                StructField(\"turn\", StructType([\n                    StructField(\"player_action\", ArrayType(StructType([\n                        StructField(\"action\", StringType()),\n                        StructField(\"amount\", DoubleType()),\n                        StructField(\"chip_stack_end\", DoubleType()),\n                        StructField(\"chip_stack_start\", DoubleType()),\n                        StructField(\"position\", StringType()),\n                        StructField(\"timestamp\", IntegerType()),\n                        StructField(\"total_pot\", DoubleType()),\n                        StructField(\"user_id\", IntegerType()),\n                        StructField(\"username\", StringType())\n                    ]))),\n                    StructField(\"pot_details\", ArrayType(DoubleType()))\n                ]))\n            ])),\n            StructField(\"showdown\", BooleanType()),\n            StructField(\"table_info\", StructType([\n                StructField(\"big_blind\", DoubleType()),\n                StructField(\"is_anonymous\", BooleanType()),\n                StructField(\"max_buyin\", DoubleType()),\n                StructField(\"min_buyin\", DoubleType()),\n                StructField(\"mini_game_type_id\", StringType()),\n                StructField(\"players_per_table\", IntegerType()),\n                StructField(\"small_blind\", DoubleType()),\n                StructField(\"table_child_id\", IntegerType()),\n                StructField(\"table_id\", IntegerType()),\n                StructField(\"table_type\", StringType())\n            ])),\n            StructField(\"total_pot\", DoubleType()),\n            StructField(\"user_stats\", ArrayType(StructType([\n                StructField(\"3bet\", BooleanType()),\n                StructField(\"3bet_opportunity\", BooleanType()),\n                StructField(\"all_in\", BooleanType()),\n                StructField(\"allin_opportunity\", BooleanType()),\n                StructField(\"flop_seen\", BooleanType()),\n                StructField(\"fold_opportunity\", BooleanType()),\n                StructField(\"hp\", BooleanType()),\n                StructField(\"pfr_count\", BooleanType()),\n                StructField(\"pfr_opportunity\", BooleanType()),\n                StructField(\"pr\", BooleanType()),\n                StructField(\"time_played\", IntegerType()),\n                StructField(\"user_id\", IntegerType()),\n                StructField(\"user_won\", BooleanType()),\n                StructField(\"vpip\", BooleanType()),\n                StructField(\"vpip_opportunity\", BooleanType()),\n                StructField(\"won_at_showdown\", BooleanType()),\n                StructField(\"wtsd\", BooleanType()),\n                StructField(\"fold_on_allin_opportunity\", BooleanType()),\n                StructField(\"fold\", BooleanType()),\n                StructField(\"3bet_fold_opportunity\", BooleanType()),\n                StructField(\"steal_opportunity\", BooleanType()),\n                StructField(\"steal_attempt\", BooleanType()),\n                StructField(\"fold_on_allin\", BooleanType()),\n                StructField(\"check_n_raise_opportunity\", BooleanType()),\n                StructField(\"cbet_opportunity\", BooleanType()),\n                StructField(\"cbet_success\", BooleanType()),\n                StructField(\"fold_to_cbet_opportunity\", BooleanType()),\n                StructField(\"folded_to_cbet\", BooleanType()),\n                StructField(\"folded_to_3bet\", BooleanType()),\n                StructField(\"check_n_raise\", BooleanType())\n            ]))),\n            StructField(\"game_rake\", StructType([\n                StructField(\"bonus_rake\", DoubleType()),\n                StructField(\"net_rake\", DoubleType()),\n                StructField(\"service_tax\", DoubleType()),\n                StructField(\"total_rake\", DoubleType())\n            ]))\n        ])),\n        StructField(\"event_name\", StringType()),\n        StructField(\"event_source\", StringType()),\n        StructField(\"event_timestamp\", IntegerType()),\n        StructField('event_type', StringType()),\n        StructField(\"event_uuid\", StringType()),\n        StructField(\"event_version\", StringType())\n    ])\n    \n    return SCHEMA",
			"metadata": {
				"trusted": true,
				"tags": []
			},
			"execution_count": 4,
			"outputs": [
				{
					"name": "stdout",
					"text": "\n",
					"output_type": "stream"
				}
			]
		},
		{
			"cell_type": "code",
			"source": "class Bronze():\n    \n    def __init__(self):\n        self.s3_path = s3_path\n        self.iceberg_database = iceberg_database\n        self.check_point_location = bronze_checkpointlocation\n        self.source_archive = source_archive\n\n    def readHandsEvents(self):\n        schema = get_schema()\n        return ( \n            spark.readStream\n                .format(\"json\")\n                .schema(schema)\n                .load(s3_path) \n        )\n                \n    def writeToIcebergTable(self, hands_df):\n        sbronzeQuery = ( \n            hands_df.writeStream\n                    .queryName(\"bronze-ingestion\")\n                    .format(\"iceberg\")\n                    .option(\"checkpointLocation\", self.check_point_location)\n                    .option(\"mergeSchema\",\"true\")\n                    .outputMode(\"append\")\n                    .toTable(f\"{hands_bronze_data}\")\n        ) \n        return sbronzeQuery\n\n    def process(self):\n        \n        raw_data_df = self.readHandsEvents()\n        sQuery = self.writeToIcebergTable(raw_data_df)\n        return raw_data_df",
			"metadata": {
				"trusted": true,
				"tags": []
			},
			"execution_count": 6,
			"outputs": [
				{
					"name": "stdout",
					"text": "\n",
					"output_type": "stream"
				}
			]
		},
		{
			"cell_type": "code",
			"source": "print(\"Started Bronze processing \")\nbr = Bronze()\nb = br.process()\n# b.awaitTermination()\nprint(\"Stopped bronze processing \")",
			"metadata": {
				"trusted": true,
				"tags": []
			},
			"execution_count": 7,
			"outputs": [
				{
					"name": "stdout",
					"text": "Started Bronze processing \nStopped bronze processing\n",
					"output_type": "stream"
				}
			]
		},
		{
			"cell_type": "raw",
			"source": "",
			"metadata": {}
		},
		{
			"cell_type": "code",
			"source": "spark.sql(\"\"\"\n    CREATE TABLE IF NOT EXISTS iceberg_sample_db.hands_bronze_data (\n      event_data struct<community_cards: array<struct<card_suit: string, card_value: int>>, community_cards_rit: array<struct<card_suit: string, card_value: int>>, game_end_timestamp: int, game_start_timestamp: int, hand_id: bigint, player_details: array<struct<cards: array<struct<card_suit: string, card_value: int>>, chip_stack_end: double, chip_stack_start: double, position: string, profit_loss: double, reference_number: string, seat_index: int, session_id: string, total_bets: double, total_win: double, user_id: bigint, username: string, rake: struct<bonus_rake: double, net_rake: double, service_tax: double, total_rake: double>>>, players_in_hand: int, rit_game: int, round_details: struct<flop: struct<player_action: array<struct<action: string, amount: double, chip_stack_end: double, chip_stack_start: double, position: string, timestamp: int, total_pot: double, user_id: int, username: string>>, pot_details: array<double>>, preflop: struct<player_action: array<struct<action: string, amount: double, chip_stack_end: double, chip_stack_start: double, position: string, timestamp: int, total_pot: double, user_id: int, username: string>>, pot_details: array<double>>, river: struct<player_action: array<struct<action: string, amount: double, chip_stack_end: double, chip_stack_start: double, position: string, timestamp: int, total_pot: double, user_id: int, username: string>>, pot_details: array<double>>, showdown: struct<pot_details: array<double>, pot_details_rit: array<double>, pot_winners: array<struct<pot_amount: double, pot_contestants: array<int>, winner_details: array<struct<amount: double, timestamp: int, user_id: int, win_type: string>>>>, pot_winners_rit: array<struct<pot_amount: double, pot_contestants: array<int>, winner_details: array<struct<amount: double, timestamp: int, user_id: int, win_type: string>>>>>, turn: struct<player_action: array<struct<action: string, amount: double, chip_stack_end: double, chip_stack_start: double, position: string, timestamp: int, total_pot: double, user_id: int, username: string>>, pot_details: array<double>>>, showdown: boolean, table_info: struct<big_blind: double, is_anonymous: boolean, max_buyin: double, min_buyin: double, mini_game_type_id: string, players_per_table: int, small_blind: double, table_child_id: int, table_id: int, table_type: string>, total_pot: double, user_stats: array<struct<3bet: boolean, 3bet_opportunity: boolean, all_in: boolean, allin_opportunity: boolean, flop_seen: boolean, fold_opportunity: boolean, hp: boolean, pfr_count: boolean, pfr_opportunity: boolean, pr: boolean, time_played: int, user_id: int, user_won: boolean, vpip: boolean, vpip_opportunity: boolean, won_at_showdown: boolean, wtsd: boolean, fold_on_allin_opportunity: boolean, fold: boolean, 3bet_fold_opportunity: boolean, steal_opportunity: boolean, steal_attempt: boolean, fold_on_allin: boolean, check_n_raise_opportunity: boolean, cbet_opportunity: boolean, cbet_success: boolean, fold_to_cbet_opportunity: boolean, folded_to_cbet: boolean, folded_to_3bet: boolean, check_n_raise: boolean>>, game_rake: struct<bonus_rake: double, net_rake: double, service_tax: double, total_rake: double>>,\n      event_name string,\n      event_source string,\n      event_timestamp int,\n      event_uuid string,\n      event_version string)\n    LOCATION 's3://robin-poc-bucket/rahul/iceberg/hands_bronze_data'\n    TBLPROPERTIES (\n      'table_type'='iceberg',\n      'write.spark.accept-any-schema'='true',\n      'format-version'='2'\n    );\n        \n\"\"\")",
			"metadata": {
				"trusted": true,
				"tags": []
			},
			"execution_count": 9,
			"outputs": [
				{
					"name": "stdout",
					"text": "AnalysisException: org.apache.hadoop.hive.ql.metadata.HiveException: Unable to fetch table hands_bronze_data. StorageDescriptor#InputFormat cannot be null for table: hands_bronze_data (Service: null; Status Code: 0; Error Code: null; Request ID: null; Proxy: null)\n",
					"output_type": "stream"
				}
			]
		},
		{
			"cell_type": "code",
			"source": "spark.sql(\"\"\"\nALTER TABLE glue_catalog.iceberg_sample_db.hands_bronze_data SET TBLPROPERTIES (\n  'write.spark.accept-any-schema'='true'\n)\n\"\"\")",
			"metadata": {
				"trusted": true,
				"tags": []
			},
			"execution_count": 10,
			"outputs": [
				{
					"name": "stdout",
					"text": "DataFrame[]\n",
					"output_type": "stream"
				}
			]
		},
		{
			"cell_type": "code",
			"source": "",
			"metadata": {},
			"execution_count": null,
			"outputs": []
		}
	]
}