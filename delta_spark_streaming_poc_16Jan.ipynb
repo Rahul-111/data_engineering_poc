{
	"metadata": {
		"kernelspec": {
			"name": "glue_pyspark",
			"display_name": "Glue PySpark",
			"language": "python"
		},
		"language_info": {
			"name": "Python_Glue_Session",
			"mimetype": "text/x-python",
			"codemirror_mode": {
				"name": "python",
				"version": 3
			},
			"pygments_lexer": "python3",
			"file_extension": ".py"
		}
	},
	"nbformat_minor": 4,
	"nbformat": 4,
	"cells": [
		{
			"cell_type": "markdown",
			"source": "# AWS Glue Studio Notebook\n##### You are now running a AWS Glue Studio notebook; To start using your notebook you need to start an AWS Glue Interactive Session.\n",
			"metadata": {
				"editable": true,
				"trusted": true
			}
		},
		{
			"cell_type": "markdown",
			"source": "#### Optional: Run this cell to see available notebook commands (\"magics\").\n",
			"metadata": {
				"editable": true,
				"trusted": true
			}
		},
		{
			"cell_type": "code",
			"source": "%idle_timeout 15\n%glue_version 4.0\n%worker_type G.1X\n%number_of_workers 2\n# %additional_python_modules PyAthena,pyarrow==7,awswrangler\n# %extra_jars [s3://pb-4-0-datalake-transformed-layer/rfm_demo/iceberg-spark-runtime-3.3_2.12-1.4.3.jar,s3://pb-4-0-datalake-transformed-layer/rfm_demo/iceberg-aws-bundle-1.4.3.jar]\n%%configure\n{\n    \"--conf\": \"spark.sql.extensions=io.delta.sql.DeltaSparkSessionExtension --conf spark.sql.catalog.spark_catalog=org.apache.spark.sql.delta.catalog.DeltaCatalog --conf spark.delta.logStore.class=org.apache.spark.sql.delta.storage.S3SingleDriverLogStore\",\n    \"--datalake-formats\": \"delta\"\n}",
			"metadata": {
				"trusted": true,
				"editable": true
			},
			"execution_count": 6,
			"outputs": [
				{
					"name": "stdout",
					"text": "Welcome to the Glue Interactive Sessions Kernel\nFor more information on available magic commands, please type %help in any new cell.\n\nPlease view our Getting Started page to access the most up-to-date information on the Interactive Sessions kernel: https://docs.aws.amazon.com/glue/latest/dg/interactive-sessions.html\nInstalled kernel version: 1.0.2 \nCurrent idle_timeout is None minutes.\nidle_timeout has been set to 15 minutes.\nSetting Glue version to: 4.0\nPrevious worker type: None\nSetting new worker type to: G.1X\nPrevious number of workers: None\nSetting new number of workers to: 2\nThe following configurations have been updated: {'--conf': 'spark.sql.extensions=io.delta.sql.DeltaSparkSessionExtension --conf spark.sql.catalog.spark_catalog=org.apache.spark.sql.delta.catalog.DeltaCatalog --conf spark.delta.logStore.class=org.apache.spark.sql.delta.storage.S3SingleDriverLogStore', '--datalake-formats': 'delta'}\n",
					"output_type": "stream"
				}
			]
		},
		{
			"cell_type": "markdown",
			"source": "####  Run this cell to set up and start your interactive session.\n",
			"metadata": {
				"editable": true,
				"trusted": true
			}
		},
		{
			"cell_type": "code",
			"source": "from pyspark.sql.types import StructType, StructField, StringType, LongType, DoubleType, BooleanType, ArrayType, DateType\nfrom pyspark.sql.types import StructType, StructField, ArrayType, StringType, IntegerType, LongType, DoubleType, BooleanType\nfrom pyspark.sql.functions import col, count, when, sum, min, max, expr\nfrom pyspark.sql import functions as F\nimport boto3",
			"metadata": {
				"trusted": true,
				"tags": []
			},
			"execution_count": 1,
			"outputs": [
				{
					"name": "stdout",
					"text": "Trying to create a Glue session for the kernel.\nSession Type: glueetl\nWorker Type: G.1X\nNumber of Workers: 2\nSession ID: ae876d3a-4708-4efb-964a-677e8ab57c36\nApplying the following default arguments:\n--glue_kernel_version 1.0.2\n--enable-glue-datacatalog true\n--conf spark.sql.extensions=io.delta.sql.DeltaSparkSessionExtension --conf spark.sql.catalog.spark_catalog=org.apache.spark.sql.delta.catalog.DeltaCatalog --conf spark.delta.logStore.class=org.apache.spark.sql.delta.storage.S3SingleDriverLogStore\n--datalake-formats delta\nWaiting for session ae876d3a-4708-4efb-964a-677e8ab57c36 to get into ready status...\nSession ae876d3a-4708-4efb-964a-677e8ab57c36 has been created.\n\n",
					"output_type": "stream"
				}
			]
		},
		{
			"cell_type": "code",
			"source": "# source \ns3_path = \"s3://robin-poc-bucket/rahul/test_1/hands_json_data/\"\n# s3 location for database \ndelta_database = \"pokershot_sample_delta_database_v1\"\nhands_gold_data_s3_location = f\"s3://robin-poc-bucket/rahul/{delta_database}/\"\n\n# tables and s3 location and check_point_path\nbronze_table = \"hands_bronze_data\"\nbronze_table_s3_location = f\"{hands_gold_data_s3_location}{bronze_table}/\"\nbronze_checkpointlocation = \"s3://robin-poc-bucket/rahul/test_1/bronze_checkpointlocation/\"\n\ngold_table = \"hands_gold_data\"\ngold_table_s3_location = f\"{hands_gold_data_s3_location}{gold_table}/\"\ngold_checkpointlocation = \"s3://robin-poc-bucket/rahul/test_1/gold_checkpointlocation/\"\n\n# explicity checkpoint location\nexternal_checkpoint_table = \"external_checkpoints\"\nexternal_checkpoint_table_s3_location = f\"{hands_gold_data_s3_location}{external_checkpoint_table}/\"\nexplicit_checkpoint_path = \"s3://robin-poc-bucket/rahul/test_1/external_checkpointlocation/\"\n\n# open search index\nopensearch_index = \"performance_by_stake_v2\"\nopensearch_nodes = \"https://vpc-testpspvt-2xjjsrwejwnaxv7l3zoavngysy.ap-south-1.es.amazonaws.com\"\nopensearch_checkpointlocation = \"s3://robin-poc-bucket/rahul/test_1/opensearch_checkpointlocation/\"\n\n#TODO startingTimestamp in gold layer \n\n# create database\nspark.sql(f\"Create database if not exists {delta_database} location '{hands_gold_data_s3_location}' \")",
			"metadata": {
				"trusted": true,
				"editable": true
			},
			"execution_count": 11,
			"outputs": [
				{
					"name": "stdout",
					"text": "DataFrame[]\n",
					"output_type": "stream"
				}
			]
		},
		{
			"cell_type": "markdown",
			"source": "#### Example: Create a DynamicFrame from a table in the AWS Glue Data Catalog and display its schema\n",
			"metadata": {
				"editable": true,
				"trusted": true
			}
		},
		{
			"cell_type": "code",
			"source": "spark.sql(f\"Create database if not exists {delta_database} location '{hands_gold_data_s3_location}' \").show()",
			"metadata": {
				"trusted": true,
				"editable": true
			},
			"execution_count": 3,
			"outputs": [
				{
					"name": "stdout",
					"text": "++\n||\n++\n++\n",
					"output_type": "stream"
				}
			]
		},
		{
			"cell_type": "markdown",
			"source": "#### Example: Convert the DynamicFrame to a Spark DataFrame and display a sample of the data\n",
			"metadata": {
				"editable": true,
				"trusted": true
			}
		},
		{
			"cell_type": "code",
			"source": "class Bronze():\n    \n    def __init__(self):\n        self.s3_path = s3_path\n        self.delta_database = delta_database\n        self.bronze_table = bronze_table\n        self.bronze_table_s3_location = bronze_table_s3_location\n        self.bronze_checkpointlocation = bronze_checkpointlocation\n\n    def get_schema(self):\n        SCHEMA = StructType([\n            StructField(\"event_data\", StructType([\n                StructField(\"community_cards\", ArrayType(StructType([\n                    StructField(\"card_suit\", StringType()),\n                    StructField(\"card_value\", IntegerType())\n                ]))),\n                StructField(\"community_cards_rit\", ArrayType(StructType([\n                    StructField(\"card_suit\", StringType()),\n                    StructField(\"card_value\", IntegerType())\n                ]))),\n                StructField(\"game_end_timestamp\", IntegerType()),\n                StructField(\"game_start_timestamp\", IntegerType()),\n                StructField(\"hand_id\", LongType()),\n                StructField(\"player_details\", ArrayType(StructType([\n                    StructField(\"cards\", ArrayType(StructType([\n                        StructField(\"card_suit\", StringType()),\n                        StructField(\"card_value\", IntegerType())\n                    ]))),\n                    StructField(\"chip_stack_end\", DoubleType()),\n                    StructField(\"chip_stack_start\", DoubleType()),\n                    StructField(\"position\", StringType()),\n                    StructField(\"profit_loss\", DoubleType()),\n                    StructField(\"reference_number\", StringType()),\n                    StructField(\"seat_index\", IntegerType()),\n                    StructField(\"session_id\", StringType()),\n                    StructField(\"total_bets\", DoubleType()),\n                    StructField(\"total_win\", DoubleType()),\n                    StructField(\"user_id\", LongType()),\n                    StructField(\"username\", StringType()),\n                    StructField(\"rake\", StructType([\n                        StructField(\"bonus_rake\", DoubleType()),\n                        StructField(\"net_rake\", DoubleType()),\n                        StructField(\"service_tax\", DoubleType()),\n                        StructField(\"total_rake\", DoubleType())\n                    ]))\n                ]))),\n                StructField(\"players_in_hand\", IntegerType()),\n                StructField(\"rit_game\", IntegerType()),\n                StructField(\"round_details\", StructType([\n                    StructField(\"flop\", StructType([\n                        StructField(\"player_action\", ArrayType(StructType([\n                            StructField(\"action\", StringType()),\n                            StructField(\"amount\", DoubleType()),\n                            StructField(\"chip_stack_end\", DoubleType()),\n                            StructField(\"chip_stack_start\", DoubleType()),\n                            StructField(\"position\", StringType()),\n                            StructField(\"timestamp\", IntegerType()),\n                            StructField(\"total_pot\", DoubleType()),\n                            StructField(\"user_id\", IntegerType()),\n                            StructField(\"username\", StringType())\n                        ]))),\n                        StructField(\"pot_details\", ArrayType(DoubleType()))\n                    ])),\n                    StructField(\"preflop\", StructType([\n                        StructField(\"player_action\", ArrayType(StructType([\n                            StructField(\"action\", StringType()),\n                            StructField(\"amount\", DoubleType()),\n                            StructField(\"chip_stack_end\", DoubleType()),\n                            StructField(\"chip_stack_start\", DoubleType()),\n                            StructField(\"position\", StringType()),\n                            StructField(\"timestamp\", IntegerType()),\n                            StructField(\"total_pot\", DoubleType()),\n                            StructField(\"user_id\", IntegerType()),\n                            StructField(\"username\", StringType())\n                        ]))),\n                        StructField(\"pot_details\", ArrayType(DoubleType()))\n                    ])),\n                    StructField(\"river\", StructType([\n                        StructField(\"player_action\", ArrayType(StructType([\n                            StructField(\"action\", StringType()),\n                            StructField(\"amount\", DoubleType()),\n                            StructField(\"chip_stack_end\", DoubleType()),\n                            StructField(\"chip_stack_start\", DoubleType()),\n                            StructField(\"position\", StringType()),\n                            StructField(\"timestamp\", IntegerType()),\n                            StructField(\"total_pot\", DoubleType()),\n                            StructField(\"user_id\", IntegerType()),\n                            StructField(\"username\", StringType())\n                        ]))),\n                        StructField(\"pot_details\", ArrayType(DoubleType()))\n                    ])),\n                    StructField(\"showdown\", StructType([\n                        StructField(\"pot_details\", ArrayType(DoubleType())),\n                        StructField(\"pot_details_rit\", ArrayType(DoubleType())),\n                        StructField(\"pot_winners\", ArrayType(StructType([\n                            StructField(\"pot_amount\", DoubleType()),\n                            StructField(\"pot_contestants\", ArrayType(IntegerType())),\n                            StructField(\"winner_details\", ArrayType(StructType([\n                                StructField(\"amount\", DoubleType()),\n                                StructField(\"timestamp\", IntegerType()),\n                                StructField(\"user_id\", IntegerType()),\n                                StructField(\"win_type\", StringType())\n                            ])))\n                        ]))),\n                        StructField(\"pot_winners_rit\", ArrayType(StructType([\n                            StructField(\"pot_amount\", DoubleType()),\n                            StructField(\"pot_contestants\", ArrayType(IntegerType())),\n                            StructField(\"winner_details\", ArrayType(StructType([\n                                StructField(\"amount\", DoubleType()),\n                                StructField(\"timestamp\", IntegerType()),\n                                StructField(\"user_id\", IntegerType()),\n                                StructField(\"win_type\", StringType())\n                            ])))\n                        ])))\n                    ])),\n                    StructField(\"turn\", StructType([\n                        StructField(\"player_action\", ArrayType(StructType([\n                            StructField(\"action\", StringType()),\n                            StructField(\"amount\", DoubleType()),\n                            StructField(\"chip_stack_end\", DoubleType()),\n                            StructField(\"chip_stack_start\", DoubleType()),\n                            StructField(\"position\", StringType()),\n                            StructField(\"timestamp\", IntegerType()),\n                            StructField(\"total_pot\", DoubleType()),\n                            StructField(\"user_id\", IntegerType()),\n                            StructField(\"username\", StringType())\n                        ]))),\n                        StructField(\"pot_details\", ArrayType(DoubleType()))\n                    ]))\n                ])),\n                StructField(\"showdown\", BooleanType()),\n                StructField(\"table_info\", StructType([\n                    StructField(\"big_blind\", DoubleType()),\n                    StructField(\"is_anonymous\", BooleanType()),\n                    StructField(\"max_buyin\", DoubleType()),\n                    StructField(\"min_buyin\", DoubleType()),\n                    StructField(\"mini_game_type_id\", StringType()),\n                    StructField(\"players_per_table\", IntegerType()),\n                    StructField(\"small_blind\", DoubleType()),\n                    StructField(\"table_child_id\", IntegerType()),\n                    StructField(\"table_id\", IntegerType()),\n                    StructField(\"table_type\", StringType())\n                ])),\n                StructField(\"total_pot\", DoubleType()),\n                StructField(\"user_stats\", ArrayType(StructType([\n                    StructField(\"3bet\", BooleanType()),\n                    StructField(\"3bet_opportunity\", BooleanType()),\n                    StructField(\"all_in\", BooleanType()),\n                    StructField(\"allin_opportunity\", BooleanType()),\n                    StructField(\"flop_seen\", BooleanType()),\n                    StructField(\"fold_opportunity\", BooleanType()),\n                    StructField(\"hp\", BooleanType()),\n                    StructField(\"pfr_count\", BooleanType()),\n                    StructField(\"pfr_opportunity\", BooleanType()),\n                    StructField(\"pr\", BooleanType()),\n                    StructField(\"time_played\", IntegerType()),\n                    StructField(\"user_id\", IntegerType()),\n                    StructField(\"user_won\", BooleanType()),\n                    StructField(\"vpip\", BooleanType()),\n                    StructField(\"vpip_opportunity\", BooleanType()),\n                    StructField(\"won_at_showdown\", BooleanType()),\n                    StructField(\"wtsd\", BooleanType()),\n                    StructField(\"fold_on_allin_opportunity\", BooleanType()),\n                    StructField(\"fold\", BooleanType()),\n                    StructField(\"3bet_fold_opportunity\", BooleanType()),\n                    StructField(\"steal_opportunity\", BooleanType()),\n                    StructField(\"steal_attempt\", BooleanType()),\n                    StructField(\"fold_on_allin\", BooleanType()),\n                    StructField(\"check_n_raise_opportunity\", BooleanType()),\n                    StructField(\"cbet_opportunity\", BooleanType()),\n                    StructField(\"cbet_success\", BooleanType()),\n                    StructField(\"fold_to_cbet_opportunity\", BooleanType()),\n                    StructField(\"folded_to_cbet\", BooleanType()),\n                    StructField(\"folded_to_3bet\", BooleanType()),\n                    StructField(\"check_n_raise\", BooleanType())\n                ]))),\n                StructField(\"game_rake\", StructType([\n                    StructField(\"bonus_rake\", DoubleType()),\n                    StructField(\"net_rake\", DoubleType()),\n                    StructField(\"service_tax\", DoubleType()),\n                    StructField(\"total_rake\", DoubleType())\n                ]))\n            ])),\n            StructField(\"event_name\", StringType()),\n            StructField(\"event_source\", StringType()),\n            StructField(\"event_timestamp\", IntegerType()),\n            StructField(\"event_uuid\", StringType()),\n            StructField(\"event_version\", StringType())\n        ])\n        \n        return SCHEMA\n\n\n    def readHandsEvents(self):\n        schema = self.get_schema()\n        return spark.readStream.format(\"json\").schema(schema).load(self.s3_path)\n                \n    def writeToDeltaTable(self, hands_df):\n        \n        additional_options = {\n            \"path\": self.bronze_table_s3_location\n        }\n        \n        sbronzeQuery = ( \n            hands_df.writeStream\n                    .queryName(\"bronze-ingestion\")\n                    .format(\"delta\")\n                    .options(**additional_options)\n                    .option(\"checkpointLocation\", self.bronze_checkpointlocation)\n                    .outputMode(\"append\")\n                    .option(\"mergeSchema\", \"true\")\n                    .partitionBy(\"event_name\", \"record_date\")\n                    .toTable(f\"{self.delta_database}.{self.bronze_table}\")\n        ) \n        return sbronzeQuery\n\n    def get_file_metadata(self, raw_data_df):\n        raw_data_df = raw_data_df.select(\"*\", \"_metadata.file_modification_time\", \"_metadata.file_path\").withColumn(\"record_date\", expr(\"date(cast(event_timestamp as timestamp))\"))\n        return raw_data_df\n\n    def process(self):\n        raw_data_df = self.readHandsEvents()\n        raw_data_with_file_meta_df = self.get_file_metadata(raw_data_df)\n        sQuery = self.writeToDeltaTable(raw_data_with_file_meta_df)\n        return raw_data_with_file_meta_df",
			"metadata": {
				"trusted": true,
				"editable": true
			},
			"execution_count": 12,
			"outputs": [
				{
					"name": "stdout",
					"text": "\n",
					"output_type": "stream"
				}
			]
		},
		{
			"cell_type": "markdown",
			"source": "#### Example: Visualize data with matplotlib\n",
			"metadata": {
				"editable": true,
				"trusted": true
			}
		},
		{
			"cell_type": "code",
			"source": "print(\"Started Bronze processing \")\nbr = Bronze()\nraw_data_df = br.process()\n# b.awaitTermination()\nprint(\"Stopped bronze processing \")",
			"metadata": {
				"trusted": true,
				"editable": true
			},
			"execution_count": 13,
			"outputs": [
				{
					"name": "stdout",
					"text": "Started Bronze processing \nStopped bronze processing\n",
					"output_type": "stream"
				}
			]
		},
		{
			"cell_type": "markdown",
			"source": "#### Example: Write the data in the DynamicFrame to a location in Amazon S3 and a table for it in the AWS Glue Data Catalog\n",
			"metadata": {
				"editable": true,
				"trusted": true
			}
		},
		{
			"cell_type": "code",
			"source": "# schema = br.get_schema()\ns3_path = \"s3://robin-poc-bucket/rahul/test_1/hands_json_data/data_1.json\"\ndf = spark.readStream.format(\"json\").schema(schema).load(s3_path)",
			"metadata": {
				"trusted": true,
				"editable": true
			},
			"execution_count": 7,
			"outputs": [
				{
					"name": "stdout",
					"text": "\n",
					"output_type": "stream"
				}
			]
		},
		{
			"cell_type": "code",
			"source": "df.printSchema()",
			"metadata": {
				"trusted": true,
				"tags": []
			},
			"execution_count": 8,
			"outputs": [
				{
					"name": "stdout",
					"text": "root\n |-- event_data: struct (nullable = true)\n |    |-- community_cards: array (nullable = true)\n |    |    |-- element: struct (containsNull = true)\n |    |    |    |-- card_suit: string (nullable = true)\n |    |    |    |-- card_value: integer (nullable = true)\n |    |-- community_cards_rit: array (nullable = true)\n |    |    |-- element: struct (containsNull = true)\n |    |    |    |-- card_suit: string (nullable = true)\n |    |    |    |-- card_value: integer (nullable = true)\n |    |-- game_end_timestamp: integer (nullable = true)\n |    |-- game_start_timestamp: integer (nullable = true)\n |    |-- hand_id: long (nullable = true)\n |    |-- player_details: array (nullable = true)\n |    |    |-- element: struct (containsNull = true)\n |    |    |    |-- cards: array (nullable = true)\n |    |    |    |    |-- element: struct (containsNull = true)\n |    |    |    |    |    |-- card_suit: string (nullable = true)\n |    |    |    |    |    |-- card_value: integer (nullable = true)\n |    |    |    |-- chip_stack_end: double (nullable = true)\n |    |    |    |-- chip_stack_start: double (nullable = true)\n |    |    |    |-- position: string (nullable = true)\n |    |    |    |-- profit_loss: double (nullable = true)\n |    |    |    |-- reference_number: string (nullable = true)\n |    |    |    |-- seat_index: integer (nullable = true)\n |    |    |    |-- session_id: string (nullable = true)\n |    |    |    |-- total_bets: double (nullable = true)\n |    |    |    |-- total_win: double (nullable = true)\n |    |    |    |-- user_id: long (nullable = true)\n |    |    |    |-- username: string (nullable = true)\n |    |    |    |-- rake: struct (nullable = true)\n |    |    |    |    |-- bonus_rake: double (nullable = true)\n |    |    |    |    |-- net_rake: double (nullable = true)\n |    |    |    |    |-- service_tax: double (nullable = true)\n |    |    |    |    |-- total_rake: double (nullable = true)\n |    |-- players_in_hand: integer (nullable = true)\n |    |-- rit_game: integer (nullable = true)\n |    |-- round_details: struct (nullable = true)\n |    |    |-- flop: struct (nullable = true)\n |    |    |    |-- player_action: array (nullable = true)\n |    |    |    |    |-- element: struct (containsNull = true)\n |    |    |    |    |    |-- action: string (nullable = true)\n |    |    |    |    |    |-- amount: double (nullable = true)\n |    |    |    |    |    |-- chip_stack_end: double (nullable = true)\n |    |    |    |    |    |-- chip_stack_start: double (nullable = true)\n |    |    |    |    |    |-- position: string (nullable = true)\n |    |    |    |    |    |-- timestamp: integer (nullable = true)\n |    |    |    |    |    |-- total_pot: double (nullable = true)\n |    |    |    |    |    |-- user_id: integer (nullable = true)\n |    |    |    |    |    |-- username: string (nullable = true)\n |    |    |    |-- pot_details: array (nullable = true)\n |    |    |    |    |-- element: double (containsNull = true)\n |    |    |-- preflop: struct (nullable = true)\n |    |    |    |-- player_action: array (nullable = true)\n |    |    |    |    |-- element: struct (containsNull = true)\n |    |    |    |    |    |-- action: string (nullable = true)\n |    |    |    |    |    |-- amount: double (nullable = true)\n |    |    |    |    |    |-- chip_stack_end: double (nullable = true)\n |    |    |    |    |    |-- chip_stack_start: double (nullable = true)\n |    |    |    |    |    |-- position: string (nullable = true)\n |    |    |    |    |    |-- timestamp: integer (nullable = true)\n |    |    |    |    |    |-- total_pot: double (nullable = true)\n |    |    |    |    |    |-- user_id: integer (nullable = true)\n |    |    |    |    |    |-- username: string (nullable = true)\n |    |    |    |-- pot_details: array (nullable = true)\n |    |    |    |    |-- element: double (containsNull = true)\n |    |    |-- river: struct (nullable = true)\n |    |    |    |-- player_action: array (nullable = true)\n |    |    |    |    |-- element: struct (containsNull = true)\n |    |    |    |    |    |-- action: string (nullable = true)\n |    |    |    |    |    |-- amount: double (nullable = true)\n |    |    |    |    |    |-- chip_stack_end: double (nullable = true)\n |    |    |    |    |    |-- chip_stack_start: double (nullable = true)\n |    |    |    |    |    |-- position: string (nullable = true)\n |    |    |    |    |    |-- timestamp: integer (nullable = true)\n |    |    |    |    |    |-- total_pot: double (nullable = true)\n |    |    |    |    |    |-- user_id: integer (nullable = true)\n |    |    |    |    |    |-- username: string (nullable = true)\n |    |    |    |-- pot_details: array (nullable = true)\n |    |    |    |    |-- element: double (containsNull = true)\n |    |    |-- showdown: struct (nullable = true)\n |    |    |    |-- pot_details: array (nullable = true)\n |    |    |    |    |-- element: double (containsNull = true)\n |    |    |    |-- pot_details_rit: array (nullable = true)\n |    |    |    |    |-- element: double (containsNull = true)\n |    |    |    |-- pot_winners: array (nullable = true)\n |    |    |    |    |-- element: struct (containsNull = true)\n |    |    |    |    |    |-- pot_amount: double (nullable = true)\n |    |    |    |    |    |-- pot_contestants: array (nullable = true)\n |    |    |    |    |    |    |-- element: integer (containsNull = true)\n |    |    |    |    |    |-- winner_details: array (nullable = true)\n |    |    |    |    |    |    |-- element: struct (containsNull = true)\n |    |    |    |    |    |    |    |-- amount: double (nullable = true)\n |    |    |    |    |    |    |    |-- timestamp: integer (nullable = true)\n |    |    |    |    |    |    |    |-- user_id: integer (nullable = true)\n |    |    |    |    |    |    |    |-- win_type: string (nullable = true)\n |    |    |    |-- pot_winners_rit: array (nullable = true)\n |    |    |    |    |-- element: struct (containsNull = true)\n |    |    |    |    |    |-- pot_amount: double (nullable = true)\n |    |    |    |    |    |-- pot_contestants: array (nullable = true)\n |    |    |    |    |    |    |-- element: integer (containsNull = true)\n |    |    |    |    |    |-- winner_details: array (nullable = true)\n |    |    |    |    |    |    |-- element: struct (containsNull = true)\n |    |    |    |    |    |    |    |-- amount: double (nullable = true)\n |    |    |    |    |    |    |    |-- timestamp: integer (nullable = true)\n |    |    |    |    |    |    |    |-- user_id: integer (nullable = true)\n |    |    |    |    |    |    |    |-- win_type: string (nullable = true)\n |    |    |-- turn: struct (nullable = true)\n |    |    |    |-- player_action: array (nullable = true)\n |    |    |    |    |-- element: struct (containsNull = true)\n |    |    |    |    |    |-- action: string (nullable = true)\n |    |    |    |    |    |-- amount: double (nullable = true)\n |    |    |    |    |    |-- chip_stack_end: double (nullable = true)\n |    |    |    |    |    |-- chip_stack_start: double (nullable = true)\n |    |    |    |    |    |-- position: string (nullable = true)\n |    |    |    |    |    |-- timestamp: integer (nullable = true)\n |    |    |    |    |    |-- total_pot: double (nullable = true)\n |    |    |    |    |    |-- user_id: integer (nullable = true)\n |    |    |    |    |    |-- username: string (nullable = true)\n |    |    |    |-- pot_details: array (nullable = true)\n |    |    |    |    |-- element: double (containsNull = true)\n |    |-- showdown: boolean (nullable = true)\n |    |-- table_info: struct (nullable = true)\n |    |    |-- big_blind: double (nullable = true)\n |    |    |-- is_anonymous: boolean (nullable = true)\n |    |    |-- max_buyin: double (nullable = true)\n |    |    |-- min_buyin: double (nullable = true)\n |    |    |-- mini_game_type_id: string (nullable = true)\n |    |    |-- players_per_table: integer (nullable = true)\n |    |    |-- small_blind: double (nullable = true)\n |    |    |-- table_child_id: integer (nullable = true)\n |    |    |-- table_id: integer (nullable = true)\n |    |    |-- table_type: string (nullable = true)\n |    |-- total_pot: double (nullable = true)\n |    |-- user_stats: array (nullable = true)\n |    |    |-- element: struct (containsNull = true)\n |    |    |    |-- 3bet: boolean (nullable = true)\n |    |    |    |-- 3bet_opportunity: boolean (nullable = true)\n |    |    |    |-- all_in: boolean (nullable = true)\n |    |    |    |-- allin_opportunity: boolean (nullable = true)\n |    |    |    |-- flop_seen: boolean (nullable = true)\n |    |    |    |-- fold_opportunity: boolean (nullable = true)\n |    |    |    |-- hp: boolean (nullable = true)\n |    |    |    |-- pfr_count: boolean (nullable = true)\n |    |    |    |-- pfr_opportunity: boolean (nullable = true)\n |    |    |    |-- pr: boolean (nullable = true)\n |    |    |    |-- time_played: integer (nullable = true)\n |    |    |    |-- user_id: integer (nullable = true)\n |    |    |    |-- user_won: boolean (nullable = true)\n |    |    |    |-- vpip: boolean (nullable = true)\n |    |    |    |-- vpip_opportunity: boolean (nullable = true)\n |    |    |    |-- won_at_showdown: boolean (nullable = true)\n |    |    |    |-- wtsd: boolean (nullable = true)\n |    |    |    |-- fold_on_allin_opportunity: boolean (nullable = true)\n |    |    |    |-- fold: boolean (nullable = true)\n |    |    |    |-- 3bet_fold_opportunity: boolean (nullable = true)\n |    |    |    |-- steal_opportunity: boolean (nullable = true)\n |    |    |    |-- steal_attempt: boolean (nullable = true)\n |    |    |    |-- fold_on_allin: boolean (nullable = true)\n |    |    |    |-- check_n_raise_opportunity: boolean (nullable = true)\n |    |    |    |-- cbet_opportunity: boolean (nullable = true)\n |    |    |    |-- cbet_success: boolean (nullable = true)\n |    |    |    |-- fold_to_cbet_opportunity: boolean (nullable = true)\n |    |    |    |-- folded_to_cbet: boolean (nullable = true)\n |    |    |    |-- folded_to_3bet: boolean (nullable = true)\n |    |    |    |-- check_n_raise: boolean (nullable = true)\n |    |-- game_rake: struct (nullable = true)\n |    |    |-- bonus_rake: double (nullable = true)\n |    |    |-- net_rake: double (nullable = true)\n |    |    |-- service_tax: double (nullable = true)\n |    |    |-- total_rake: double (nullable = true)\n |-- event_name: string (nullable = true)\n |-- event_source: string (nullable = true)\n |-- event_timestamp: integer (nullable = true)\n |-- event_uuid: string (nullable = true)\n |-- event_version: string (nullable = true)\n",
					"output_type": "stream"
				}
			]
		},
		{
			"cell_type": "code",
			"source": "dfs1 = ( \n    df.select(\"*\", \"_metadata.file_modification_time\", \"_metadata.file_path\").withColumn(\"record_date\", expr(\"date(cast(event_timestamp as timestamp))\"))\n    )",
			"metadata": {
				"trusted": true,
				"tags": []
			},
			"execution_count": 11,
			"outputs": [
				{
					"name": "stdout",
					"text": "\n",
					"output_type": "stream"
				}
			]
		},
		{
			"cell_type": "code",
			"source": "dfs1.printSchema()",
			"metadata": {
				"trusted": true,
				"tags": []
			},
			"execution_count": 12,
			"outputs": [
				{
					"name": "stdout",
					"text": "root\n |-- event_data: struct (nullable = true)\n |    |-- community_cards: array (nullable = true)\n |    |    |-- element: struct (containsNull = true)\n |    |    |    |-- card_suit: string (nullable = true)\n |    |    |    |-- card_value: integer (nullable = true)\n |    |-- community_cards_rit: array (nullable = true)\n |    |    |-- element: struct (containsNull = true)\n |    |    |    |-- card_suit: string (nullable = true)\n |    |    |    |-- card_value: integer (nullable = true)\n |    |-- game_end_timestamp: integer (nullable = true)\n |    |-- game_start_timestamp: integer (nullable = true)\n |    |-- hand_id: long (nullable = true)\n |    |-- player_details: array (nullable = true)\n |    |    |-- element: struct (containsNull = true)\n |    |    |    |-- cards: array (nullable = true)\n |    |    |    |    |-- element: struct (containsNull = true)\n |    |    |    |    |    |-- card_suit: string (nullable = true)\n |    |    |    |    |    |-- card_value: integer (nullable = true)\n |    |    |    |-- chip_stack_end: double (nullable = true)\n |    |    |    |-- chip_stack_start: double (nullable = true)\n |    |    |    |-- position: string (nullable = true)\n |    |    |    |-- profit_loss: double (nullable = true)\n |    |    |    |-- reference_number: string (nullable = true)\n |    |    |    |-- seat_index: integer (nullable = true)\n |    |    |    |-- session_id: string (nullable = true)\n |    |    |    |-- total_bets: double (nullable = true)\n |    |    |    |-- total_win: double (nullable = true)\n |    |    |    |-- user_id: long (nullable = true)\n |    |    |    |-- username: string (nullable = true)\n |    |    |    |-- rake: struct (nullable = true)\n |    |    |    |    |-- bonus_rake: double (nullable = true)\n |    |    |    |    |-- net_rake: double (nullable = true)\n |    |    |    |    |-- service_tax: double (nullable = true)\n |    |    |    |    |-- total_rake: double (nullable = true)\n |    |-- players_in_hand: integer (nullable = true)\n |    |-- rit_game: integer (nullable = true)\n |    |-- round_details: struct (nullable = true)\n |    |    |-- flop: struct (nullable = true)\n |    |    |    |-- player_action: array (nullable = true)\n |    |    |    |    |-- element: struct (containsNull = true)\n |    |    |    |    |    |-- action: string (nullable = true)\n |    |    |    |    |    |-- amount: double (nullable = true)\n |    |    |    |    |    |-- chip_stack_end: double (nullable = true)\n |    |    |    |    |    |-- chip_stack_start: double (nullable = true)\n |    |    |    |    |    |-- position: string (nullable = true)\n |    |    |    |    |    |-- timestamp: integer (nullable = true)\n |    |    |    |    |    |-- total_pot: double (nullable = true)\n |    |    |    |    |    |-- user_id: integer (nullable = true)\n |    |    |    |    |    |-- username: string (nullable = true)\n |    |    |    |-- pot_details: array (nullable = true)\n |    |    |    |    |-- element: double (containsNull = true)\n |    |    |-- preflop: struct (nullable = true)\n |    |    |    |-- player_action: array (nullable = true)\n |    |    |    |    |-- element: struct (containsNull = true)\n |    |    |    |    |    |-- action: string (nullable = true)\n |    |    |    |    |    |-- amount: double (nullable = true)\n |    |    |    |    |    |-- chip_stack_end: double (nullable = true)\n |    |    |    |    |    |-- chip_stack_start: double (nullable = true)\n |    |    |    |    |    |-- position: string (nullable = true)\n |    |    |    |    |    |-- timestamp: integer (nullable = true)\n |    |    |    |    |    |-- total_pot: double (nullable = true)\n |    |    |    |    |    |-- user_id: integer (nullable = true)\n |    |    |    |    |    |-- username: string (nullable = true)\n |    |    |    |-- pot_details: array (nullable = true)\n |    |    |    |    |-- element: double (containsNull = true)\n |    |    |-- river: struct (nullable = true)\n |    |    |    |-- player_action: array (nullable = true)\n |    |    |    |    |-- element: struct (containsNull = true)\n |    |    |    |    |    |-- action: string (nullable = true)\n |    |    |    |    |    |-- amount: double (nullable = true)\n |    |    |    |    |    |-- chip_stack_end: double (nullable = true)\n |    |    |    |    |    |-- chip_stack_start: double (nullable = true)\n |    |    |    |    |    |-- position: string (nullable = true)\n |    |    |    |    |    |-- timestamp: integer (nullable = true)\n |    |    |    |    |    |-- total_pot: double (nullable = true)\n |    |    |    |    |    |-- user_id: integer (nullable = true)\n |    |    |    |    |    |-- username: string (nullable = true)\n |    |    |    |-- pot_details: array (nullable = true)\n |    |    |    |    |-- element: double (containsNull = true)\n |    |    |-- showdown: struct (nullable = true)\n |    |    |    |-- pot_details: array (nullable = true)\n |    |    |    |    |-- element: double (containsNull = true)\n |    |    |    |-- pot_details_rit: array (nullable = true)\n |    |    |    |    |-- element: double (containsNull = true)\n |    |    |    |-- pot_winners: array (nullable = true)\n |    |    |    |    |-- element: struct (containsNull = true)\n |    |    |    |    |    |-- pot_amount: double (nullable = true)\n |    |    |    |    |    |-- pot_contestants: array (nullable = true)\n |    |    |    |    |    |    |-- element: integer (containsNull = true)\n |    |    |    |    |    |-- winner_details: array (nullable = true)\n |    |    |    |    |    |    |-- element: struct (containsNull = true)\n |    |    |    |    |    |    |    |-- amount: double (nullable = true)\n |    |    |    |    |    |    |    |-- timestamp: integer (nullable = true)\n |    |    |    |    |    |    |    |-- user_id: integer (nullable = true)\n |    |    |    |    |    |    |    |-- win_type: string (nullable = true)\n |    |    |    |-- pot_winners_rit: array (nullable = true)\n |    |    |    |    |-- element: struct (containsNull = true)\n |    |    |    |    |    |-- pot_amount: double (nullable = true)\n |    |    |    |    |    |-- pot_contestants: array (nullable = true)\n |    |    |    |    |    |    |-- element: integer (containsNull = true)\n |    |    |    |    |    |-- winner_details: array (nullable = true)\n |    |    |    |    |    |    |-- element: struct (containsNull = true)\n |    |    |    |    |    |    |    |-- amount: double (nullable = true)\n |    |    |    |    |    |    |    |-- timestamp: integer (nullable = true)\n |    |    |    |    |    |    |    |-- user_id: integer (nullable = true)\n |    |    |    |    |    |    |    |-- win_type: string (nullable = true)\n |    |    |-- turn: struct (nullable = true)\n |    |    |    |-- player_action: array (nullable = true)\n |    |    |    |    |-- element: struct (containsNull = true)\n |    |    |    |    |    |-- action: string (nullable = true)\n |    |    |    |    |    |-- amount: double (nullable = true)\n |    |    |    |    |    |-- chip_stack_end: double (nullable = true)\n |    |    |    |    |    |-- chip_stack_start: double (nullable = true)\n |    |    |    |    |    |-- position: string (nullable = true)\n |    |    |    |    |    |-- timestamp: integer (nullable = true)\n |    |    |    |    |    |-- total_pot: double (nullable = true)\n |    |    |    |    |    |-- user_id: integer (nullable = true)\n |    |    |    |    |    |-- username: string (nullable = true)\n |    |    |    |-- pot_details: array (nullable = true)\n |    |    |    |    |-- element: double (containsNull = true)\n |    |-- showdown: boolean (nullable = true)\n |    |-- table_info: struct (nullable = true)\n |    |    |-- big_blind: double (nullable = true)\n |    |    |-- is_anonymous: boolean (nullable = true)\n |    |    |-- max_buyin: double (nullable = true)\n |    |    |-- min_buyin: double (nullable = true)\n |    |    |-- mini_game_type_id: string (nullable = true)\n |    |    |-- players_per_table: integer (nullable = true)\n |    |    |-- small_blind: double (nullable = true)\n |    |    |-- table_child_id: integer (nullable = true)\n |    |    |-- table_id: integer (nullable = true)\n |    |    |-- table_type: string (nullable = true)\n |    |-- total_pot: double (nullable = true)\n |    |-- user_stats: array (nullable = true)\n |    |    |-- element: struct (containsNull = true)\n |    |    |    |-- 3bet: boolean (nullable = true)\n |    |    |    |-- 3bet_opportunity: boolean (nullable = true)\n |    |    |    |-- all_in: boolean (nullable = true)\n |    |    |    |-- allin_opportunity: boolean (nullable = true)\n |    |    |    |-- flop_seen: boolean (nullable = true)\n |    |    |    |-- fold_opportunity: boolean (nullable = true)\n |    |    |    |-- hp: boolean (nullable = true)\n |    |    |    |-- pfr_count: boolean (nullable = true)\n |    |    |    |-- pfr_opportunity: boolean (nullable = true)\n |    |    |    |-- pr: boolean (nullable = true)\n |    |    |    |-- time_played: integer (nullable = true)\n |    |    |    |-- user_id: integer (nullable = true)\n |    |    |    |-- user_won: boolean (nullable = true)\n |    |    |    |-- vpip: boolean (nullable = true)\n |    |    |    |-- vpip_opportunity: boolean (nullable = true)\n |    |    |    |-- won_at_showdown: boolean (nullable = true)\n |    |    |    |-- wtsd: boolean (nullable = true)\n |    |    |    |-- fold_on_allin_opportunity: boolean (nullable = true)\n |    |    |    |-- fold: boolean (nullable = true)\n |    |    |    |-- 3bet_fold_opportunity: boolean (nullable = true)\n |    |    |    |-- steal_opportunity: boolean (nullable = true)\n |    |    |    |-- steal_attempt: boolean (nullable = true)\n |    |    |    |-- fold_on_allin: boolean (nullable = true)\n |    |    |    |-- check_n_raise_opportunity: boolean (nullable = true)\n |    |    |    |-- cbet_opportunity: boolean (nullable = true)\n |    |    |    |-- cbet_success: boolean (nullable = true)\n |    |    |    |-- fold_to_cbet_opportunity: boolean (nullable = true)\n |    |    |    |-- folded_to_cbet: boolean (nullable = true)\n |    |    |    |-- folded_to_3bet: boolean (nullable = true)\n |    |    |    |-- check_n_raise: boolean (nullable = true)\n |    |-- game_rake: struct (nullable = true)\n |    |    |-- bonus_rake: double (nullable = true)\n |    |    |-- net_rake: double (nullable = true)\n |    |    |-- service_tax: double (nullable = true)\n |    |    |-- total_rake: double (nullable = true)\n |-- event_name: string (nullable = true)\n |-- event_source: string (nullable = true)\n |-- event_timestamp: integer (nullable = true)\n |-- event_uuid: string (nullable = true)\n |-- event_version: string (nullable = true)\n |-- file_modification_time: timestamp (nullable = true)\n |-- file_path: string (nullable = true)\n |-- file_name: string (nullable = true)\n |-- record_date: date (nullable = true)\n",
					"output_type": "stream"
				}
			]
		},
		{
			"cell_type": "code",
			"source": " # |-- _metadata: struct (nullable = true)\n # |    |-- file_path: string (nullable = true)\n # |    |-- file_name: string (nullable = true)\n # |    |-- file_size: long (nullable = true)\n # |    |-- file_modification_time: timestamp (nullable = true)",
			"metadata": {},
			"execution_count": null,
			"outputs": []
		},
		{
			"cell_type": "code",
			"source": "sbronzeQuery = ( \n            df.writeStream\n                    .queryName(\"bronze-1\")\n                    .format(\"delta\")\n                    .option(\"path\", \"s3://robin-poc-bucket/robin-poc-bucket/rahul/delta_database/bronze/\")\n                    .option(\"checkpointLocation\", \"s3://robin-poc-bucket/rahul/test_1/test_1_br/\")\n                    .outputMode(\"append\")\n                    .option(\"mergeSchema\", \"true\")\n                    .partitionBy(\"event_name\", \"record_date\")\n                    .toTable(\"pokershot_sample_delta_database.hands_bronze_data_test_4\")\n        ) ",
			"metadata": {
				"trusted": true,
				"tags": []
			},
			"execution_count": null,
			"outputs": []
		},
		{
			"cell_type": "code",
			"source": "",
			"metadata": {},
			"execution_count": null,
			"outputs": []
		},
		{
			"cell_type": "code",
			"source": "spark.sql(f\"Create database if not exists test_delta location 's3://robin-poc-bucket/rahul/delta_v2' \").show()",
			"metadata": {
				"trusted": true,
				"tags": []
			},
			"execution_count": 5,
			"outputs": [
				{
					"name": "stdout",
					"text": "++\n||\n++\n++\n",
					"output_type": "stream"
				}
			]
		},
		{
			"cell_type": "code",
			"source": "schema = SCHEMA = StructType([\n            StructField(\"event_data\", StructType([\n                StructField(\"community_cards\", ArrayType(StructType([\n                    StructField(\"card_suit\", StringType()),\n                    StructField(\"card_value\", IntegerType())\n                ]))),\n                StructField(\"community_cards_rit\", ArrayType(StructType([\n                    StructField(\"card_suit\", StringType()),\n                    StructField(\"card_value\", IntegerType())\n                ]))),\n                StructField(\"game_end_timestamp\", IntegerType()),\n                StructField(\"game_start_timestamp\", IntegerType()),\n                StructField(\"hand_id\", LongType()),\n                StructField(\"player_details\", ArrayType(StructType([\n                    StructField(\"cards\", ArrayType(StructType([\n                        StructField(\"card_suit\", StringType()),\n                        StructField(\"card_value\", IntegerType())\n                    ]))),\n                    StructField(\"chip_stack_end\", DoubleType()),\n                    StructField(\"chip_stack_start\", DoubleType()),\n                    StructField(\"position\", StringType()),\n                    StructField(\"profit_loss\", DoubleType()),\n                    StructField(\"reference_number\", StringType()),\n                    StructField(\"seat_index\", IntegerType()),\n                    StructField(\"session_id\", StringType()),\n                    StructField(\"total_bets\", DoubleType()),\n                    StructField(\"total_win\", DoubleType()),\n                    StructField(\"user_id\", LongType()),\n                    StructField(\"username\", StringType()),\n                    StructField(\"rake\", StructType([\n                        StructField(\"bonus_rake\", DoubleType()),\n                        StructField(\"net_rake\", DoubleType()),\n                        StructField(\"service_tax\", DoubleType()),\n                        StructField(\"total_rake\", DoubleType())\n                    ]))\n                ]))),\n                StructField(\"players_in_hand\", IntegerType()),\n                StructField(\"rit_game\", IntegerType()),\n                StructField(\"round_details\", StructType([\n                    StructField(\"flop\", StructType([\n                        StructField(\"player_action\", ArrayType(StructType([\n                            StructField(\"action\", StringType()),\n                            StructField(\"amount\", DoubleType()),\n                            StructField(\"chip_stack_end\", DoubleType()),\n                            StructField(\"chip_stack_start\", DoubleType()),\n                            StructField(\"position\", StringType()),\n                            StructField(\"timestamp\", IntegerType()),\n                            StructField(\"total_pot\", DoubleType()),\n                            StructField(\"user_id\", IntegerType()),\n                            StructField(\"username\", StringType())\n                        ]))),\n                        StructField(\"pot_details\", ArrayType(DoubleType()))\n                    ])),\n                    StructField(\"preflop\", StructType([\n                        StructField(\"player_action\", ArrayType(StructType([\n                            StructField(\"action\", StringType()),\n                            StructField(\"amount\", DoubleType()),\n                            StructField(\"chip_stack_end\", DoubleType()),\n                            StructField(\"chip_stack_start\", DoubleType()),\n                            StructField(\"position\", StringType()),\n                            StructField(\"timestamp\", IntegerType()),\n                            StructField(\"total_pot\", DoubleType()),\n                            StructField(\"user_id\", IntegerType()),\n                            StructField(\"username\", StringType())\n                        ]))),\n                        StructField(\"pot_details\", ArrayType(DoubleType()))\n                    ])),\n                    StructField(\"river\", StructType([\n                        StructField(\"player_action\", ArrayType(StructType([\n                            StructField(\"action\", StringType()),\n                            StructField(\"amount\", DoubleType()),\n                            StructField(\"chip_stack_end\", DoubleType()),\n                            StructField(\"chip_stack_start\", DoubleType()),\n                            StructField(\"position\", StringType()),\n                            StructField(\"timestamp\", IntegerType()),\n                            StructField(\"total_pot\", DoubleType()),\n                            StructField(\"user_id\", IntegerType()),\n                            StructField(\"username\", StringType())\n                        ]))),\n                        StructField(\"pot_details\", ArrayType(DoubleType()))\n                    ])),\n                    StructField(\"showdown\", StructType([\n                        StructField(\"pot_details\", ArrayType(DoubleType())),\n                        StructField(\"pot_details_rit\", ArrayType(DoubleType())),\n                        StructField(\"pot_winners\", ArrayType(StructType([\n                            StructField(\"pot_amount\", DoubleType()),\n                            StructField(\"pot_contestants\", ArrayType(IntegerType())),\n                            StructField(\"winner_details\", ArrayType(StructType([\n                                StructField(\"amount\", DoubleType()),\n                                StructField(\"timestamp\", IntegerType()),\n                                StructField(\"user_id\", IntegerType()),\n                                StructField(\"win_type\", StringType())\n                            ])))\n                        ]))),\n                        StructField(\"pot_winners_rit\", ArrayType(StructType([\n                            StructField(\"pot_amount\", DoubleType()),\n                            StructField(\"pot_contestants\", ArrayType(IntegerType())),\n                            StructField(\"winner_details\", ArrayType(StructType([\n                                StructField(\"amount\", DoubleType()),\n                                StructField(\"timestamp\", IntegerType()),\n                                StructField(\"user_id\", IntegerType()),\n                                StructField(\"win_type\", StringType())\n                            ])))\n                        ])))\n                    ])),\n                    StructField(\"turn\", StructType([\n                        StructField(\"player_action\", ArrayType(StructType([\n                            StructField(\"action\", StringType()),\n                            StructField(\"amount\", DoubleType()),\n                            StructField(\"chip_stack_end\", DoubleType()),\n                            StructField(\"chip_stack_start\", DoubleType()),\n                            StructField(\"position\", StringType()),\n                            StructField(\"timestamp\", IntegerType()),\n                            StructField(\"total_pot\", DoubleType()),\n                            StructField(\"user_id\", IntegerType()),\n                            StructField(\"username\", StringType())\n                        ]))),\n                        StructField(\"pot_details\", ArrayType(DoubleType()))\n                    ]))\n                ])),\n                StructField(\"showdown\", BooleanType()),\n                StructField(\"table_info\", StructType([\n                    StructField(\"big_blind\", DoubleType()),\n                    StructField(\"is_anonymous\", BooleanType()),\n                    StructField(\"max_buyin\", DoubleType()),\n                    StructField(\"min_buyin\", DoubleType()),\n                    StructField(\"mini_game_type_id\", StringType()),\n                    StructField(\"players_per_table\", IntegerType()),\n                    StructField(\"small_blind\", DoubleType()),\n                    StructField(\"table_child_id\", IntegerType()),\n                    StructField(\"table_id\", IntegerType()),\n                    StructField(\"table_type\", StringType())\n                ])),\n                StructField(\"total_pot\", DoubleType()),\n                StructField(\"user_stats\", ArrayType(StructType([\n                    StructField(\"3bet\", BooleanType()),\n                    StructField(\"3bet_opportunity\", BooleanType()),\n                    StructField(\"all_in\", BooleanType()),\n                    StructField(\"allin_opportunity\", BooleanType()),\n                    StructField(\"flop_seen\", BooleanType()),\n                    StructField(\"fold_opportunity\", BooleanType()),\n                    StructField(\"hp\", BooleanType()),\n                    StructField(\"pfr_count\", BooleanType()),\n                    StructField(\"pfr_opportunity\", BooleanType()),\n                    StructField(\"pr\", BooleanType()),\n                    StructField(\"time_played\", IntegerType()),\n                    StructField(\"user_id\", IntegerType()),\n                    StructField(\"user_won\", BooleanType()),\n                    StructField(\"vpip\", BooleanType()),\n                    StructField(\"vpip_opportunity\", BooleanType()),\n                    StructField(\"won_at_showdown\", BooleanType()),\n                    StructField(\"wtsd\", BooleanType()),\n                    StructField(\"fold_on_allin_opportunity\", BooleanType()),\n                    StructField(\"fold\", BooleanType()),\n                    StructField(\"3bet_fold_opportunity\", BooleanType()),\n                    StructField(\"steal_opportunity\", BooleanType()),\n                    StructField(\"steal_attempt\", BooleanType()),\n                    StructField(\"fold_on_allin\", BooleanType()),\n                    StructField(\"check_n_raise_opportunity\", BooleanType()),\n                    StructField(\"cbet_opportunity\", BooleanType()),\n                    StructField(\"cbet_success\", BooleanType()),\n                    StructField(\"fold_to_cbet_opportunity\", BooleanType()),\n                    StructField(\"folded_to_cbet\", BooleanType()),\n                    StructField(\"folded_to_3bet\", BooleanType()),\n                    StructField(\"check_n_raise\", BooleanType())\n                ]))),\n                StructField(\"game_rake\", StructType([\n                    StructField(\"bonus_rake\", DoubleType()),\n                    StructField(\"net_rake\", DoubleType()),\n                    StructField(\"service_tax\", DoubleType()),\n                    StructField(\"total_rake\", DoubleType())\n                ]))\n            ])),\n            StructField(\"event_name\", StringType()),\n            StructField(\"event_source\", StringType()),\n            StructField(\"event_timestamp\", IntegerType()),\n            StructField(\"event_uuid\", StringType()),\n            StructField(\"event_version\", StringType())\n        ])",
			"metadata": {
				"trusted": true,
				"tags": []
			},
			"execution_count": 6,
			"outputs": [
				{
					"name": "stdout",
					"text": "\n",
					"output_type": "stream"
				}
			]
		},
		{
			"cell_type": "code",
			"source": "dfs = spark.readStream.format(\"json\").schema(schema).load(\"s3://robin-poc-bucket/rahul/test_1/hands_json_data/\")",
			"metadata": {
				"trusted": true,
				"tags": []
			},
			"execution_count": 9,
			"outputs": [
				{
					"name": "stdout",
					"text": "\n",
					"output_type": "stream"
				}
			]
		},
		{
			"cell_type": "code",
			"source": "dfs.printSchema()",
			"metadata": {
				"trusted": true,
				"tags": []
			},
			"execution_count": 10,
			"outputs": [
				{
					"name": "stdout",
					"text": "root\n |-- event_data: struct (nullable = true)\n |    |-- community_cards: array (nullable = true)\n |    |    |-- element: struct (containsNull = true)\n |    |    |    |-- card_suit: string (nullable = true)\n |    |    |    |-- card_value: integer (nullable = true)\n |    |-- community_cards_rit: array (nullable = true)\n |    |    |-- element: struct (containsNull = true)\n |    |    |    |-- card_suit: string (nullable = true)\n |    |    |    |-- card_value: integer (nullable = true)\n |    |-- game_end_timestamp: integer (nullable = true)\n |    |-- game_start_timestamp: integer (nullable = true)\n |    |-- hand_id: long (nullable = true)\n |    |-- player_details: array (nullable = true)\n |    |    |-- element: struct (containsNull = true)\n |    |    |    |-- cards: array (nullable = true)\n |    |    |    |    |-- element: struct (containsNull = true)\n |    |    |    |    |    |-- card_suit: string (nullable = true)\n |    |    |    |    |    |-- card_value: integer (nullable = true)\n |    |    |    |-- chip_stack_end: double (nullable = true)\n |    |    |    |-- chip_stack_start: double (nullable = true)\n |    |    |    |-- position: string (nullable = true)\n |    |    |    |-- profit_loss: double (nullable = true)\n |    |    |    |-- reference_number: string (nullable = true)\n |    |    |    |-- seat_index: integer (nullable = true)\n |    |    |    |-- session_id: string (nullable = true)\n |    |    |    |-- total_bets: double (nullable = true)\n |    |    |    |-- total_win: double (nullable = true)\n |    |    |    |-- user_id: long (nullable = true)\n |    |    |    |-- username: string (nullable = true)\n |    |    |    |-- rake: struct (nullable = true)\n |    |    |    |    |-- bonus_rake: double (nullable = true)\n |    |    |    |    |-- net_rake: double (nullable = true)\n |    |    |    |    |-- service_tax: double (nullable = true)\n |    |    |    |    |-- total_rake: double (nullable = true)\n |    |-- players_in_hand: integer (nullable = true)\n |    |-- rit_game: integer (nullable = true)\n |    |-- round_details: struct (nullable = true)\n |    |    |-- flop: struct (nullable = true)\n |    |    |    |-- player_action: array (nullable = true)\n |    |    |    |    |-- element: struct (containsNull = true)\n |    |    |    |    |    |-- action: string (nullable = true)\n |    |    |    |    |    |-- amount: double (nullable = true)\n |    |    |    |    |    |-- chip_stack_end: double (nullable = true)\n |    |    |    |    |    |-- chip_stack_start: double (nullable = true)\n |    |    |    |    |    |-- position: string (nullable = true)\n |    |    |    |    |    |-- timestamp: integer (nullable = true)\n |    |    |    |    |    |-- total_pot: double (nullable = true)\n |    |    |    |    |    |-- user_id: integer (nullable = true)\n |    |    |    |    |    |-- username: string (nullable = true)\n |    |    |    |-- pot_details: array (nullable = true)\n |    |    |    |    |-- element: double (containsNull = true)\n |    |    |-- preflop: struct (nullable = true)\n |    |    |    |-- player_action: array (nullable = true)\n |    |    |    |    |-- element: struct (containsNull = true)\n |    |    |    |    |    |-- action: string (nullable = true)\n |    |    |    |    |    |-- amount: double (nullable = true)\n |    |    |    |    |    |-- chip_stack_end: double (nullable = true)\n |    |    |    |    |    |-- chip_stack_start: double (nullable = true)\n |    |    |    |    |    |-- position: string (nullable = true)\n |    |    |    |    |    |-- timestamp: integer (nullable = true)\n |    |    |    |    |    |-- total_pot: double (nullable = true)\n |    |    |    |    |    |-- user_id: integer (nullable = true)\n |    |    |    |    |    |-- username: string (nullable = true)\n |    |    |    |-- pot_details: array (nullable = true)\n |    |    |    |    |-- element: double (containsNull = true)\n |    |    |-- river: struct (nullable = true)\n |    |    |    |-- player_action: array (nullable = true)\n |    |    |    |    |-- element: struct (containsNull = true)\n |    |    |    |    |    |-- action: string (nullable = true)\n |    |    |    |    |    |-- amount: double (nullable = true)\n |    |    |    |    |    |-- chip_stack_end: double (nullable = true)\n |    |    |    |    |    |-- chip_stack_start: double (nullable = true)\n |    |    |    |    |    |-- position: string (nullable = true)\n |    |    |    |    |    |-- timestamp: integer (nullable = true)\n |    |    |    |    |    |-- total_pot: double (nullable = true)\n |    |    |    |    |    |-- user_id: integer (nullable = true)\n |    |    |    |    |    |-- username: string (nullable = true)\n |    |    |    |-- pot_details: array (nullable = true)\n |    |    |    |    |-- element: double (containsNull = true)\n |    |    |-- showdown: struct (nullable = true)\n |    |    |    |-- pot_details: array (nullable = true)\n |    |    |    |    |-- element: double (containsNull = true)\n |    |    |    |-- pot_details_rit: array (nullable = true)\n |    |    |    |    |-- element: double (containsNull = true)\n |    |    |    |-- pot_winners: array (nullable = true)\n |    |    |    |    |-- element: struct (containsNull = true)\n |    |    |    |    |    |-- pot_amount: double (nullable = true)\n |    |    |    |    |    |-- pot_contestants: array (nullable = true)\n |    |    |    |    |    |    |-- element: integer (containsNull = true)\n |    |    |    |    |    |-- winner_details: array (nullable = true)\n |    |    |    |    |    |    |-- element: struct (containsNull = true)\n |    |    |    |    |    |    |    |-- amount: double (nullable = true)\n |    |    |    |    |    |    |    |-- timestamp: integer (nullable = true)\n |    |    |    |    |    |    |    |-- user_id: integer (nullable = true)\n |    |    |    |    |    |    |    |-- win_type: string (nullable = true)\n |    |    |    |-- pot_winners_rit: array (nullable = true)\n |    |    |    |    |-- element: struct (containsNull = true)\n |    |    |    |    |    |-- pot_amount: double (nullable = true)\n |    |    |    |    |    |-- pot_contestants: array (nullable = true)\n |    |    |    |    |    |    |-- element: integer (containsNull = true)\n |    |    |    |    |    |-- winner_details: array (nullable = true)\n |    |    |    |    |    |    |-- element: struct (containsNull = true)\n |    |    |    |    |    |    |    |-- amount: double (nullable = true)\n |    |    |    |    |    |    |    |-- timestamp: integer (nullable = true)\n |    |    |    |    |    |    |    |-- user_id: integer (nullable = true)\n |    |    |    |    |    |    |    |-- win_type: string (nullable = true)\n |    |    |-- turn: struct (nullable = true)\n |    |    |    |-- player_action: array (nullable = true)\n |    |    |    |    |-- element: struct (containsNull = true)\n |    |    |    |    |    |-- action: string (nullable = true)\n |    |    |    |    |    |-- amount: double (nullable = true)\n |    |    |    |    |    |-- chip_stack_end: double (nullable = true)\n |    |    |    |    |    |-- chip_stack_start: double (nullable = true)\n |    |    |    |    |    |-- position: string (nullable = true)\n |    |    |    |    |    |-- timestamp: integer (nullable = true)\n |    |    |    |    |    |-- total_pot: double (nullable = true)\n |    |    |    |    |    |-- user_id: integer (nullable = true)\n |    |    |    |    |    |-- username: string (nullable = true)\n |    |    |    |-- pot_details: array (nullable = true)\n |    |    |    |    |-- element: double (containsNull = true)\n |    |-- showdown: boolean (nullable = true)\n |    |-- table_info: struct (nullable = true)\n |    |    |-- big_blind: double (nullable = true)\n |    |    |-- is_anonymous: boolean (nullable = true)\n |    |    |-- max_buyin: double (nullable = true)\n |    |    |-- min_buyin: double (nullable = true)\n |    |    |-- mini_game_type_id: string (nullable = true)\n |    |    |-- players_per_table: integer (nullable = true)\n |    |    |-- small_blind: double (nullable = true)\n |    |    |-- table_child_id: integer (nullable = true)\n |    |    |-- table_id: integer (nullable = true)\n |    |    |-- table_type: string (nullable = true)\n |    |-- total_pot: double (nullable = true)\n |    |-- user_stats: array (nullable = true)\n |    |    |-- element: struct (containsNull = true)\n |    |    |    |-- 3bet: boolean (nullable = true)\n |    |    |    |-- 3bet_opportunity: boolean (nullable = true)\n |    |    |    |-- all_in: boolean (nullable = true)\n |    |    |    |-- allin_opportunity: boolean (nullable = true)\n |    |    |    |-- flop_seen: boolean (nullable = true)\n |    |    |    |-- fold_opportunity: boolean (nullable = true)\n |    |    |    |-- hp: boolean (nullable = true)\n |    |    |    |-- pfr_count: boolean (nullable = true)\n |    |    |    |-- pfr_opportunity: boolean (nullable = true)\n |    |    |    |-- pr: boolean (nullable = true)\n |    |    |    |-- time_played: integer (nullable = true)\n |    |    |    |-- user_id: integer (nullable = true)\n |    |    |    |-- user_won: boolean (nullable = true)\n |    |    |    |-- vpip: boolean (nullable = true)\n |    |    |    |-- vpip_opportunity: boolean (nullable = true)\n |    |    |    |-- won_at_showdown: boolean (nullable = true)\n |    |    |    |-- wtsd: boolean (nullable = true)\n |    |    |    |-- fold_on_allin_opportunity: boolean (nullable = true)\n |    |    |    |-- fold: boolean (nullable = true)\n |    |    |    |-- 3bet_fold_opportunity: boolean (nullable = true)\n |    |    |    |-- steal_opportunity: boolean (nullable = true)\n |    |    |    |-- steal_attempt: boolean (nullable = true)\n |    |    |    |-- fold_on_allin: boolean (nullable = true)\n |    |    |    |-- check_n_raise_opportunity: boolean (nullable = true)\n |    |    |    |-- cbet_opportunity: boolean (nullable = true)\n |    |    |    |-- cbet_success: boolean (nullable = true)\n |    |    |    |-- fold_to_cbet_opportunity: boolean (nullable = true)\n |    |    |    |-- folded_to_cbet: boolean (nullable = true)\n |    |    |    |-- folded_to_3bet: boolean (nullable = true)\n |    |    |    |-- check_n_raise: boolean (nullable = true)\n |    |-- game_rake: struct (nullable = true)\n |    |    |-- bonus_rake: double (nullable = true)\n |    |    |-- net_rake: double (nullable = true)\n |    |    |-- service_tax: double (nullable = true)\n |    |    |-- total_rake: double (nullable = true)\n |-- event_name: string (nullable = true)\n |-- event_source: string (nullable = true)\n |-- event_timestamp: integer (nullable = true)\n |-- event_uuid: string (nullable = true)\n |-- event_version: string (nullable = true)\n",
					"output_type": "stream"
				}
			]
		},
		{
			"cell_type": "code",
			"source": "dfs_2 = dfs.select(\"*\", \"_metadata\").withColumn(\"record_date\", expr(\"date(cast(event_timestamp as timestamp))\"))",
			"metadata": {
				"trusted": true,
				"tags": []
			},
			"execution_count": 11,
			"outputs": [
				{
					"name": "stdout",
					"text": "\n",
					"output_type": "stream"
				}
			]
		},
		{
			"cell_type": "code",
			"source": "dfs_2.printSchema()",
			"metadata": {
				"trusted": true,
				"tags": []
			},
			"execution_count": 12,
			"outputs": [
				{
					"name": "stdout",
					"text": "root\n |-- event_data: struct (nullable = true)\n |    |-- community_cards: array (nullable = true)\n |    |    |-- element: struct (containsNull = true)\n |    |    |    |-- card_suit: string (nullable = true)\n |    |    |    |-- card_value: integer (nullable = true)\n |    |-- community_cards_rit: array (nullable = true)\n |    |    |-- element: struct (containsNull = true)\n |    |    |    |-- card_suit: string (nullable = true)\n |    |    |    |-- card_value: integer (nullable = true)\n |    |-- game_end_timestamp: integer (nullable = true)\n |    |-- game_start_timestamp: integer (nullable = true)\n |    |-- hand_id: long (nullable = true)\n |    |-- player_details: array (nullable = true)\n |    |    |-- element: struct (containsNull = true)\n |    |    |    |-- cards: array (nullable = true)\n |    |    |    |    |-- element: struct (containsNull = true)\n |    |    |    |    |    |-- card_suit: string (nullable = true)\n |    |    |    |    |    |-- card_value: integer (nullable = true)\n |    |    |    |-- chip_stack_end: double (nullable = true)\n |    |    |    |-- chip_stack_start: double (nullable = true)\n |    |    |    |-- position: string (nullable = true)\n |    |    |    |-- profit_loss: double (nullable = true)\n |    |    |    |-- reference_number: string (nullable = true)\n |    |    |    |-- seat_index: integer (nullable = true)\n |    |    |    |-- session_id: string (nullable = true)\n |    |    |    |-- total_bets: double (nullable = true)\n |    |    |    |-- total_win: double (nullable = true)\n |    |    |    |-- user_id: long (nullable = true)\n |    |    |    |-- username: string (nullable = true)\n |    |    |    |-- rake: struct (nullable = true)\n |    |    |    |    |-- bonus_rake: double (nullable = true)\n |    |    |    |    |-- net_rake: double (nullable = true)\n |    |    |    |    |-- service_tax: double (nullable = true)\n |    |    |    |    |-- total_rake: double (nullable = true)\n |    |-- players_in_hand: integer (nullable = true)\n |    |-- rit_game: integer (nullable = true)\n |    |-- round_details: struct (nullable = true)\n |    |    |-- flop: struct (nullable = true)\n |    |    |    |-- player_action: array (nullable = true)\n |    |    |    |    |-- element: struct (containsNull = true)\n |    |    |    |    |    |-- action: string (nullable = true)\n |    |    |    |    |    |-- amount: double (nullable = true)\n |    |    |    |    |    |-- chip_stack_end: double (nullable = true)\n |    |    |    |    |    |-- chip_stack_start: double (nullable = true)\n |    |    |    |    |    |-- position: string (nullable = true)\n |    |    |    |    |    |-- timestamp: integer (nullable = true)\n |    |    |    |    |    |-- total_pot: double (nullable = true)\n |    |    |    |    |    |-- user_id: integer (nullable = true)\n |    |    |    |    |    |-- username: string (nullable = true)\n |    |    |    |-- pot_details: array (nullable = true)\n |    |    |    |    |-- element: double (containsNull = true)\n |    |    |-- preflop: struct (nullable = true)\n |    |    |    |-- player_action: array (nullable = true)\n |    |    |    |    |-- element: struct (containsNull = true)\n |    |    |    |    |    |-- action: string (nullable = true)\n |    |    |    |    |    |-- amount: double (nullable = true)\n |    |    |    |    |    |-- chip_stack_end: double (nullable = true)\n |    |    |    |    |    |-- chip_stack_start: double (nullable = true)\n |    |    |    |    |    |-- position: string (nullable = true)\n |    |    |    |    |    |-- timestamp: integer (nullable = true)\n |    |    |    |    |    |-- total_pot: double (nullable = true)\n |    |    |    |    |    |-- user_id: integer (nullable = true)\n |    |    |    |    |    |-- username: string (nullable = true)\n |    |    |    |-- pot_details: array (nullable = true)\n |    |    |    |    |-- element: double (containsNull = true)\n |    |    |-- river: struct (nullable = true)\n |    |    |    |-- player_action: array (nullable = true)\n |    |    |    |    |-- element: struct (containsNull = true)\n |    |    |    |    |    |-- action: string (nullable = true)\n |    |    |    |    |    |-- amount: double (nullable = true)\n |    |    |    |    |    |-- chip_stack_end: double (nullable = true)\n |    |    |    |    |    |-- chip_stack_start: double (nullable = true)\n |    |    |    |    |    |-- position: string (nullable = true)\n |    |    |    |    |    |-- timestamp: integer (nullable = true)\n |    |    |    |    |    |-- total_pot: double (nullable = true)\n |    |    |    |    |    |-- user_id: integer (nullable = true)\n |    |    |    |    |    |-- username: string (nullable = true)\n |    |    |    |-- pot_details: array (nullable = true)\n |    |    |    |    |-- element: double (containsNull = true)\n |    |    |-- showdown: struct (nullable = true)\n |    |    |    |-- pot_details: array (nullable = true)\n |    |    |    |    |-- element: double (containsNull = true)\n |    |    |    |-- pot_details_rit: array (nullable = true)\n |    |    |    |    |-- element: double (containsNull = true)\n |    |    |    |-- pot_winners: array (nullable = true)\n |    |    |    |    |-- element: struct (containsNull = true)\n |    |    |    |    |    |-- pot_amount: double (nullable = true)\n |    |    |    |    |    |-- pot_contestants: array (nullable = true)\n |    |    |    |    |    |    |-- element: integer (containsNull = true)\n |    |    |    |    |    |-- winner_details: array (nullable = true)\n |    |    |    |    |    |    |-- element: struct (containsNull = true)\n |    |    |    |    |    |    |    |-- amount: double (nullable = true)\n |    |    |    |    |    |    |    |-- timestamp: integer (nullable = true)\n |    |    |    |    |    |    |    |-- user_id: integer (nullable = true)\n |    |    |    |    |    |    |    |-- win_type: string (nullable = true)\n |    |    |    |-- pot_winners_rit: array (nullable = true)\n |    |    |    |    |-- element: struct (containsNull = true)\n |    |    |    |    |    |-- pot_amount: double (nullable = true)\n |    |    |    |    |    |-- pot_contestants: array (nullable = true)\n |    |    |    |    |    |    |-- element: integer (containsNull = true)\n |    |    |    |    |    |-- winner_details: array (nullable = true)\n |    |    |    |    |    |    |-- element: struct (containsNull = true)\n |    |    |    |    |    |    |    |-- amount: double (nullable = true)\n |    |    |    |    |    |    |    |-- timestamp: integer (nullable = true)\n |    |    |    |    |    |    |    |-- user_id: integer (nullable = true)\n |    |    |    |    |    |    |    |-- win_type: string (nullable = true)\n |    |    |-- turn: struct (nullable = true)\n |    |    |    |-- player_action: array (nullable = true)\n |    |    |    |    |-- element: struct (containsNull = true)\n |    |    |    |    |    |-- action: string (nullable = true)\n |    |    |    |    |    |-- amount: double (nullable = true)\n |    |    |    |    |    |-- chip_stack_end: double (nullable = true)\n |    |    |    |    |    |-- chip_stack_start: double (nullable = true)\n |    |    |    |    |    |-- position: string (nullable = true)\n |    |    |    |    |    |-- timestamp: integer (nullable = true)\n |    |    |    |    |    |-- total_pot: double (nullable = true)\n |    |    |    |    |    |-- user_id: integer (nullable = true)\n |    |    |    |    |    |-- username: string (nullable = true)\n |    |    |    |-- pot_details: array (nullable = true)\n |    |    |    |    |-- element: double (containsNull = true)\n |    |-- showdown: boolean (nullable = true)\n |    |-- table_info: struct (nullable = true)\n |    |    |-- big_blind: double (nullable = true)\n |    |    |-- is_anonymous: boolean (nullable = true)\n |    |    |-- max_buyin: double (nullable = true)\n |    |    |-- min_buyin: double (nullable = true)\n |    |    |-- mini_game_type_id: string (nullable = true)\n |    |    |-- players_per_table: integer (nullable = true)\n |    |    |-- small_blind: double (nullable = true)\n |    |    |-- table_child_id: integer (nullable = true)\n |    |    |-- table_id: integer (nullable = true)\n |    |    |-- table_type: string (nullable = true)\n |    |-- total_pot: double (nullable = true)\n |    |-- user_stats: array (nullable = true)\n |    |    |-- element: struct (containsNull = true)\n |    |    |    |-- 3bet: boolean (nullable = true)\n |    |    |    |-- 3bet_opportunity: boolean (nullable = true)\n |    |    |    |-- all_in: boolean (nullable = true)\n |    |    |    |-- allin_opportunity: boolean (nullable = true)\n |    |    |    |-- flop_seen: boolean (nullable = true)\n |    |    |    |-- fold_opportunity: boolean (nullable = true)\n |    |    |    |-- hp: boolean (nullable = true)\n |    |    |    |-- pfr_count: boolean (nullable = true)\n |    |    |    |-- pfr_opportunity: boolean (nullable = true)\n |    |    |    |-- pr: boolean (nullable = true)\n |    |    |    |-- time_played: integer (nullable = true)\n |    |    |    |-- user_id: integer (nullable = true)\n |    |    |    |-- user_won: boolean (nullable = true)\n |    |    |    |-- vpip: boolean (nullable = true)\n |    |    |    |-- vpip_opportunity: boolean (nullable = true)\n |    |    |    |-- won_at_showdown: boolean (nullable = true)\n |    |    |    |-- wtsd: boolean (nullable = true)\n |    |    |    |-- fold_on_allin_opportunity: boolean (nullable = true)\n |    |    |    |-- fold: boolean (nullable = true)\n |    |    |    |-- 3bet_fold_opportunity: boolean (nullable = true)\n |    |    |    |-- steal_opportunity: boolean (nullable = true)\n |    |    |    |-- steal_attempt: boolean (nullable = true)\n |    |    |    |-- fold_on_allin: boolean (nullable = true)\n |    |    |    |-- check_n_raise_opportunity: boolean (nullable = true)\n |    |    |    |-- cbet_opportunity: boolean (nullable = true)\n |    |    |    |-- cbet_success: boolean (nullable = true)\n |    |    |    |-- fold_to_cbet_opportunity: boolean (nullable = true)\n |    |    |    |-- folded_to_cbet: boolean (nullable = true)\n |    |    |    |-- folded_to_3bet: boolean (nullable = true)\n |    |    |    |-- check_n_raise: boolean (nullable = true)\n |    |-- game_rake: struct (nullable = true)\n |    |    |-- bonus_rake: double (nullable = true)\n |    |    |-- net_rake: double (nullable = true)\n |    |    |-- service_tax: double (nullable = true)\n |    |    |-- total_rake: double (nullable = true)\n |-- event_name: string (nullable = true)\n |-- event_source: string (nullable = true)\n |-- event_timestamp: integer (nullable = true)\n |-- event_uuid: string (nullable = true)\n |-- event_version: string (nullable = true)\n |-- _metadata: struct (nullable = true)\n |    |-- file_path: string (nullable = true)\n |    |-- file_name: string (nullable = true)\n |    |-- file_size: long (nullable = true)\n |    |-- file_modification_time: timestamp (nullable = true)\n |-- record_date: date (nullable = true)\n",
					"output_type": "stream"
				}
			]
		},
		{
			"cell_type": "code",
			"source": "additional_options = {\n    \"path\": \"s3://robin-poc-bucket/rahul/delta_v2/hands_data_v2/\"\n}\n\n# s3://robin-poc-bucket/rahul/delta_v2",
			"metadata": {
				"trusted": true,
				"tags": []
			},
			"execution_count": 20,
			"outputs": [
				{
					"name": "stdout",
					"text": "\n",
					"output_type": "stream"
				}
			]
		},
		{
			"cell_type": "code",
			"source": "squery = ( dfs_2.writeStream\n                    .queryName(\"silver-processing-1\")\n                    .format(\"delta\")\n                    .options(**additional_options)\n                    .option(\"checkpointLocation\", \"s3://robin-poc-bucket/rahul/test_1/test_2_br/\")\n                    .outputMode(\"append\")\n                    .option(\"mergeSchema\", \"true\")\n                    .partitionBy(\"event_name\", \"record_date\")\n                    .toTable(\"test_delta.hands_data_v2\")\n         )\n\n\n",
			"metadata": {
				"trusted": true,
				"tags": []
			},
			"execution_count": 21,
			"outputs": [
				{
					"name": "stdout",
					"text": "\n",
					"output_type": "stream"
				}
			]
		},
		{
			"cell_type": "code",
			"source": "%%sql\ndrop TABLE `pokershot_sample_delta_database_v1`.`hands_bronze_data` ",
			"metadata": {
				"trusted": true,
				"tags": []
			},
			"execution_count": 18,
			"outputs": [
				{
					"name": "stdout",
					"text": "++\n||\n++\n++\n",
					"output_type": "stream"
				}
			]
		},
		{
			"cell_type": "code",
			"source": "path = f\"s3://robin-poc-bucket/rahul/pokershot_sample_delta_database_v1/test_2/\"",
			"metadata": {
				"trusted": true,
				"tags": []
			},
			"execution_count": 8,
			"outputs": [
				{
					"name": "stdout",
					"text": "\n",
					"output_type": "stream"
				}
			]
		},
		{
			"cell_type": "code",
			"source": "spark.sql(f\"\"\"\n    CREATE TABLE IF NOT EXISTS pokershot_sample_delta_database_v1.test_2 (\n        user_id bigint,\n        record_date date,\n        session_id string,\n        minigames_type_id int,\n        big_blind double,\n        small_blind double,\n        number_of_hands bigint,\n        session_duration string,\n        session_start_time int,\n        session_end_time int,\n        winning_hands bigint,\n        losing_hands bigint,\n        win_amount double\n    )\n    using delta\n    location '{path}'\n\"\"\")",
			"metadata": {
				"trusted": true,
				"tags": []
			},
			"execution_count": 10,
			"outputs": [
				{
					"name": "stdout",
					"text": "DataFrame[]\n",
					"output_type": "stream"
				}
			]
		},
		{
			"cell_type": "code",
			"source": "df = spark.read.table(\"pokershot_sample_delta_database_v1.hands_bronze_data\")",
			"metadata": {
				"trusted": true,
				"tags": []
			},
			"execution_count": 20,
			"outputs": [
				{
					"name": "stdout",
					"text": "\n",
					"output_type": "stream"
				}
			]
		},
		{
			"cell_type": "code",
			"source": "df.show(2)",
			"metadata": {
				"trusted": true,
				"tags": []
			},
			"execution_count": 21,
			"outputs": [
				{
					"name": "stdout",
					"text": "+--------------------+---------------+------------+---------------+--------------------+-------------+----------------------+--------------------+-----------+\n|          event_data|     event_name|event_source|event_timestamp|          event_uuid|event_version|file_modification_time|           file_path|record_date|\n+--------------------+---------------+------------+---------------+--------------------+-------------+----------------------+--------------------+-----------+\n|{[{DIAMOND, 8}, {...|GAME_STATS_CASH|         NEW|     1704476070|51b59aee-37a1-4b6...|       v5.1.6|   2024-01-15 10:31:53|s3://robin-poc-bu...| 2024-01-05|\n|{[{HEART, 3}, {HE...|GAME_STATS_CASH|         NEW|     1704476075|d8dcad19-f59e-4f8...|       v5.1.6|   2024-01-15 10:31:53|s3://robin-poc-bu...| 2024-01-05|\n+--------------------+---------------+------------+---------------+--------------------+-------------+----------------------+--------------------+-----------+\nonly showing top 2 rows\n",
					"output_type": "stream"
				}
			]
		},
		{
			"cell_type": "code",
			"source": "hands_data_df = ( \n            spark.readStream\n                .option(\"startingTimestamp\", \"2024-01-01\")\n                .table(\"pokershot_sample_delta_database_v1.hands_bronze_data\")  \n            )",
			"metadata": {
				"trusted": true,
				"tags": []
			},
			"execution_count": 23,
			"outputs": [
				{
					"name": "stdout",
					"text": "\n",
					"output_type": "stream"
				}
			]
		},
		{
			"cell_type": "code",
			"source": "hands_data_df = hands_data_df.withColumn(\"player_details\", expr(\"event_data.player_details\"))\nflattern_hands_data_df  = hands_data_df.selectExpr(\n    \"event_data.hand_id as hand_id\", \n    \"event_data.game_end_timestamp as game_end_timestamp\",\n    \"event_data.game_start_timestamp as game_start_timestamp\",\n    \"event_data.table_info.big_blind as big_blind\",\n    \"case when event_data.table_info.big_blind = 0 then 0 when event_data.table_info.big_blind = 5 then 2 when event_data.table_info.big_blind = 25 then 10 else event_data.table_info.big_blind/2 end as small_blind\",\n    \"event_name\", \n    \"event_source\", \n    \"cast(event_timestamp as timestamp) as event_timestamp\", \n    \"event_uuid\", \n    \"event_version\",\n    \"explode(player_details) as player_detail\", \n    \"date(cast(event_timestamp as timestamp)) as record_date\",\n    \"player_detail.user_id as user_id\",\n    \"player_detail.profit_loss as profit_loss\",\n    \"player_detail.position as position\",\n    \"player_detail.total_bets as stake\",\n    \"player_detail.rake.total_rake as total_rake\",\n    \"player_detail.chip_stack_start as chip_stack_start\",\n    \"player_detail.chip_stack_end as chip_stack_end\",\n    \"player_detail.reference_number as session_id\",\n    \"case when player_detail.total_bets + player_detail.profit_loss = 0 then 0 else  player_detail.total_bets + player_detail.profit_loss + player_detail.rake.total_rake end as win\",\n    \"\"\"case when (replace(cast(event_data.table_info.mini_game_type_id as string), '\"',\"\")) in (\"Holdem\") then 1  when (replace(cast(event_data.table_info.mini_game_type_id as string), '\"',\"\")) in ('Omaha') then 2  when (replace(cast(event_data.table_info.mini_game_type_id as string), '\"',\"\")) in (\"FiveCardPLO\") then 17  when (replace(cast(event_data.table_info.mini_game_type_id as string), '\"',\"\")) in ('SixCardPLO') then 20  when (replace(cast(event_data.table_info.mini_game_type_id as string), '\"',\"\")) in (\"SuperHoldem\") then 21  else 25 end as minigames_type_id\"\"\"\n).drop(\"player_detail\")",
			"metadata": {
				"trusted": true,
				"tags": []
			},
			"execution_count": 25,
			"outputs": [
				{
					"name": "stdout",
					"text": "\n",
					"output_type": "stream"
				}
			]
		},
		{
			"cell_type": "code",
			"source": "df_performance_by_stake = flattern_hands_data_df.withWatermark(\"event_timestamp\", \"1440 minutes\") \\\n    .groupBy(\n        \"user_id\", \"record_date\", \"session_id\", \"minigames_type_id\", \"big_blind\", \"small_blind\"\n    ).agg(\n        count(\"*\").alias(\"number_of_hands\"),\n        expr(\"cast((max(game_end_timestamp) - min(game_start_timestamp)) as string)\").alias(\"session_duration\"),\n        min(\"game_start_timestamp\").alias(\"session_start_time\"),\n        max(\"game_start_timestamp\").alias(\"session_end_time\"),\n        sum(when((col(\"win\") - col(\"stake\")) > 0, 1).otherwise(0)).alias(\"winning_hands\"),\n        sum(when((col(\"win\") - col(\"stake\")) < 0, 1).otherwise(0)).alias(\"losing_hands\"),\n        sum(\"profit_loss\").alias(\"win_amount\")\n    )",
			"metadata": {
				"trusted": true,
				"tags": []
			},
			"execution_count": 26,
			"outputs": [
				{
					"name": "stdout",
					"text": "\n",
					"output_type": "stream"
				}
			]
		},
		{
			"cell_type": "code",
			"source": "def upsert(gold_aggregate_df, batch_id):\n    \n    gold_aggregate_df.createOrReplaceTempView(\"tmp_hands_agg\")\n    merge_statement = f\"\"\"\n        MERGE INTO pokershot_sample_delta_database_v1.test_2 t\n        USING tmp_hands_agg s\n            ON  ( \n                s.user_id == t.user_id and \n                s.record_date = t.record_date and \n                s.session_id = t.session_id and \n                s.minigames_type_id = t.minigames_type_id and \n                s.big_blind = t.big_blind and \n                s.small_blind = t.small_blind\n            )\n        WHEN MATCHED THEN\n            UPDATE SET *\n        WHEN NOT MATCHED THEN\n            INSERT *\n        \"\"\"\n    gold_aggregate_df._jdf.sparkSession().sql(merge_statement) ",
			"metadata": {
				"trusted": true,
				"tags": []
			},
			"execution_count": 27,
			"outputs": [
				{
					"name": "stdout",
					"text": "\n",
					"output_type": "stream"
				}
			]
		},
		{
			"cell_type": "code",
			"source": "def saveToTable(gold_aggregate_df):\n    sGoldUpdateQuery = (   gold_aggregate_df.writeStream\n            .queryName(\"gold-update\")\n            .option(\"checkpointLocation\", \"s3://robin-poc-bucket/rahul/test_1/md/\")\n            .outputMode(\"update\")\n            .foreachBatch(upsert)\n            .start()\n    )\n    return sGoldUpdateQuery",
			"metadata": {
				"trusted": true,
				"tags": []
			},
			"execution_count": 30,
			"outputs": [
				{
					"name": "stdout",
					"text": "\n",
					"output_type": "stream"
				}
			]
		},
		{
			"cell_type": "code",
			"source": "x = saveToTable(df_performance_by_stake)",
			"metadata": {
				"trusted": true,
				"tags": []
			},
			"execution_count": 31,
			"outputs": [
				{
					"name": "stdout",
					"text": "\n",
					"output_type": "stream"
				}
			]
		},
		{
			"cell_type": "code",
			"source": "hands_data_df.printSchema()",
			"metadata": {
				"trusted": true,
				"tags": []
			},
			"execution_count": 24,
			"outputs": [
				{
					"name": "stdout",
					"text": "root\n |-- event_data: struct (nullable = true)\n |    |-- community_cards: array (nullable = true)\n |    |    |-- element: struct (containsNull = true)\n |    |    |    |-- card_suit: string (nullable = true)\n |    |    |    |-- card_value: integer (nullable = true)\n |    |-- community_cards_rit: array (nullable = true)\n |    |    |-- element: struct (containsNull = true)\n |    |    |    |-- card_suit: string (nullable = true)\n |    |    |    |-- card_value: integer (nullable = true)\n |    |-- game_end_timestamp: integer (nullable = true)\n |    |-- game_start_timestamp: integer (nullable = true)\n |    |-- hand_id: long (nullable = true)\n |    |-- player_details: array (nullable = true)\n |    |    |-- element: struct (containsNull = true)\n |    |    |    |-- cards: array (nullable = true)\n |    |    |    |    |-- element: struct (containsNull = true)\n |    |    |    |    |    |-- card_suit: string (nullable = true)\n |    |    |    |    |    |-- card_value: integer (nullable = true)\n |    |    |    |-- chip_stack_end: double (nullable = true)\n |    |    |    |-- chip_stack_start: double (nullable = true)\n |    |    |    |-- position: string (nullable = true)\n |    |    |    |-- profit_loss: double (nullable = true)\n |    |    |    |-- reference_number: string (nullable = true)\n |    |    |    |-- seat_index: integer (nullable = true)\n |    |    |    |-- session_id: string (nullable = true)\n |    |    |    |-- total_bets: double (nullable = true)\n |    |    |    |-- total_win: double (nullable = true)\n |    |    |    |-- user_id: long (nullable = true)\n |    |    |    |-- username: string (nullable = true)\n |    |    |    |-- rake: struct (nullable = true)\n |    |    |    |    |-- bonus_rake: double (nullable = true)\n |    |    |    |    |-- net_rake: double (nullable = true)\n |    |    |    |    |-- service_tax: double (nullable = true)\n |    |    |    |    |-- total_rake: double (nullable = true)\n |    |-- players_in_hand: integer (nullable = true)\n |    |-- rit_game: integer (nullable = true)\n |    |-- round_details: struct (nullable = true)\n |    |    |-- flop: struct (nullable = true)\n |    |    |    |-- player_action: array (nullable = true)\n |    |    |    |    |-- element: struct (containsNull = true)\n |    |    |    |    |    |-- action: string (nullable = true)\n |    |    |    |    |    |-- amount: double (nullable = true)\n |    |    |    |    |    |-- chip_stack_end: double (nullable = true)\n |    |    |    |    |    |-- chip_stack_start: double (nullable = true)\n |    |    |    |    |    |-- position: string (nullable = true)\n |    |    |    |    |    |-- timestamp: integer (nullable = true)\n |    |    |    |    |    |-- total_pot: double (nullable = true)\n |    |    |    |    |    |-- user_id: integer (nullable = true)\n |    |    |    |    |    |-- username: string (nullable = true)\n |    |    |    |-- pot_details: array (nullable = true)\n |    |    |    |    |-- element: double (containsNull = true)\n |    |    |-- preflop: struct (nullable = true)\n |    |    |    |-- player_action: array (nullable = true)\n |    |    |    |    |-- element: struct (containsNull = true)\n |    |    |    |    |    |-- action: string (nullable = true)\n |    |    |    |    |    |-- amount: double (nullable = true)\n |    |    |    |    |    |-- chip_stack_end: double (nullable = true)\n |    |    |    |    |    |-- chip_stack_start: double (nullable = true)\n |    |    |    |    |    |-- position: string (nullable = true)\n |    |    |    |    |    |-- timestamp: integer (nullable = true)\n |    |    |    |    |    |-- total_pot: double (nullable = true)\n |    |    |    |    |    |-- user_id: integer (nullable = true)\n |    |    |    |    |    |-- username: string (nullable = true)\n |    |    |    |-- pot_details: array (nullable = true)\n |    |    |    |    |-- element: double (containsNull = true)\n |    |    |-- river: struct (nullable = true)\n |    |    |    |-- player_action: array (nullable = true)\n |    |    |    |    |-- element: struct (containsNull = true)\n |    |    |    |    |    |-- action: string (nullable = true)\n |    |    |    |    |    |-- amount: double (nullable = true)\n |    |    |    |    |    |-- chip_stack_end: double (nullable = true)\n |    |    |    |    |    |-- chip_stack_start: double (nullable = true)\n |    |    |    |    |    |-- position: string (nullable = true)\n |    |    |    |    |    |-- timestamp: integer (nullable = true)\n |    |    |    |    |    |-- total_pot: double (nullable = true)\n |    |    |    |    |    |-- user_id: integer (nullable = true)\n |    |    |    |    |    |-- username: string (nullable = true)\n |    |    |    |-- pot_details: array (nullable = true)\n |    |    |    |    |-- element: double (containsNull = true)\n |    |    |-- showdown: struct (nullable = true)\n |    |    |    |-- pot_details: array (nullable = true)\n |    |    |    |    |-- element: double (containsNull = true)\n |    |    |    |-- pot_details_rit: array (nullable = true)\n |    |    |    |    |-- element: double (containsNull = true)\n |    |    |    |-- pot_winners: array (nullable = true)\n |    |    |    |    |-- element: struct (containsNull = true)\n |    |    |    |    |    |-- pot_amount: double (nullable = true)\n |    |    |    |    |    |-- pot_contestants: array (nullable = true)\n |    |    |    |    |    |    |-- element: integer (containsNull = true)\n |    |    |    |    |    |-- winner_details: array (nullable = true)\n |    |    |    |    |    |    |-- element: struct (containsNull = true)\n |    |    |    |    |    |    |    |-- amount: double (nullable = true)\n |    |    |    |    |    |    |    |-- timestamp: integer (nullable = true)\n |    |    |    |    |    |    |    |-- user_id: integer (nullable = true)\n |    |    |    |    |    |    |    |-- win_type: string (nullable = true)\n |    |    |    |-- pot_winners_rit: array (nullable = true)\n |    |    |    |    |-- element: struct (containsNull = true)\n |    |    |    |    |    |-- pot_amount: double (nullable = true)\n |    |    |    |    |    |-- pot_contestants: array (nullable = true)\n |    |    |    |    |    |    |-- element: integer (containsNull = true)\n |    |    |    |    |    |-- winner_details: array (nullable = true)\n |    |    |    |    |    |    |-- element: struct (containsNull = true)\n |    |    |    |    |    |    |    |-- amount: double (nullable = true)\n |    |    |    |    |    |    |    |-- timestamp: integer (nullable = true)\n |    |    |    |    |    |    |    |-- user_id: integer (nullable = true)\n |    |    |    |    |    |    |    |-- win_type: string (nullable = true)\n |    |    |-- turn: struct (nullable = true)\n |    |    |    |-- player_action: array (nullable = true)\n |    |    |    |    |-- element: struct (containsNull = true)\n |    |    |    |    |    |-- action: string (nullable = true)\n |    |    |    |    |    |-- amount: double (nullable = true)\n |    |    |    |    |    |-- chip_stack_end: double (nullable = true)\n |    |    |    |    |    |-- chip_stack_start: double (nullable = true)\n |    |    |    |    |    |-- position: string (nullable = true)\n |    |    |    |    |    |-- timestamp: integer (nullable = true)\n |    |    |    |    |    |-- total_pot: double (nullable = true)\n |    |    |    |    |    |-- user_id: integer (nullable = true)\n |    |    |    |    |    |-- username: string (nullable = true)\n |    |    |    |-- pot_details: array (nullable = true)\n |    |    |    |    |-- element: double (containsNull = true)\n |    |-- showdown: boolean (nullable = true)\n |    |-- table_info: struct (nullable = true)\n |    |    |-- big_blind: double (nullable = true)\n |    |    |-- is_anonymous: boolean (nullable = true)\n |    |    |-- max_buyin: double (nullable = true)\n |    |    |-- min_buyin: double (nullable = true)\n |    |    |-- mini_game_type_id: string (nullable = true)\n |    |    |-- players_per_table: integer (nullable = true)\n |    |    |-- small_blind: double (nullable = true)\n |    |    |-- table_child_id: integer (nullable = true)\n |    |    |-- table_id: integer (nullable = true)\n |    |    |-- table_type: string (nullable = true)\n |    |-- total_pot: double (nullable = true)\n |    |-- user_stats: array (nullable = true)\n |    |    |-- element: struct (containsNull = true)\n |    |    |    |-- 3bet: boolean (nullable = true)\n |    |    |    |-- 3bet_opportunity: boolean (nullable = true)\n |    |    |    |-- all_in: boolean (nullable = true)\n |    |    |    |-- allin_opportunity: boolean (nullable = true)\n |    |    |    |-- flop_seen: boolean (nullable = true)\n |    |    |    |-- fold_opportunity: boolean (nullable = true)\n |    |    |    |-- hp: boolean (nullable = true)\n |    |    |    |-- pfr_count: boolean (nullable = true)\n |    |    |    |-- pfr_opportunity: boolean (nullable = true)\n |    |    |    |-- pr: boolean (nullable = true)\n |    |    |    |-- time_played: integer (nullable = true)\n |    |    |    |-- user_id: integer (nullable = true)\n |    |    |    |-- user_won: boolean (nullable = true)\n |    |    |    |-- vpip: boolean (nullable = true)\n |    |    |    |-- vpip_opportunity: boolean (nullable = true)\n |    |    |    |-- won_at_showdown: boolean (nullable = true)\n |    |    |    |-- wtsd: boolean (nullable = true)\n |    |    |    |-- fold_on_allin_opportunity: boolean (nullable = true)\n |    |    |    |-- fold: boolean (nullable = true)\n |    |    |    |-- 3bet_fold_opportunity: boolean (nullable = true)\n |    |    |    |-- steal_opportunity: boolean (nullable = true)\n |    |    |    |-- steal_attempt: boolean (nullable = true)\n |    |    |    |-- fold_on_allin: boolean (nullable = true)\n |    |    |    |-- check_n_raise_opportunity: boolean (nullable = true)\n |    |    |    |-- cbet_opportunity: boolean (nullable = true)\n |    |    |    |-- cbet_success: boolean (nullable = true)\n |    |    |    |-- fold_to_cbet_opportunity: boolean (nullable = true)\n |    |    |    |-- folded_to_cbet: boolean (nullable = true)\n |    |    |    |-- folded_to_3bet: boolean (nullable = true)\n |    |    |    |-- check_n_raise: boolean (nullable = true)\n |    |-- game_rake: struct (nullable = true)\n |    |    |-- bonus_rake: double (nullable = true)\n |    |    |-- net_rake: double (nullable = true)\n |    |    |-- service_tax: double (nullable = true)\n |    |    |-- total_rake: double (nullable = true)\n |-- event_name: string (nullable = true)\n |-- event_source: string (nullable = true)\n |-- event_timestamp: integer (nullable = true)\n |-- event_uuid: string (nullable = true)\n |-- event_version: string (nullable = true)\n |-- file_modification_time: timestamp (nullable = true)\n |-- file_path: string (nullable = true)\n |-- record_date: date (nullable = true)\n",
					"output_type": "stream"
				}
			]
		},
		{
			"cell_type": "code",
			"source": "%%sql\ndrop table `pokershot_sample_delta_database_v1`.`test`",
			"metadata": {
				"trusted": true,
				"tags": []
			},
			"execution_count": 15,
			"outputs": [
				{
					"name": "stdout",
					"text": "++\n||\n++\n++\n",
					"output_type": "stream"
				}
			]
		},
		{
			"cell_type": "code",
			"source": "%%sql\nSELECT * FROM `pokershot_sample_delta_database_v1`.`hands_bronze_data`;",
			"metadata": {
				"trusted": true,
				"tags": []
			},
			"execution_count": 18,
			"outputs": [
				{
					"name": "stdout",
					"text": "+--------------------+---------------+------------+---------------+--------------------+-------------+----------------------+--------------------+-----------+\n|          event_data|     event_name|event_source|event_timestamp|          event_uuid|event_version|file_modification_time|           file_path|record_date|\n+--------------------+---------------+------------+---------------+--------------------+-------------+----------------------+--------------------+-----------+\n|{[{DIAMOND, 8}, {...|GAME_STATS_CASH|         NEW|     1704476070|51b59aee-37a1-4b6...|       v5.1.6|   2024-01-15 10:31:53|s3://robin-poc-bu...| 2024-01-05|\n|{[{HEART, 3}, {HE...|GAME_STATS_CASH|         NEW|     1704476075|d8dcad19-f59e-4f8...|       v5.1.6|   2024-01-15 10:31:53|s3://robin-poc-bu...| 2024-01-05|\n|{[{SPADE, 11}, {H...|GAME_STATS_CASH|         NEW|     1704476086|cab36423-438a-481...|       v5.1.6|   2024-01-15 10:31:53|s3://robin-poc-bu...| 2024-01-05|\n|{[{DIAMOND, 7}, {...|GAME_STATS_CASH|         NEW|     1704476073|e2dce06c-3aa3-42c...|       v5.1.6|   2024-01-15 10:31:53|s3://robin-poc-bu...| 2024-01-05|\n|{[{DIAMOND, 12}, ...|GAME_STATS_CASH|         NEW|     1704476110|30d8f2ba-6371-4a7...|       v5.1.6|   2024-01-15 10:31:53|s3://robin-poc-bu...| 2024-01-05|\n|{[{DIAMOND, 11}, ...|GAME_STATS_CASH|         NEW|     1704476048|cb5db01a-712e-486...|       v5.1.6|   2024-01-15 10:31:53|s3://robin-poc-bu...| 2024-01-05|\n|{[{CLUB, 10}, {SP...|GAME_STATS_CASH|         NEW|     1704476084|bcfabfd6-d1f8-4a8...|       v5.1.6|   2024-01-15 10:31:53|s3://robin-poc-bu...| 2024-01-05|\n|{[{SPADE, 13}, {S...|GAME_STATS_CASH|         NEW|     1704476059|440789bb-3473-403...|       v5.1.6|   2024-01-15 10:31:53|s3://robin-poc-bu...| 2024-01-05|\n|{[{DIAMOND, 10}, ...|GAME_STATS_CASH|         NEW|     1704476109|b5e5f1c6-b4fb-4c6...|       v5.1.6|   2024-01-15 10:31:53|s3://robin-poc-bu...| 2024-01-05|\n|{[], [], 17044761...|GAME_STATS_CASH|         NEW|     1704476123|afc5fdf3-7de9-48a...|       v5.1.6|   2024-01-15 10:31:53|s3://robin-poc-bu...| 2024-01-05|\n|{[], [], 17044761...|GAME_STATS_CASH|         NEW|     1704476126|e1c9a66d-fbbb-403...|       v5.1.6|   2024-01-15 10:31:53|s3://robin-poc-bu...| 2024-01-05|\n|{[], [], 17044761...|GAME_STATS_CASH|         NEW|     1704476133|9646a23f-ee83-425...|       v5.1.6|   2024-01-15 10:31:53|s3://robin-poc-bu...| 2024-01-05|\n|{[], [], 17044761...|GAME_STATS_CASH|         NEW|     1704476131|5eda10dc-a3f5-4b1...|       v5.1.6|   2024-01-15 10:31:53|s3://robin-poc-bu...| 2024-01-05|\n|{[{CLUB, 9}, {SPA...|GAME_STATS_CASH|         NEW|     1704476113|2900a142-99f4-494...|       v5.1.6|   2024-01-15 10:31:53|s3://robin-poc-bu...| 2024-01-05|\n|{[{HEART, 3}, {HE...|GAME_STATS_CASH|         NEW|     1704476068|52ac4e14-ceb8-486...|       v5.1.6|   2024-01-15 10:31:53|s3://robin-poc-bu...| 2024-01-05|\n|{[{SPADE, 12}, {S...|GAME_STATS_CASH|         NEW|     1704476125|e0501b0e-f6e9-4bb...|       v5.1.6|   2024-01-15 10:31:53|s3://robin-poc-bu...| 2024-01-05|\n|{[{HEART, 12}, {H...|GAME_STATS_CASH|         NEW|     1704476101|5bdd3a6c-0c0a-40d...|       v5.1.6|   2024-01-15 10:31:53|s3://robin-poc-bu...| 2024-01-05|\n|{[], [], 17044761...|GAME_STATS_CASH|         NEW|     1704476120|fe26e864-60ea-496...|       v5.1.6|   2024-01-15 10:31:53|s3://robin-poc-bu...| 2024-01-05|\n|{[], [], 17044761...|GAME_STATS_CASH|         NEW|     1704476122|7c2ac388-c749-43d...|       v5.1.6|   2024-01-15 10:31:53|s3://robin-poc-bu...| 2024-01-05|\n|{[{DIAMOND, 10}, ...|GAME_STATS_CASH|         NEW|     1704476121|adfedf58-c407-49c...|       v5.1.6|   2024-01-15 10:31:53|s3://robin-poc-bu...| 2024-01-05|\n+--------------------+---------------+------------+---------------+--------------------+-------------+----------------------+--------------------+-----------+\nonly showing top 20 rows\n",
					"output_type": "stream"
				}
			]
		},
		{
			"cell_type": "code",
			"source": "",
			"metadata": {},
			"execution_count": null,
			"outputs": []
		}
	]
}