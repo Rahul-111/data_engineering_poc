{
 "cells": [
  {
   "cell_type": "code",
   "execution_count": 2,
   "id": "8e99046f",
   "metadata": {},
   "outputs": [
    {
     "name": "stdout",
     "output_type": "stream",
     "text": [
      "Name: apache-flink\r\n",
      "Version: 1.19.0\r\n",
      "Summary: Apache Flink Python API\r\n",
      "Home-page: https://flink.apache.org\r\n",
      "Author: Apache Software Foundation\r\n",
      "Author-email: dev@flink.apache.org\r\n",
      "License: https://www.apache.org/licenses/LICENSE-2.0\r\n",
      "Location: /Users/rahulsrivastav/anaconda3/lib/python3.11/site-packages\r\n",
      "Requires: apache-beam, apache-flink-libraries, avro-python3, cloudpickle, fastavro, httplib2, numpy, pandas, pemja, protobuf, py4j, pyarrow, python-dateutil, pytz, requests, ruamel.yaml\r\n",
      "Required-by: \r\n"
     ]
    }
   ],
   "source": [
    "! pip show apache-flink"
   ]
  },
  {
   "cell_type": "code",
   "execution_count": 7,
   "id": "3ae8483d",
   "metadata": {},
   "outputs": [
    {
     "name": "stdout",
     "output_type": "stream",
     "text": [
      "+--------------------------------+--------------------------------+--------------------------------+\n",
      "|                           name |                           city |                          state |\n",
      "+--------------------------------+--------------------------------+--------------------------------+\n",
      "|                Dennis Hamilton |                     Jasonville |                  Massachusetts |\n",
      "|                  Maria Collier |             East Kimberlyhaven |                        Georgia |\n",
      "|                  Joseph Spence |                       Erinfurt |                         Oregon |\n",
      "|                  Clinton Berry |                      Smithberg |                       Michigan |\n",
      "|                     Mary Ellis |                      Haashaven |                   North Dakota |\n",
      "|                 Cassandra Sims |                     East Kelly |                       Illinois |\n",
      "|                Michelle Thomas |                     Robertside |                         Alaska |\n",
      "|                    Amanda Wong |                      East Eric |                       Delaware |\n",
      "|               Virginia Bentley |                 Lake Territown |                 North Carolina |\n",
      "|                   Jeffery Vega |                  South Timothy |                        Arizona |\n",
      "+--------------------------------+--------------------------------+--------------------------------+\n",
      "10 rows in set\n"
     ]
    }
   ],
   "source": [
    "from pyflink.table import EnvironmentSettings, TableEnvironment\n",
    "from faker import Faker\n",
    "\n",
    "\n",
    "\n",
    "\n",
    "# Create a batch TableEnvironment\n",
    "env_settings = EnvironmentSettings.in_batch_mode()\n",
    "table_env = TableEnvironment.create(env_settings)\n",
    "\n",
    "# Initialize Faker\n",
    "fake = Faker()\n",
    "\n",
    "# Generate fake data and convert it into a PyFlink table with column names\n",
    "data = [(fake.name(), fake.city(), fake.state()) for _ in range(10)]  # Generate 10 rows of fake data\n",
    "\n",
    "# Define column names\n",
    "column_names = [\"name\", \"city\", \"state\"]\n",
    "\n",
    "# Create a PyFlink table with column names\n",
    "table = table_env.from_elements(data, schema=column_names)\n",
    "\n",
    "# Print the table\n",
    "table.execute().print()"
   ]
  },
  {
   "cell_type": "code",
   "execution_count": 8,
   "id": "02b76b7d",
   "metadata": {},
   "outputs": [
    {
     "name": "stdout",
     "output_type": "stream",
     "text": [
      "+--------------------------------+--------------------------------+--------------------------------+\n",
      "|                           name |                           city |                          state |\n",
      "+--------------------------------+--------------------------------+--------------------------------+\n",
      "|                Dennis Hamilton |                     Jasonville |                  Massachusetts |\n",
      "|                  Maria Collier |             East Kimberlyhaven |                        Georgia |\n",
      "|                  Joseph Spence |                       Erinfurt |                         Oregon |\n",
      "|                  Clinton Berry |                      Smithberg |                       Michigan |\n",
      "|                     Mary Ellis |                      Haashaven |                   North Dakota |\n",
      "|                 Cassandra Sims |                     East Kelly |                       Illinois |\n",
      "|                Michelle Thomas |                     Robertside |                         Alaska |\n",
      "|                    Amanda Wong |                      East Eric |                       Delaware |\n",
      "|               Virginia Bentley |                 Lake Territown |                 North Carolina |\n",
      "|                   Jeffery Vega |                  South Timothy |                        Arizona |\n",
      "+--------------------------------+--------------------------------+--------------------------------+\n",
      "10 rows in set\n"
     ]
    }
   ],
   "source": [
    "table_env.create_temporary_view('source_table', table)\n",
    "\n",
    "table_env.execute_sql(f\"SELECT * FROM source_table \").print()"
   ]
  },
  {
   "cell_type": "code",
   "execution_count": 9,
   "id": "f24accfb",
   "metadata": {},
   "outputs": [
    {
     "name": "stdout",
     "output_type": "stream",
     "text": [
      "Empty set\n"
     ]
    }
   ],
   "source": [
    "from pyflink.table.expressions import col\n",
    "\n",
    "table \\\n",
    "    .select(col(\"name\"), col(\"city\"), col(\"state\")) \\\n",
    "    .where(col(\"state\") == 'Vermont') \\\n",
    "    .execute().print()"
   ]
  },
  {
   "cell_type": "code",
   "execution_count": 10,
   "id": "c2cdd2b4",
   "metadata": {},
   "outputs": [
    {
     "name": "stdout",
     "output_type": "stream",
     "text": [
      "+--------------------------------+--------------------------------+\n",
      "|                           name |                           city |\n",
      "+--------------------------------+--------------------------------+\n",
      "|                Dennis Hamilton |                     Jasonville |\n",
      "|                  Maria Collier |             East Kimberlyhaven |\n",
      "|                  Joseph Spence |                       Erinfurt |\n",
      "|                  Clinton Berry |                      Smithberg |\n",
      "|                     Mary Ellis |                      Haashaven |\n",
      "|                 Cassandra Sims |                     East Kelly |\n",
      "|                Michelle Thomas |                     Robertside |\n",
      "|                    Amanda Wong |                      East Eric |\n",
      "|               Virginia Bentley |                 Lake Territown |\n",
      "|                   Jeffery Vega |                  South Timothy |\n",
      "+--------------------------------+--------------------------------+\n",
      "10 rows in set\n"
     ]
    }
   ],
   "source": [
    "table.select(col(\"name\"), col(\"city\")).execute().print()"
   ]
  },
  {
   "cell_type": "code",
   "execution_count": 11,
   "id": "c2c5dbdd",
   "metadata": {},
   "outputs": [
    {
     "name": "stdout",
     "output_type": "stream",
     "text": [
      "1> +I[Dennis Hamilton, Jasonville, Massachusetts]\n",
      "1> +I[Maria Collier, East Kimberlyhaven, Georgia]\n",
      "1> +I[Joseph Spence, Erinfurt, Oregon]\n",
      "1> +I[Clinton Berry, Smithberg, Michigan]\n",
      "1> +I[Mary Ellis, Haashaven, North Dakota]\n",
      "1> +I[Cassandra Sims, East Kelly, Illinois]\n",
      "1> +I[Michelle Thomas, Robertside, Alaska]\n",
      "1> +I[Amanda Wong, East Eric, Delaware]\n",
      "1> +I[Virginia Bentley, Lake Territown, North Carolina]\n",
      "1> +I[Jeffery Vega, South Timothy, Arizona]\n"
     ]
    }
   ],
   "source": [
    "table_env.execute_sql(\"\"\"\n",
    "    CREATE TABLE print_sink (\n",
    "        name STRING, \n",
    "        city STRING,\n",
    "        state STRING\n",
    "    ) WITH (\n",
    "        'connector' = 'print'\n",
    "    )\n",
    "\"\"\")\n",
    "\n",
    "table_env.execute_sql(\"\"\"\n",
    "    INSERT INTO print_sink\n",
    "        SELECT * FROM source_table\n",
    "\"\"\").wait()"
   ]
  },
  {
   "cell_type": "code",
   "execution_count": 12,
   "id": "75cbdc8b",
   "metadata": {},
   "outputs": [
    {
     "data": {
      "text/html": [
       "<div>\n",
       "<style scoped>\n",
       "    .dataframe tbody tr th:only-of-type {\n",
       "        vertical-align: middle;\n",
       "    }\n",
       "\n",
       "    .dataframe tbody tr th {\n",
       "        vertical-align: top;\n",
       "    }\n",
       "\n",
       "    .dataframe thead th {\n",
       "        text-align: right;\n",
       "    }\n",
       "</style>\n",
       "<table border=\"1\" class=\"dataframe\">\n",
       "  <thead>\n",
       "    <tr style=\"text-align: right;\">\n",
       "      <th></th>\n",
       "      <th>name</th>\n",
       "      <th>city</th>\n",
       "      <th>state</th>\n",
       "    </tr>\n",
       "  </thead>\n",
       "  <tbody>\n",
       "    <tr>\n",
       "      <th>0</th>\n",
       "      <td>Dennis Hamilton</td>\n",
       "      <td>Jasonville</td>\n",
       "      <td>Massachusetts</td>\n",
       "    </tr>\n",
       "    <tr>\n",
       "      <th>1</th>\n",
       "      <td>Maria Collier</td>\n",
       "      <td>East Kimberlyhaven</td>\n",
       "      <td>Georgia</td>\n",
       "    </tr>\n",
       "    <tr>\n",
       "      <th>2</th>\n",
       "      <td>Joseph Spence</td>\n",
       "      <td>Erinfurt</td>\n",
       "      <td>Oregon</td>\n",
       "    </tr>\n",
       "    <tr>\n",
       "      <th>3</th>\n",
       "      <td>Clinton Berry</td>\n",
       "      <td>Smithberg</td>\n",
       "      <td>Michigan</td>\n",
       "    </tr>\n",
       "    <tr>\n",
       "      <th>4</th>\n",
       "      <td>Mary Ellis</td>\n",
       "      <td>Haashaven</td>\n",
       "      <td>North Dakota</td>\n",
       "    </tr>\n",
       "    <tr>\n",
       "      <th>5</th>\n",
       "      <td>Cassandra Sims</td>\n",
       "      <td>East Kelly</td>\n",
       "      <td>Illinois</td>\n",
       "    </tr>\n",
       "    <tr>\n",
       "      <th>6</th>\n",
       "      <td>Michelle Thomas</td>\n",
       "      <td>Robertside</td>\n",
       "      <td>Alaska</td>\n",
       "    </tr>\n",
       "    <tr>\n",
       "      <th>7</th>\n",
       "      <td>Amanda Wong</td>\n",
       "      <td>East Eric</td>\n",
       "      <td>Delaware</td>\n",
       "    </tr>\n",
       "    <tr>\n",
       "      <th>8</th>\n",
       "      <td>Virginia Bentley</td>\n",
       "      <td>Lake Territown</td>\n",
       "      <td>North Carolina</td>\n",
       "    </tr>\n",
       "    <tr>\n",
       "      <th>9</th>\n",
       "      <td>Jeffery Vega</td>\n",
       "      <td>South Timothy</td>\n",
       "      <td>Arizona</td>\n",
       "    </tr>\n",
       "  </tbody>\n",
       "</table>\n",
       "</div>"
      ],
      "text/plain": [
       "               name                city           state\n",
       "0   Dennis Hamilton          Jasonville   Massachusetts\n",
       "1     Maria Collier  East Kimberlyhaven         Georgia\n",
       "2     Joseph Spence            Erinfurt          Oregon\n",
       "3     Clinton Berry           Smithberg        Michigan\n",
       "4        Mary Ellis           Haashaven    North Dakota\n",
       "5    Cassandra Sims          East Kelly        Illinois\n",
       "6   Michelle Thomas          Robertside          Alaska\n",
       "7       Amanda Wong           East Eric        Delaware\n",
       "8  Virginia Bentley      Lake Territown  North Carolina\n",
       "9      Jeffery Vega       South Timothy         Arizona"
      ]
     },
     "execution_count": 12,
     "metadata": {},
     "output_type": "execute_result"
    }
   ],
   "source": [
    "pandas_df = table.to_pandas()\n",
    "pandas_df"
   ]
  },
  {
   "cell_type": "code",
   "execution_count": 13,
   "id": "79bcb6f8",
   "metadata": {},
   "outputs": [
    {
     "name": "stdout",
     "output_type": "stream",
     "text": [
      "Connected to Elasticsearch\n"
     ]
    },
    {
     "name": "stderr",
     "output_type": "stream",
     "text": [
      "/var/folders/zt/hjfw_3fn1bb_n_fjhgwdq8480000gp/T/ipykernel_41879/3430950259.py:9: ElasticsearchWarning: Elasticsearch built-in security features are not enabled. Without authentication, your cluster could be accessible to anyone. See https://www.elastic.co/guide/en/elasticsearch/reference/7.17/security-minimal-setup.html to enable security.\n",
      "  if es.ping():\n"
     ]
    }
   ],
   "source": [
    "from elasticsearch import Elasticsearch, helpers\n",
    "\n",
    "# Connect to the Elasticsearch server\n",
    "es = Elasticsearch(\n",
    "    hosts=[\"http://localhost:9200\"]\n",
    ")\n",
    "\n",
    "# Check if the connection is established\n",
    "if es.ping():\n",
    "    print(\"Connected to Elasticsearch\")\n",
    "else:\n",
    "    print(\"Could not connect to Elasticsearch\")"
   ]
  },
  {
   "cell_type": "code",
   "execution_count": 14,
   "id": "98748d74",
   "metadata": {},
   "outputs": [],
   "source": [
    "def df_to_elasticsearch(df, index_name):\n",
    "    # Prepare the data for Elasticsearch\n",
    "    records = df.to_dict(orient='records')\n",
    "    actions = [\n",
    "        {\n",
    "            \"_index\": index_name,\n",
    "            \"_id\": record['name'],  # Optionally specify a document ID\n",
    "            \"_source\": record\n",
    "        }\n",
    "        for record in records\n",
    "    ]\n",
    "    # Bulk index the data\n",
    "    helpers.bulk(es, actions)"
   ]
  },
  {
   "cell_type": "code",
   "execution_count": 15,
   "id": "a8418e1a",
   "metadata": {},
   "outputs": [
    {
     "name": "stdout",
     "output_type": "stream",
     "text": [
      "Got 20 Hits:\n",
      "{'name': 'Bradley Johnston', 'city': 'North Brittany', 'state': 'Tennessee'}\n",
      "{'name': 'Brittany Terry', 'city': 'Burnettville', 'state': 'Virginia'}\n",
      "{'name': 'Jack Olson', 'city': 'Tinabury', 'state': 'Alabama'}\n",
      "{'name': 'Sharon Galvan', 'city': 'Evelynbury', 'state': 'Louisiana'}\n",
      "{'name': 'Judith Wiggins', 'city': 'Jenkinsborough', 'state': 'Massachusetts'}\n",
      "{'name': 'Robert Williams', 'city': 'North Gary', 'state': 'Colorado'}\n",
      "{'name': 'Louis Baker', 'city': 'Kristopherberg', 'state': 'Missouri'}\n",
      "{'name': 'Erin Alvarez', 'city': 'Port Tom', 'state': 'Vermont'}\n",
      "{'name': 'Nicholas Martinez', 'city': 'Bensonton', 'state': 'Washington'}\n",
      "{'name': 'Heather Smith', 'city': 'Kelseyborough', 'state': 'Minnesota'}\n"
     ]
    },
    {
     "name": "stderr",
     "output_type": "stream",
     "text": [
      "/var/folders/zt/hjfw_3fn1bb_n_fjhgwdq8480000gp/T/ipykernel_41879/641409911.py:3: DeprecationWarning: Passing transport options in the API method is deprecated. Use 'Elasticsearch.options()' instead.\n",
      "  es.indices.create(index=index_name, ignore=400)\n",
      "/var/folders/zt/hjfw_3fn1bb_n_fjhgwdq8480000gp/T/ipykernel_41879/641409911.py:3: ElasticsearchWarning: Elasticsearch built-in security features are not enabled. Without authentication, your cluster could be accessible to anyone. See https://www.elastic.co/guide/en/elasticsearch/reference/7.17/security-minimal-setup.html to enable security.\n",
      "  es.indices.create(index=index_name, ignore=400)\n",
      "/var/folders/zt/hjfw_3fn1bb_n_fjhgwdq8480000gp/T/ipykernel_41879/1524865567.py:13: ElasticsearchWarning: Elasticsearch built-in security features are not enabled. Without authentication, your cluster could be accessible to anyone. See https://www.elastic.co/guide/en/elasticsearch/reference/7.17/security-minimal-setup.html to enable security.\n",
      "  helpers.bulk(es, actions)\n",
      "/var/folders/zt/hjfw_3fn1bb_n_fjhgwdq8480000gp/T/ipykernel_41879/641409911.py:7: ElasticsearchWarning: Elasticsearch built-in security features are not enabled. Without authentication, your cluster could be accessible to anyone. See https://www.elastic.co/guide/en/elasticsearch/reference/7.17/security-minimal-setup.html to enable security.\n",
      "  es.indices.refresh(index=index_name)\n",
      "/var/folders/zt/hjfw_3fn1bb_n_fjhgwdq8480000gp/T/ipykernel_41879/641409911.py:10: ElasticsearchWarning: Elasticsearch built-in security features are not enabled. Without authentication, your cluster could be accessible to anyone. See https://www.elastic.co/guide/en/elasticsearch/reference/7.17/security-minimal-setup.html to enable security.\n",
      "  res = es.search(index=index_name, query={\"match_all\": {}})\n"
     ]
    }
   ],
   "source": [
    "# Create an index and index the DataFrame\n",
    "index_name = 'test-index-pandas-v1'\n",
    "es.indices.create(index=index_name, ignore=400)\n",
    "df_to_elasticsearch(pandas_df, index_name)\n",
    "\n",
    "# Refresh the index to make the documents searchable\n",
    "es.indices.refresh(index=index_name)\n",
    "\n",
    "# Search the index to verify\n",
    "res = es.search(index=index_name, query={\"match_all\": {}})\n",
    "print(\"Got %d Hits:\" % res['hits']['total']['value'])\n",
    "for hit in res['hits']['hits']:\n",
    "    print(hit[\"_source\"])"
   ]
  },
  {
   "cell_type": "code",
   "execution_count": 16,
   "id": "82dc38b1",
   "metadata": {},
   "outputs": [
    {
     "name": "stdout",
     "output_type": "stream",
     "text": [
      "List of indices:\n",
      ".kibana_7.17.21_001\n",
      ".kibana-event-log-7.17.21-000001\n",
      ".apm-custom-link\n",
      ".kibana_task_manager_7.17.21_001\n",
      ".apm-agent-configuration\n",
      "test-index-pandas-v1\n"
     ]
    },
    {
     "name": "stderr",
     "output_type": "stream",
     "text": [
      "/var/folders/zt/hjfw_3fn1bb_n_fjhgwdq8480000gp/T/ipykernel_41879/72052166.py:1: ElasticsearchWarning: Elasticsearch built-in security features are not enabled. Without authentication, your cluster could be accessible to anyone. See https://www.elastic.co/guide/en/elasticsearch/reference/7.17/security-minimal-setup.html to enable security.\n",
      "  indices = es.indices.get_alias(index=\"*\")\n",
      "/var/folders/zt/hjfw_3fn1bb_n_fjhgwdq8480000gp/T/ipykernel_41879/72052166.py:1: ElasticsearchWarning: this request accesses system indices: [.kibana_7.17.21_001, .apm-custom-link, .kibana_task_manager_7.17.21_001, .apm-agent-configuration], but in a future major version, direct access to system indices will be prevented by default\n",
      "  indices = es.indices.get_alias(index=\"*\")\n"
     ]
    }
   ],
   "source": [
    "indices = es.indices.get_alias(index=\"*\")\n",
    "print(\"List of indices:\")\n",
    "for index in indices:\n",
    "    print(index)"
   ]
  },
  {
   "cell_type": "code",
   "execution_count": 17,
   "id": "7c6e1c00",
   "metadata": {},
   "outputs": [],
   "source": [
    "import os"
   ]
  },
  {
   "cell_type": "code",
   "execution_count": 18,
   "id": "cdfa1116",
   "metadata": {},
   "outputs": [],
   "source": [
    "CURRENT_DIR = os.getcwd()  # Get the current working directory"
   ]
  },
  {
   "cell_type": "code",
   "execution_count": 20,
   "id": "f9a945e5",
   "metadata": {},
   "outputs": [
    {
     "data": {
      "text/plain": [
       "'/Users/rahulsrivastav/Documents/Notebook'"
      ]
     },
     "execution_count": 20,
     "metadata": {},
     "output_type": "execute_result"
    }
   ],
   "source": [
    "CURRENT_DIR"
   ]
  },
  {
   "cell_type": "code",
   "execution_count": 21,
   "id": "bccdbd2a",
   "metadata": {},
   "outputs": [
    {
     "data": {
      "text/plain": [
       "<pyflink.common.configuration.Configuration at 0x13b422390>"
      ]
     },
     "execution_count": 21,
     "metadata": {},
     "output_type": "execute_result"
    }
   ],
   "source": [
    "table_env.get_config().get_configuration().set_string(\n",
    "    \"pipeline.jars\",\n",
    "    \"file:///\" + CURRENT_DIR + \"/flink_jars/flink-sql-connector-elasticsearch7-3.0.1-1.17.jar\",\n",
    ")"
   ]
  },
  {
   "cell_type": "code",
   "execution_count": 32,
   "id": "3520cee6",
   "metadata": {},
   "outputs": [],
   "source": [
    "# from pyflink.datastream import StreamExecutionEnvironment\n",
    "# from pyflink.table import StreamTableEnvironment, DataTypes\n",
    "# from elasticsearch import Elasticsearch"
   ]
  },
  {
   "cell_type": "code",
   "execution_count": 33,
   "id": "9c81a3d3",
   "metadata": {},
   "outputs": [],
   "source": [
    "# env = StreamExecutionEnvironment.get_execution_environment()\n",
    "# t_env = StreamTableEnvironment.create(env)"
   ]
  },
  {
   "cell_type": "code",
   "execution_count": 34,
   "id": "c8108b0f",
   "metadata": {},
   "outputs": [],
   "source": [
    "# es_hosts = [{\"host\": \"localhost\", \"port\": 9200}]\n",
    "# es_index = \"your-index\"\n",
    "\n",
    "# # Function to write data to Elasticsearch\n",
    "# def write_to_es(record):\n",
    "#     es = Elasticsearch(hosts=es_hosts)\n",
    "#     # Write record to Elasticsearch\n",
    "#     es.index(index=es_index, body=record)\n",
    "\n",
    "# # Stream Table API: Convert your table to a stream and write to Elasticsearch\n",
    "# t_env.to_append_stream('print_sink', DataTypes.ROW())\n",
    "\n",
    "# # Execute the job\n",
    "# env.execute(\"Write to Elasticsearch\")"
   ]
  },
  {
   "cell_type": "code",
   "execution_count": 35,
   "id": "1895d47b",
   "metadata": {},
   "outputs": [
    {
     "data": {
      "text/plain": [
       "<pyflink.table.table_result.TableResult at 0x13b535b50>"
      ]
     },
     "execution_count": 35,
     "metadata": {},
     "output_type": "execute_result"
    }
   ],
   "source": [
    "# Define sink table DDL\n",
    "sink_ddl = \"\"\"\n",
    "    CREATE OR REPLACE TABLE sink_table2(\n",
    "        name VARCHAR,\n",
    "        city VARCHAR,\n",
    "        state VARCHAR\n",
    "    ) WITH (        \n",
    "        'connector' = 'elasticsearch-7',\n",
    "        'index' = 'demo_kafka_flink_streaming_1',\n",
    "        'hosts' = 'http://localhost:9200',\n",
    "        'format' = 'json'\n",
    "    )\n",
    "\"\"\"\n",
    "\n",
    "# Execute DDL statements to create tables\n",
    "# t_env.execute_sql(source_ddl)\n",
    "table_env.execute_sql(sink_ddl)"
   ]
  },
  {
   "cell_type": "code",
   "execution_count": 36,
   "id": "31410a05",
   "metadata": {},
   "outputs": [
    {
     "name": "stdout",
     "output_type": "stream",
     "text": [
      "+--------------+\n",
      "|   table name |\n",
      "+--------------+\n",
      "|   print_sink |\n",
      "|  sink_table2 |\n",
      "| source_table |\n",
      "+--------------+\n",
      "3 rows in set\n"
     ]
    }
   ],
   "source": [
    "table_env.execute_sql(\"show tables\").print()"
   ]
  },
  {
   "cell_type": "code",
   "execution_count": 43,
   "id": "29839520",
   "metadata": {},
   "outputs": [
    {
     "name": "stdout",
     "output_type": "stream",
     "text": [
      "+--------------------------------+--------------------------------+--------------------------------+\n",
      "|                           name |                           city |                          state |\n",
      "+--------------------------------+--------------------------------+--------------------------------+\n",
      "|                Dennis Hamilton |                     Jasonville |                  Massachusetts |\n",
      "|                  Maria Collier |             East Kimberlyhaven |                        Georgia |\n",
      "|                  Joseph Spence |                       Erinfurt |                         Oregon |\n",
      "|                  Clinton Berry |                      Smithberg |                       Michigan |\n",
      "|                     Mary Ellis |                      Haashaven |                   North Dakota |\n",
      "|                 Cassandra Sims |                     East Kelly |                       Illinois |\n",
      "|                Michelle Thomas |                     Robertside |                         Alaska |\n",
      "|                    Amanda Wong |                      East Eric |                       Delaware |\n",
      "|               Virginia Bentley |                 Lake Territown |                 North Carolina |\n",
      "|                   Jeffery Vega |                  South Timothy |                        Arizona |\n",
      "+--------------------------------+--------------------------------+--------------------------------+\n",
      "10 rows in set\n"
     ]
    }
   ],
   "source": [
    "table_env.execute_sql(\"select * from source_table\").print()"
   ]
  },
  {
   "cell_type": "code",
   "execution_count": 44,
   "id": "4866d3aa",
   "metadata": {},
   "outputs": [],
   "source": [
    "table_env.execute_sql(f\"insert into sink_table2 SELECT * FROM source_table \").wait()"
   ]
  },
  {
   "cell_type": "code",
   "execution_count": 42,
   "id": "0fc97c0b",
   "metadata": {},
   "outputs": [],
   "source": [
    "# table_env.execute_sql(\"select * from sink_table2\").print()"
   ]
  },
  {
   "cell_type": "code",
   "execution_count": null,
   "id": "5ebc268c",
   "metadata": {},
   "outputs": [],
   "source": []
  }
 ],
 "metadata": {
  "kernelspec": {
   "display_name": "Python 3 (ipykernel)",
   "language": "python",
   "name": "python3"
  },
  "language_info": {
   "codemirror_mode": {
    "name": "ipython",
    "version": 3
   },
   "file_extension": ".py",
   "mimetype": "text/x-python",
   "name": "python",
   "nbconvert_exporter": "python",
   "pygments_lexer": "ipython3",
   "version": "3.11.5"
  }
 },
 "nbformat": 4,
 "nbformat_minor": 5
}
